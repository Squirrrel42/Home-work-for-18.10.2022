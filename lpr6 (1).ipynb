{
  "metadata": {
    "kernelspec": {
      "name": "python",
      "display_name": "Python (Pyodide)",
      "language": "python"
    },
    "language_info": {
      "codemirror_mode": {
        "name": "python",
        "version": 3
      },
      "file_extension": ".py",
      "mimetype": "text/x-python",
      "name": "python",
      "nbconvert_exporter": "python",
      "pygments_lexer": "ipython3",
      "version": "3.8"
    }
  },
  "nbformat_minor": 4,
  "nbformat": 4,
  "cells": [
    {
      "cell_type": "code",
      "source": "import pandas as pd\nimport numpy as np",
      "metadata": {
        "trusted": true
      },
      "execution_count": 2,
      "outputs": []
    },
    {
      "cell_type": "markdown",
      "source": "## Обзор данных",
      "metadata": {}
    },
    {
      "cell_type": "markdown",
      "source": "Для считывания данных используется функция `pd.read_csv`. У этой функции много аргументов (см. документацию), первый из которых - название считываемого файла с данными, второй - sep - разделитель, по умолчанию это запятая. Данные в csv файлах (обычно, но не всегда) записаны в виде \"таблицы\". Одна запись - одна строка, данные столбцов разделяются запятыми.",
      "metadata": {}
    },
    {
      "cell_type": "markdown",
      "source": "Для работы с файлом его, как и обычный текстовый файл (впрочем, это и есть обычный текстовый файл!), удобнее положить в ту же директорию, где лежит ноутбук. Затем вы можете прямо через jupyter открыть файл `csv` и увидеть, как он выглядит.",
      "metadata": {}
    },
    {
      "cell_type": "code",
      "source": "f = pd.read_csv(\"telecom_churn.csv\")",
      "metadata": {
        "trusted": true
      },
      "execution_count": 3,
      "outputs": []
    },
    {
      "cell_type": "markdown",
      "source": "Посмотреть начало и конец таблицы (по умолчанию 5 строк, но это настраиваемый параметр) - функции `head` и `tail`. Описание данных - `describe`, `info`. Размер таблицы - `shape`, названия колонок - `columns`. Обратите внимание, что `columns` возвращает итерируемый объект.",
      "metadata": {}
    },
    {
      "cell_type": "code",
      "source": "f.head()",
      "metadata": {
        "trusted": true
      },
      "execution_count": 47,
      "outputs": [
        {
          "execution_count": 47,
          "output_type": "execute_result",
          "data": {
            "text/plain": "  State  Account length  Area code International plan Voice mail plan  \\\n0    KS             128        415                 No             Yes   \n1    OH             107        415                 No             Yes   \n2    NJ             137        415                 No              No   \n3    OH              84        408                Yes              No   \n4    OK              75        415                Yes              No   \n\n   Number vmail messages  Total day minutes  Total day calls  \\\n0                     25              265.1              110   \n1                     26              161.6              123   \n2                      0              243.4              114   \n3                      0              299.4               71   \n4                      0              166.7              113   \n\n   Total day charge  Total eve minutes  Total eve calls  Total eve charge  \\\n0             45.07              197.4               99             16.78   \n1             27.47              195.5              103             16.62   \n2             41.38              121.2              110             10.30   \n3             50.90               61.9               88              5.26   \n4             28.34              148.3              122             12.61   \n\n   Total night minutes  Total night calls  Total night charge  \\\n0                244.7                 91               11.01   \n1                254.4                103               11.45   \n2                162.6                104                7.32   \n3                196.9                 89                8.86   \n4                186.9                121                8.41   \n\n   Total intl minutes  Total intl calls  Total intl charge  \\\n0                10.0                 3               2.70   \n1                13.7                 3               3.70   \n2                12.2                 5               3.29   \n3                 6.6                 7               1.78   \n4                10.1                 3               2.73   \n\n   Customer service calls  Churn  \n0                       1  False  \n1                       1  False  \n2                       0  False  \n3                       2  False  \n4                       3  False  ",
            "text/html": "<div>\n<style scoped>\n    .dataframe tbody tr th:only-of-type {\n        vertical-align: middle;\n    }\n\n    .dataframe tbody tr th {\n        vertical-align: top;\n    }\n\n    .dataframe thead th {\n        text-align: right;\n    }\n</style>\n<table border=\"1\" class=\"dataframe\">\n  <thead>\n    <tr style=\"text-align: right;\">\n      <th></th>\n      <th>State</th>\n      <th>Account length</th>\n      <th>Area code</th>\n      <th>International plan</th>\n      <th>Voice mail plan</th>\n      <th>Number vmail messages</th>\n      <th>Total day minutes</th>\n      <th>Total day calls</th>\n      <th>Total day charge</th>\n      <th>Total eve minutes</th>\n      <th>Total eve calls</th>\n      <th>Total eve charge</th>\n      <th>Total night minutes</th>\n      <th>Total night calls</th>\n      <th>Total night charge</th>\n      <th>Total intl minutes</th>\n      <th>Total intl calls</th>\n      <th>Total intl charge</th>\n      <th>Customer service calls</th>\n      <th>Churn</th>\n    </tr>\n  </thead>\n  <tbody>\n    <tr>\n      <th>0</th>\n      <td>KS</td>\n      <td>128</td>\n      <td>415</td>\n      <td>No</td>\n      <td>Yes</td>\n      <td>25</td>\n      <td>265.1</td>\n      <td>110</td>\n      <td>45.07</td>\n      <td>197.4</td>\n      <td>99</td>\n      <td>16.78</td>\n      <td>244.7</td>\n      <td>91</td>\n      <td>11.01</td>\n      <td>10.0</td>\n      <td>3</td>\n      <td>2.70</td>\n      <td>1</td>\n      <td>False</td>\n    </tr>\n    <tr>\n      <th>1</th>\n      <td>OH</td>\n      <td>107</td>\n      <td>415</td>\n      <td>No</td>\n      <td>Yes</td>\n      <td>26</td>\n      <td>161.6</td>\n      <td>123</td>\n      <td>27.47</td>\n      <td>195.5</td>\n      <td>103</td>\n      <td>16.62</td>\n      <td>254.4</td>\n      <td>103</td>\n      <td>11.45</td>\n      <td>13.7</td>\n      <td>3</td>\n      <td>3.70</td>\n      <td>1</td>\n      <td>False</td>\n    </tr>\n    <tr>\n      <th>2</th>\n      <td>NJ</td>\n      <td>137</td>\n      <td>415</td>\n      <td>No</td>\n      <td>No</td>\n      <td>0</td>\n      <td>243.4</td>\n      <td>114</td>\n      <td>41.38</td>\n      <td>121.2</td>\n      <td>110</td>\n      <td>10.30</td>\n      <td>162.6</td>\n      <td>104</td>\n      <td>7.32</td>\n      <td>12.2</td>\n      <td>5</td>\n      <td>3.29</td>\n      <td>0</td>\n      <td>False</td>\n    </tr>\n    <tr>\n      <th>3</th>\n      <td>OH</td>\n      <td>84</td>\n      <td>408</td>\n      <td>Yes</td>\n      <td>No</td>\n      <td>0</td>\n      <td>299.4</td>\n      <td>71</td>\n      <td>50.90</td>\n      <td>61.9</td>\n      <td>88</td>\n      <td>5.26</td>\n      <td>196.9</td>\n      <td>89</td>\n      <td>8.86</td>\n      <td>6.6</td>\n      <td>7</td>\n      <td>1.78</td>\n      <td>2</td>\n      <td>False</td>\n    </tr>\n    <tr>\n      <th>4</th>\n      <td>OK</td>\n      <td>75</td>\n      <td>415</td>\n      <td>Yes</td>\n      <td>No</td>\n      <td>0</td>\n      <td>166.7</td>\n      <td>113</td>\n      <td>28.34</td>\n      <td>148.3</td>\n      <td>122</td>\n      <td>12.61</td>\n      <td>186.9</td>\n      <td>121</td>\n      <td>8.41</td>\n      <td>10.1</td>\n      <td>3</td>\n      <td>2.73</td>\n      <td>3</td>\n      <td>False</td>\n    </tr>\n  </tbody>\n</table>\n</div>"
          },
          "metadata": {}
        }
      ]
    },
    {
      "cell_type": "code",
      "source": "f.head(7)",
      "metadata": {
        "trusted": true
      },
      "execution_count": 4,
      "outputs": [
        {
          "execution_count": 4,
          "output_type": "execute_result",
          "data": {
            "text/plain": "  State  Account length  Area code International plan Voice mail plan  \\\n0    KS             128        415                 No             Yes   \n1    OH             107        415                 No             Yes   \n2    NJ             137        415                 No              No   \n3    OH              84        408                Yes              No   \n4    OK              75        415                Yes              No   \n5    AL             118        510                Yes              No   \n6    MA             121        510                 No             Yes   \n\n   Number vmail messages  Total day minutes  Total day calls  \\\n0                     25              265.1              110   \n1                     26              161.6              123   \n2                      0              243.4              114   \n3                      0              299.4               71   \n4                      0              166.7              113   \n5                      0              223.4               98   \n6                     24              218.2               88   \n\n   Total day charge  Total eve minutes  Total eve calls  Total eve charge  \\\n0             45.07              197.4               99             16.78   \n1             27.47              195.5              103             16.62   \n2             41.38              121.2              110             10.30   \n3             50.90               61.9               88              5.26   \n4             28.34              148.3              122             12.61   \n5             37.98              220.6              101             18.75   \n6             37.09              348.5              108             29.62   \n\n   Total night minutes  Total night calls  Total night charge  \\\n0                244.7                 91               11.01   \n1                254.4                103               11.45   \n2                162.6                104                7.32   \n3                196.9                 89                8.86   \n4                186.9                121                8.41   \n5                203.9                118                9.18   \n6                212.6                118                9.57   \n\n   Total intl minutes  Total intl calls  Total intl charge  \\\n0                10.0                 3               2.70   \n1                13.7                 3               3.70   \n2                12.2                 5               3.29   \n3                 6.6                 7               1.78   \n4                10.1                 3               2.73   \n5                 6.3                 6               1.70   \n6                 7.5                 7               2.03   \n\n   Customer service calls  Churn  \n0                       1  False  \n1                       1  False  \n2                       0  False  \n3                       2  False  \n4                       3  False  \n5                       0  False  \n6                       3  False  ",
            "text/html": "<div>\n<style scoped>\n    .dataframe tbody tr th:only-of-type {\n        vertical-align: middle;\n    }\n\n    .dataframe tbody tr th {\n        vertical-align: top;\n    }\n\n    .dataframe thead th {\n        text-align: right;\n    }\n</style>\n<table border=\"1\" class=\"dataframe\">\n  <thead>\n    <tr style=\"text-align: right;\">\n      <th></th>\n      <th>State</th>\n      <th>Account length</th>\n      <th>Area code</th>\n      <th>International plan</th>\n      <th>Voice mail plan</th>\n      <th>Number vmail messages</th>\n      <th>Total day minutes</th>\n      <th>Total day calls</th>\n      <th>Total day charge</th>\n      <th>Total eve minutes</th>\n      <th>Total eve calls</th>\n      <th>Total eve charge</th>\n      <th>Total night minutes</th>\n      <th>Total night calls</th>\n      <th>Total night charge</th>\n      <th>Total intl minutes</th>\n      <th>Total intl calls</th>\n      <th>Total intl charge</th>\n      <th>Customer service calls</th>\n      <th>Churn</th>\n    </tr>\n  </thead>\n  <tbody>\n    <tr>\n      <th>0</th>\n      <td>KS</td>\n      <td>128</td>\n      <td>415</td>\n      <td>No</td>\n      <td>Yes</td>\n      <td>25</td>\n      <td>265.1</td>\n      <td>110</td>\n      <td>45.07</td>\n      <td>197.4</td>\n      <td>99</td>\n      <td>16.78</td>\n      <td>244.7</td>\n      <td>91</td>\n      <td>11.01</td>\n      <td>10.0</td>\n      <td>3</td>\n      <td>2.70</td>\n      <td>1</td>\n      <td>False</td>\n    </tr>\n    <tr>\n      <th>1</th>\n      <td>OH</td>\n      <td>107</td>\n      <td>415</td>\n      <td>No</td>\n      <td>Yes</td>\n      <td>26</td>\n      <td>161.6</td>\n      <td>123</td>\n      <td>27.47</td>\n      <td>195.5</td>\n      <td>103</td>\n      <td>16.62</td>\n      <td>254.4</td>\n      <td>103</td>\n      <td>11.45</td>\n      <td>13.7</td>\n      <td>3</td>\n      <td>3.70</td>\n      <td>1</td>\n      <td>False</td>\n    </tr>\n    <tr>\n      <th>2</th>\n      <td>NJ</td>\n      <td>137</td>\n      <td>415</td>\n      <td>No</td>\n      <td>No</td>\n      <td>0</td>\n      <td>243.4</td>\n      <td>114</td>\n      <td>41.38</td>\n      <td>121.2</td>\n      <td>110</td>\n      <td>10.30</td>\n      <td>162.6</td>\n      <td>104</td>\n      <td>7.32</td>\n      <td>12.2</td>\n      <td>5</td>\n      <td>3.29</td>\n      <td>0</td>\n      <td>False</td>\n    </tr>\n    <tr>\n      <th>3</th>\n      <td>OH</td>\n      <td>84</td>\n      <td>408</td>\n      <td>Yes</td>\n      <td>No</td>\n      <td>0</td>\n      <td>299.4</td>\n      <td>71</td>\n      <td>50.90</td>\n      <td>61.9</td>\n      <td>88</td>\n      <td>5.26</td>\n      <td>196.9</td>\n      <td>89</td>\n      <td>8.86</td>\n      <td>6.6</td>\n      <td>7</td>\n      <td>1.78</td>\n      <td>2</td>\n      <td>False</td>\n    </tr>\n    <tr>\n      <th>4</th>\n      <td>OK</td>\n      <td>75</td>\n      <td>415</td>\n      <td>Yes</td>\n      <td>No</td>\n      <td>0</td>\n      <td>166.7</td>\n      <td>113</td>\n      <td>28.34</td>\n      <td>148.3</td>\n      <td>122</td>\n      <td>12.61</td>\n      <td>186.9</td>\n      <td>121</td>\n      <td>8.41</td>\n      <td>10.1</td>\n      <td>3</td>\n      <td>2.73</td>\n      <td>3</td>\n      <td>False</td>\n    </tr>\n    <tr>\n      <th>5</th>\n      <td>AL</td>\n      <td>118</td>\n      <td>510</td>\n      <td>Yes</td>\n      <td>No</td>\n      <td>0</td>\n      <td>223.4</td>\n      <td>98</td>\n      <td>37.98</td>\n      <td>220.6</td>\n      <td>101</td>\n      <td>18.75</td>\n      <td>203.9</td>\n      <td>118</td>\n      <td>9.18</td>\n      <td>6.3</td>\n      <td>6</td>\n      <td>1.70</td>\n      <td>0</td>\n      <td>False</td>\n    </tr>\n    <tr>\n      <th>6</th>\n      <td>MA</td>\n      <td>121</td>\n      <td>510</td>\n      <td>No</td>\n      <td>Yes</td>\n      <td>24</td>\n      <td>218.2</td>\n      <td>88</td>\n      <td>37.09</td>\n      <td>348.5</td>\n      <td>108</td>\n      <td>29.62</td>\n      <td>212.6</td>\n      <td>118</td>\n      <td>9.57</td>\n      <td>7.5</td>\n      <td>7</td>\n      <td>2.03</td>\n      <td>3</td>\n      <td>False</td>\n    </tr>\n  </tbody>\n</table>\n</div>"
          },
          "metadata": {}
        }
      ]
    },
    {
      "cell_type": "code",
      "source": "f.tail()",
      "metadata": {
        "trusted": true
      },
      "execution_count": 5,
      "outputs": [
        {
          "execution_count": 5,
          "output_type": "execute_result",
          "data": {
            "text/plain": "     State  Account length  Area code International plan Voice mail plan  \\\n3328    AZ             192        415                 No             Yes   \n3329    WV              68        415                 No              No   \n3330    RI              28        510                 No              No   \n3331    CT             184        510                Yes              No   \n3332    TN              74        415                 No             Yes   \n\n      Number vmail messages  Total day minutes  Total day calls  \\\n3328                     36              156.2               77   \n3329                      0              231.1               57   \n3330                      0              180.8              109   \n3331                      0              213.8              105   \n3332                     25              234.4              113   \n\n      Total day charge  Total eve minutes  Total eve calls  Total eve charge  \\\n3328             26.55              215.5              126             18.32   \n3329             39.29              153.4               55             13.04   \n3330             30.74              288.8               58             24.55   \n3331             36.35              159.6               84             13.57   \n3332             39.85              265.9               82             22.60   \n\n      Total night minutes  Total night calls  Total night charge  \\\n3328                279.1                 83               12.56   \n3329                191.3                123                8.61   \n3330                191.9                 91                8.64   \n3331                139.2                137                6.26   \n3332                241.4                 77               10.86   \n\n      Total intl minutes  Total intl calls  Total intl charge  \\\n3328                 9.9                 6               2.67   \n3329                 9.6                 4               2.59   \n3330                14.1                 6               3.81   \n3331                 5.0                10               1.35   \n3332                13.7                 4               3.70   \n\n      Customer service calls  Churn  \n3328                       2  False  \n3329                       3  False  \n3330                       2  False  \n3331                       2  False  \n3332                       0  False  ",
            "text/html": "<div>\n<style scoped>\n    .dataframe tbody tr th:only-of-type {\n        vertical-align: middle;\n    }\n\n    .dataframe tbody tr th {\n        vertical-align: top;\n    }\n\n    .dataframe thead th {\n        text-align: right;\n    }\n</style>\n<table border=\"1\" class=\"dataframe\">\n  <thead>\n    <tr style=\"text-align: right;\">\n      <th></th>\n      <th>State</th>\n      <th>Account length</th>\n      <th>Area code</th>\n      <th>International plan</th>\n      <th>Voice mail plan</th>\n      <th>Number vmail messages</th>\n      <th>Total day minutes</th>\n      <th>Total day calls</th>\n      <th>Total day charge</th>\n      <th>Total eve minutes</th>\n      <th>Total eve calls</th>\n      <th>Total eve charge</th>\n      <th>Total night minutes</th>\n      <th>Total night calls</th>\n      <th>Total night charge</th>\n      <th>Total intl minutes</th>\n      <th>Total intl calls</th>\n      <th>Total intl charge</th>\n      <th>Customer service calls</th>\n      <th>Churn</th>\n    </tr>\n  </thead>\n  <tbody>\n    <tr>\n      <th>3328</th>\n      <td>AZ</td>\n      <td>192</td>\n      <td>415</td>\n      <td>No</td>\n      <td>Yes</td>\n      <td>36</td>\n      <td>156.2</td>\n      <td>77</td>\n      <td>26.55</td>\n      <td>215.5</td>\n      <td>126</td>\n      <td>18.32</td>\n      <td>279.1</td>\n      <td>83</td>\n      <td>12.56</td>\n      <td>9.9</td>\n      <td>6</td>\n      <td>2.67</td>\n      <td>2</td>\n      <td>False</td>\n    </tr>\n    <tr>\n      <th>3329</th>\n      <td>WV</td>\n      <td>68</td>\n      <td>415</td>\n      <td>No</td>\n      <td>No</td>\n      <td>0</td>\n      <td>231.1</td>\n      <td>57</td>\n      <td>39.29</td>\n      <td>153.4</td>\n      <td>55</td>\n      <td>13.04</td>\n      <td>191.3</td>\n      <td>123</td>\n      <td>8.61</td>\n      <td>9.6</td>\n      <td>4</td>\n      <td>2.59</td>\n      <td>3</td>\n      <td>False</td>\n    </tr>\n    <tr>\n      <th>3330</th>\n      <td>RI</td>\n      <td>28</td>\n      <td>510</td>\n      <td>No</td>\n      <td>No</td>\n      <td>0</td>\n      <td>180.8</td>\n      <td>109</td>\n      <td>30.74</td>\n      <td>288.8</td>\n      <td>58</td>\n      <td>24.55</td>\n      <td>191.9</td>\n      <td>91</td>\n      <td>8.64</td>\n      <td>14.1</td>\n      <td>6</td>\n      <td>3.81</td>\n      <td>2</td>\n      <td>False</td>\n    </tr>\n    <tr>\n      <th>3331</th>\n      <td>CT</td>\n      <td>184</td>\n      <td>510</td>\n      <td>Yes</td>\n      <td>No</td>\n      <td>0</td>\n      <td>213.8</td>\n      <td>105</td>\n      <td>36.35</td>\n      <td>159.6</td>\n      <td>84</td>\n      <td>13.57</td>\n      <td>139.2</td>\n      <td>137</td>\n      <td>6.26</td>\n      <td>5.0</td>\n      <td>10</td>\n      <td>1.35</td>\n      <td>2</td>\n      <td>False</td>\n    </tr>\n    <tr>\n      <th>3332</th>\n      <td>TN</td>\n      <td>74</td>\n      <td>415</td>\n      <td>No</td>\n      <td>Yes</td>\n      <td>25</td>\n      <td>234.4</td>\n      <td>113</td>\n      <td>39.85</td>\n      <td>265.9</td>\n      <td>82</td>\n      <td>22.60</td>\n      <td>241.4</td>\n      <td>77</td>\n      <td>10.86</td>\n      <td>13.7</td>\n      <td>4</td>\n      <td>3.70</td>\n      <td>0</td>\n      <td>False</td>\n    </tr>\n  </tbody>\n</table>\n</div>"
          },
          "metadata": {}
        }
      ]
    },
    {
      "cell_type": "code",
      "source": "f.tail(7)",
      "metadata": {
        "trusted": true
      },
      "execution_count": 6,
      "outputs": [
        {
          "execution_count": 6,
          "output_type": "execute_result",
          "data": {
            "text/plain": "     State  Account length  Area code International plan Voice mail plan  \\\n3326    OH              96        415                 No              No   \n3327    SC              79        415                 No              No   \n3328    AZ             192        415                 No             Yes   \n3329    WV              68        415                 No              No   \n3330    RI              28        510                 No              No   \n3331    CT             184        510                Yes              No   \n3332    TN              74        415                 No             Yes   \n\n      Number vmail messages  Total day minutes  Total day calls  \\\n3326                      0              106.6              128   \n3327                      0              134.7               98   \n3328                     36              156.2               77   \n3329                      0              231.1               57   \n3330                      0              180.8              109   \n3331                      0              213.8              105   \n3332                     25              234.4              113   \n\n      Total day charge  Total eve minutes  Total eve calls  Total eve charge  \\\n3326             18.12              284.8               87             24.21   \n3327             22.90              189.7               68             16.12   \n3328             26.55              215.5              126             18.32   \n3329             39.29              153.4               55             13.04   \n3330             30.74              288.8               58             24.55   \n3331             36.35              159.6               84             13.57   \n3332             39.85              265.9               82             22.60   \n\n      Total night minutes  Total night calls  Total night charge  \\\n3326                178.9                 92                8.05   \n3327                221.4                128                9.96   \n3328                279.1                 83               12.56   \n3329                191.3                123                8.61   \n3330                191.9                 91                8.64   \n3331                139.2                137                6.26   \n3332                241.4                 77               10.86   \n\n      Total intl minutes  Total intl calls  Total intl charge  \\\n3326                14.9                 7               4.02   \n3327                11.8                 5               3.19   \n3328                 9.9                 6               2.67   \n3329                 9.6                 4               2.59   \n3330                14.1                 6               3.81   \n3331                 5.0                10               1.35   \n3332                13.7                 4               3.70   \n\n      Customer service calls  Churn  \n3326                       1  False  \n3327                       2  False  \n3328                       2  False  \n3329                       3  False  \n3330                       2  False  \n3331                       2  False  \n3332                       0  False  ",
            "text/html": "<div>\n<style scoped>\n    .dataframe tbody tr th:only-of-type {\n        vertical-align: middle;\n    }\n\n    .dataframe tbody tr th {\n        vertical-align: top;\n    }\n\n    .dataframe thead th {\n        text-align: right;\n    }\n</style>\n<table border=\"1\" class=\"dataframe\">\n  <thead>\n    <tr style=\"text-align: right;\">\n      <th></th>\n      <th>State</th>\n      <th>Account length</th>\n      <th>Area code</th>\n      <th>International plan</th>\n      <th>Voice mail plan</th>\n      <th>Number vmail messages</th>\n      <th>Total day minutes</th>\n      <th>Total day calls</th>\n      <th>Total day charge</th>\n      <th>Total eve minutes</th>\n      <th>Total eve calls</th>\n      <th>Total eve charge</th>\n      <th>Total night minutes</th>\n      <th>Total night calls</th>\n      <th>Total night charge</th>\n      <th>Total intl minutes</th>\n      <th>Total intl calls</th>\n      <th>Total intl charge</th>\n      <th>Customer service calls</th>\n      <th>Churn</th>\n    </tr>\n  </thead>\n  <tbody>\n    <tr>\n      <th>3326</th>\n      <td>OH</td>\n      <td>96</td>\n      <td>415</td>\n      <td>No</td>\n      <td>No</td>\n      <td>0</td>\n      <td>106.6</td>\n      <td>128</td>\n      <td>18.12</td>\n      <td>284.8</td>\n      <td>87</td>\n      <td>24.21</td>\n      <td>178.9</td>\n      <td>92</td>\n      <td>8.05</td>\n      <td>14.9</td>\n      <td>7</td>\n      <td>4.02</td>\n      <td>1</td>\n      <td>False</td>\n    </tr>\n    <tr>\n      <th>3327</th>\n      <td>SC</td>\n      <td>79</td>\n      <td>415</td>\n      <td>No</td>\n      <td>No</td>\n      <td>0</td>\n      <td>134.7</td>\n      <td>98</td>\n      <td>22.90</td>\n      <td>189.7</td>\n      <td>68</td>\n      <td>16.12</td>\n      <td>221.4</td>\n      <td>128</td>\n      <td>9.96</td>\n      <td>11.8</td>\n      <td>5</td>\n      <td>3.19</td>\n      <td>2</td>\n      <td>False</td>\n    </tr>\n    <tr>\n      <th>3328</th>\n      <td>AZ</td>\n      <td>192</td>\n      <td>415</td>\n      <td>No</td>\n      <td>Yes</td>\n      <td>36</td>\n      <td>156.2</td>\n      <td>77</td>\n      <td>26.55</td>\n      <td>215.5</td>\n      <td>126</td>\n      <td>18.32</td>\n      <td>279.1</td>\n      <td>83</td>\n      <td>12.56</td>\n      <td>9.9</td>\n      <td>6</td>\n      <td>2.67</td>\n      <td>2</td>\n      <td>False</td>\n    </tr>\n    <tr>\n      <th>3329</th>\n      <td>WV</td>\n      <td>68</td>\n      <td>415</td>\n      <td>No</td>\n      <td>No</td>\n      <td>0</td>\n      <td>231.1</td>\n      <td>57</td>\n      <td>39.29</td>\n      <td>153.4</td>\n      <td>55</td>\n      <td>13.04</td>\n      <td>191.3</td>\n      <td>123</td>\n      <td>8.61</td>\n      <td>9.6</td>\n      <td>4</td>\n      <td>2.59</td>\n      <td>3</td>\n      <td>False</td>\n    </tr>\n    <tr>\n      <th>3330</th>\n      <td>RI</td>\n      <td>28</td>\n      <td>510</td>\n      <td>No</td>\n      <td>No</td>\n      <td>0</td>\n      <td>180.8</td>\n      <td>109</td>\n      <td>30.74</td>\n      <td>288.8</td>\n      <td>58</td>\n      <td>24.55</td>\n      <td>191.9</td>\n      <td>91</td>\n      <td>8.64</td>\n      <td>14.1</td>\n      <td>6</td>\n      <td>3.81</td>\n      <td>2</td>\n      <td>False</td>\n    </tr>\n    <tr>\n      <th>3331</th>\n      <td>CT</td>\n      <td>184</td>\n      <td>510</td>\n      <td>Yes</td>\n      <td>No</td>\n      <td>0</td>\n      <td>213.8</td>\n      <td>105</td>\n      <td>36.35</td>\n      <td>159.6</td>\n      <td>84</td>\n      <td>13.57</td>\n      <td>139.2</td>\n      <td>137</td>\n      <td>6.26</td>\n      <td>5.0</td>\n      <td>10</td>\n      <td>1.35</td>\n      <td>2</td>\n      <td>False</td>\n    </tr>\n    <tr>\n      <th>3332</th>\n      <td>TN</td>\n      <td>74</td>\n      <td>415</td>\n      <td>No</td>\n      <td>Yes</td>\n      <td>25</td>\n      <td>234.4</td>\n      <td>113</td>\n      <td>39.85</td>\n      <td>265.9</td>\n      <td>82</td>\n      <td>22.60</td>\n      <td>241.4</td>\n      <td>77</td>\n      <td>10.86</td>\n      <td>13.7</td>\n      <td>4</td>\n      <td>3.70</td>\n      <td>0</td>\n      <td>False</td>\n    </tr>\n  </tbody>\n</table>\n</div>"
          },
          "metadata": {}
        }
      ]
    },
    {
      "cell_type": "code",
      "source": "f.tail(100)",
      "metadata": {
        "trusted": true
      },
      "execution_count": 7,
      "outputs": [
        {
          "execution_count": 7,
          "output_type": "execute_result",
          "data": {
            "text/plain": "     State  Account length  Area code International plan Voice mail plan  \\\n3233    OK             112        415                 No              No   \n3234    DE              75        510                 No             Yes   \n3235    AZ              97        408                 No             Yes   \n3236    AK             121        408                 No             Yes   \n3237    MI             142        415                Yes              No   \n...    ...             ...        ...                ...             ...   \n3328    AZ             192        415                 No             Yes   \n3329    WV              68        415                 No              No   \n3330    RI              28        510                 No              No   \n3331    CT             184        510                Yes              No   \n3332    TN              74        415                 No             Yes   \n\n      Number vmail messages  Total day minutes  Total day calls  \\\n3233                      0              166.0               79   \n3234                     28              200.6               96   \n3235                     25              141.0              101   \n3236                     34              245.0               95   \n3237                      0              140.8              140   \n...                     ...                ...              ...   \n3328                     36              156.2               77   \n3329                      0              231.1               57   \n3330                      0              180.8              109   \n3331                      0              213.8              105   \n3332                     25              234.4              113   \n\n      Total day charge  Total eve minutes  Total eve calls  Total eve charge  \\\n3233             28.22               74.6              100              6.34   \n3234             34.10              164.1              111             13.95   \n3235             23.97              212.0               85             18.02   \n3236             41.65              216.9               66             18.44   \n3237             23.94              228.6              119             19.43   \n...                ...                ...              ...               ...   \n3328             26.55              215.5              126             18.32   \n3329             39.29              153.4               55             13.04   \n3330             30.74              288.8               58             24.55   \n3331             36.35              159.6               84             13.57   \n3332             39.85              265.9               82             22.60   \n\n      Total night minutes  Total night calls  Total night charge  \\\n3233                247.9                 74               11.16   \n3234                169.6                153                7.63   \n3235                175.2                138                7.88   \n3236                112.4                125                5.06   \n3237                152.9                 88                6.88   \n...                   ...                ...                 ...   \n3328                279.1                 83               12.56   \n3329                191.3                123                8.61   \n3330                191.9                 91                8.64   \n3331                139.2                137                6.26   \n3332                241.4                 77               10.86   \n\n      Total intl minutes  Total intl calls  Total intl charge  \\\n3233                 6.3                 7               1.70   \n3234                 2.5                 5               0.68   \n3235                 4.9                 2               1.32   \n3236                 7.5                 8               2.03   \n3237                10.9                 7               2.94   \n...                  ...               ...                ...   \n3328                 9.9                 6               2.67   \n3329                 9.6                 4               2.59   \n3330                14.1                 6               3.81   \n3331                 5.0                10               1.35   \n3332                13.7                 4               3.70   \n\n      Customer service calls  Churn  \n3233                       0  False  \n3234                       1  False  \n3235                       3  False  \n3236                       0  False  \n3237                       1  False  \n...                      ...    ...  \n3328                       2  False  \n3329                       3  False  \n3330                       2  False  \n3331                       2  False  \n3332                       0  False  \n\n[100 rows x 20 columns]",
            "text/html": "<div>\n<style scoped>\n    .dataframe tbody tr th:only-of-type {\n        vertical-align: middle;\n    }\n\n    .dataframe tbody tr th {\n        vertical-align: top;\n    }\n\n    .dataframe thead th {\n        text-align: right;\n    }\n</style>\n<table border=\"1\" class=\"dataframe\">\n  <thead>\n    <tr style=\"text-align: right;\">\n      <th></th>\n      <th>State</th>\n      <th>Account length</th>\n      <th>Area code</th>\n      <th>International plan</th>\n      <th>Voice mail plan</th>\n      <th>Number vmail messages</th>\n      <th>Total day minutes</th>\n      <th>Total day calls</th>\n      <th>Total day charge</th>\n      <th>Total eve minutes</th>\n      <th>Total eve calls</th>\n      <th>Total eve charge</th>\n      <th>Total night minutes</th>\n      <th>Total night calls</th>\n      <th>Total night charge</th>\n      <th>Total intl minutes</th>\n      <th>Total intl calls</th>\n      <th>Total intl charge</th>\n      <th>Customer service calls</th>\n      <th>Churn</th>\n    </tr>\n  </thead>\n  <tbody>\n    <tr>\n      <th>3233</th>\n      <td>OK</td>\n      <td>112</td>\n      <td>415</td>\n      <td>No</td>\n      <td>No</td>\n      <td>0</td>\n      <td>166.0</td>\n      <td>79</td>\n      <td>28.22</td>\n      <td>74.6</td>\n      <td>100</td>\n      <td>6.34</td>\n      <td>247.9</td>\n      <td>74</td>\n      <td>11.16</td>\n      <td>6.3</td>\n      <td>7</td>\n      <td>1.70</td>\n      <td>0</td>\n      <td>False</td>\n    </tr>\n    <tr>\n      <th>3234</th>\n      <td>DE</td>\n      <td>75</td>\n      <td>510</td>\n      <td>No</td>\n      <td>Yes</td>\n      <td>28</td>\n      <td>200.6</td>\n      <td>96</td>\n      <td>34.10</td>\n      <td>164.1</td>\n      <td>111</td>\n      <td>13.95</td>\n      <td>169.6</td>\n      <td>153</td>\n      <td>7.63</td>\n      <td>2.5</td>\n      <td>5</td>\n      <td>0.68</td>\n      <td>1</td>\n      <td>False</td>\n    </tr>\n    <tr>\n      <th>3235</th>\n      <td>AZ</td>\n      <td>97</td>\n      <td>408</td>\n      <td>No</td>\n      <td>Yes</td>\n      <td>25</td>\n      <td>141.0</td>\n      <td>101</td>\n      <td>23.97</td>\n      <td>212.0</td>\n      <td>85</td>\n      <td>18.02</td>\n      <td>175.2</td>\n      <td>138</td>\n      <td>7.88</td>\n      <td>4.9</td>\n      <td>2</td>\n      <td>1.32</td>\n      <td>3</td>\n      <td>False</td>\n    </tr>\n    <tr>\n      <th>3236</th>\n      <td>AK</td>\n      <td>121</td>\n      <td>408</td>\n      <td>No</td>\n      <td>Yes</td>\n      <td>34</td>\n      <td>245.0</td>\n      <td>95</td>\n      <td>41.65</td>\n      <td>216.9</td>\n      <td>66</td>\n      <td>18.44</td>\n      <td>112.4</td>\n      <td>125</td>\n      <td>5.06</td>\n      <td>7.5</td>\n      <td>8</td>\n      <td>2.03</td>\n      <td>0</td>\n      <td>False</td>\n    </tr>\n    <tr>\n      <th>3237</th>\n      <td>MI</td>\n      <td>142</td>\n      <td>415</td>\n      <td>Yes</td>\n      <td>No</td>\n      <td>0</td>\n      <td>140.8</td>\n      <td>140</td>\n      <td>23.94</td>\n      <td>228.6</td>\n      <td>119</td>\n      <td>19.43</td>\n      <td>152.9</td>\n      <td>88</td>\n      <td>6.88</td>\n      <td>10.9</td>\n      <td>7</td>\n      <td>2.94</td>\n      <td>1</td>\n      <td>False</td>\n    </tr>\n    <tr>\n      <th>...</th>\n      <td>...</td>\n      <td>...</td>\n      <td>...</td>\n      <td>...</td>\n      <td>...</td>\n      <td>...</td>\n      <td>...</td>\n      <td>...</td>\n      <td>...</td>\n      <td>...</td>\n      <td>...</td>\n      <td>...</td>\n      <td>...</td>\n      <td>...</td>\n      <td>...</td>\n      <td>...</td>\n      <td>...</td>\n      <td>...</td>\n      <td>...</td>\n      <td>...</td>\n    </tr>\n    <tr>\n      <th>3328</th>\n      <td>AZ</td>\n      <td>192</td>\n      <td>415</td>\n      <td>No</td>\n      <td>Yes</td>\n      <td>36</td>\n      <td>156.2</td>\n      <td>77</td>\n      <td>26.55</td>\n      <td>215.5</td>\n      <td>126</td>\n      <td>18.32</td>\n      <td>279.1</td>\n      <td>83</td>\n      <td>12.56</td>\n      <td>9.9</td>\n      <td>6</td>\n      <td>2.67</td>\n      <td>2</td>\n      <td>False</td>\n    </tr>\n    <tr>\n      <th>3329</th>\n      <td>WV</td>\n      <td>68</td>\n      <td>415</td>\n      <td>No</td>\n      <td>No</td>\n      <td>0</td>\n      <td>231.1</td>\n      <td>57</td>\n      <td>39.29</td>\n      <td>153.4</td>\n      <td>55</td>\n      <td>13.04</td>\n      <td>191.3</td>\n      <td>123</td>\n      <td>8.61</td>\n      <td>9.6</td>\n      <td>4</td>\n      <td>2.59</td>\n      <td>3</td>\n      <td>False</td>\n    </tr>\n    <tr>\n      <th>3330</th>\n      <td>RI</td>\n      <td>28</td>\n      <td>510</td>\n      <td>No</td>\n      <td>No</td>\n      <td>0</td>\n      <td>180.8</td>\n      <td>109</td>\n      <td>30.74</td>\n      <td>288.8</td>\n      <td>58</td>\n      <td>24.55</td>\n      <td>191.9</td>\n      <td>91</td>\n      <td>8.64</td>\n      <td>14.1</td>\n      <td>6</td>\n      <td>3.81</td>\n      <td>2</td>\n      <td>False</td>\n    </tr>\n    <tr>\n      <th>3331</th>\n      <td>CT</td>\n      <td>184</td>\n      <td>510</td>\n      <td>Yes</td>\n      <td>No</td>\n      <td>0</td>\n      <td>213.8</td>\n      <td>105</td>\n      <td>36.35</td>\n      <td>159.6</td>\n      <td>84</td>\n      <td>13.57</td>\n      <td>139.2</td>\n      <td>137</td>\n      <td>6.26</td>\n      <td>5.0</td>\n      <td>10</td>\n      <td>1.35</td>\n      <td>2</td>\n      <td>False</td>\n    </tr>\n    <tr>\n      <th>3332</th>\n      <td>TN</td>\n      <td>74</td>\n      <td>415</td>\n      <td>No</td>\n      <td>Yes</td>\n      <td>25</td>\n      <td>234.4</td>\n      <td>113</td>\n      <td>39.85</td>\n      <td>265.9</td>\n      <td>82</td>\n      <td>22.60</td>\n      <td>241.4</td>\n      <td>77</td>\n      <td>10.86</td>\n      <td>13.7</td>\n      <td>4</td>\n      <td>3.70</td>\n      <td>0</td>\n      <td>False</td>\n    </tr>\n  </tbody>\n</table>\n<p>100 rows × 20 columns</p>\n</div>"
          },
          "metadata": {}
        }
      ]
    },
    {
      "cell_type": "code",
      "source": "f.shape",
      "metadata": {
        "trusted": true
      },
      "execution_count": 8,
      "outputs": [
        {
          "execution_count": 8,
          "output_type": "execute_result",
          "data": {
            "text/plain": "(3333, 20)"
          },
          "metadata": {}
        }
      ]
    },
    {
      "cell_type": "code",
      "source": "f.columns2",
      "metadata": {
        "trusted": true
      },
      "execution_count": 9,
      "outputs": [
        {
          "execution_count": 9,
          "output_type": "execute_result",
          "data": {
            "text/plain": "Index(['State', 'Account length', 'Area code', 'International plan',\n       'Voice mail plan', 'Number vmail messages', 'Total day minutes',\n       'Total day calls', 'Total day charge', 'Total eve minutes',\n       'Total eve calls', 'Total eve charge', 'Total night minutes',\n       'Total night calls', 'Total night charge', 'Total intl minutes',\n       'Total intl calls', 'Total intl charge', 'Customer service calls',\n       'Churn'],\n      dtype='object')"
          },
          "metadata": {}
        }
      ]
    },
    {
      "cell_type": "code",
      "source": "f.describe()",
      "metadata": {
        "trusted": true
      },
      "execution_count": null,
      "outputs": [
        {
          "execution_count": 10,
          "output_type": "execute_result",
          "data": {
            "text/plain": "       Account length    Area code  Number vmail messages  Total day minutes  \\\ncount     3333.000000  3333.000000            3333.000000        3333.000000   \nmean       101.064806   437.182418               8.099010         179.775098   \nstd         39.822106    42.371290              13.688365          54.467389   \nmin          1.000000   408.000000               0.000000           0.000000   \n25%         74.000000   408.000000               0.000000         143.700000   \n50%        101.000000   415.000000               0.000000         179.400000   \n75%        127.000000   510.000000              20.000000         216.400000   \nmax        243.000000   510.000000              51.000000         350.800000   \n\n       Total day calls  Total day charge  Total eve minutes  Total eve calls  \\\ncount      3333.000000       3333.000000        3333.000000      3333.000000   \nmean        100.435644         30.562307         200.980348       100.114311   \nstd          20.069084          9.259435          50.713844        19.922625   \nmin           0.000000          0.000000           0.000000         0.000000   \n25%          87.000000         24.430000         166.600000        87.000000   \n50%         101.000000         30.500000         201.400000       100.000000   \n75%         114.000000         36.790000         235.300000       114.000000   \nmax         165.000000         59.640000         363.700000       170.000000   \n\n       Total eve charge  Total night minutes  Total night calls  \\\ncount       3333.000000          3333.000000        3333.000000   \nmean          17.083540           200.872037         100.107711   \nstd            4.310668            50.573847          19.568609   \nmin            0.000000            23.200000          33.000000   \n25%           14.160000           167.000000          87.000000   \n50%           17.120000           201.200000         100.000000   \n75%           20.000000           235.300000         113.000000   \nmax           30.910000           395.000000         175.000000   \n\n       Total night charge  Total intl minutes  Total intl calls  \\\ncount         3333.000000         3333.000000       3333.000000   \nmean             9.039325           10.237294          4.479448   \nstd              2.275873            2.791840          2.461214   \nmin              1.040000            0.000000          0.000000   \n25%              7.520000            8.500000          3.000000   \n50%              9.050000           10.300000          4.000000   \n75%             10.590000           12.100000          6.000000   \nmax             17.770000           20.000000         20.000000   \n\n       Total intl charge  Customer service calls  \ncount        3333.000000             3333.000000  \nmean            2.764581                1.562856  \nstd             0.753773                1.315491  \nmin             0.000000                0.000000  \n25%             2.300000                1.000000  \n50%             2.780000                1.000000  \n75%             3.270000                2.000000  \nmax             5.400000                9.000000  ",
            "text/html": "<div>\n<style scoped>\n    .dataframe tbody tr th:only-of-type {\n        vertical-align: middle;\n    }\n\n    .dataframe tbody tr th {\n        vertical-align: top;\n    }\n\n    .dataframe thead th {\n        text-align: right;\n    }\n</style>\n<table border=\"1\" class=\"dataframe\">\n  <thead>\n    <tr style=\"text-align: right;\">\n      <th></th>\n      <th>Account length</th>\n      <th>Area code</th>\n      <th>Number vmail messages</th>\n      <th>Total day minutes</th>\n      <th>Total day calls</th>\n      <th>Total day charge</th>\n      <th>Total eve minutes</th>\n      <th>Total eve calls</th>\n      <th>Total eve charge</th>\n      <th>Total night minutes</th>\n      <th>Total night calls</th>\n      <th>Total night charge</th>\n      <th>Total intl minutes</th>\n      <th>Total intl calls</th>\n      <th>Total intl charge</th>\n      <th>Customer service calls</th>\n    </tr>\n  </thead>\n  <tbody>\n    <tr>\n      <th>count</th>\n      <td>3333.000000</td>\n      <td>3333.000000</td>\n      <td>3333.000000</td>\n      <td>3333.000000</td>\n      <td>3333.000000</td>\n      <td>3333.000000</td>\n      <td>3333.000000</td>\n      <td>3333.000000</td>\n      <td>3333.000000</td>\n      <td>3333.000000</td>\n      <td>3333.000000</td>\n      <td>3333.000000</td>\n      <td>3333.000000</td>\n      <td>3333.000000</td>\n      <td>3333.000000</td>\n      <td>3333.000000</td>\n    </tr>\n    <tr>\n      <th>mean</th>\n      <td>101.064806</td>\n      <td>437.182418</td>\n      <td>8.099010</td>\n      <td>179.775098</td>\n      <td>100.435644</td>\n      <td>30.562307</td>\n      <td>200.980348</td>\n      <td>100.114311</td>\n      <td>17.083540</td>\n      <td>200.872037</td>\n      <td>100.107711</td>\n      <td>9.039325</td>\n      <td>10.237294</td>\n      <td>4.479448</td>\n      <td>2.764581</td>\n      <td>1.562856</td>\n    </tr>\n    <tr>\n      <th>std</th>\n      <td>39.822106</td>\n      <td>42.371290</td>\n      <td>13.688365</td>\n      <td>54.467389</td>\n      <td>20.069084</td>\n      <td>9.259435</td>\n      <td>50.713844</td>\n      <td>19.922625</td>\n      <td>4.310668</td>\n      <td>50.573847</td>\n      <td>19.568609</td>\n      <td>2.275873</td>\n      <td>2.791840</td>\n      <td>2.461214</td>\n      <td>0.753773</td>\n      <td>1.315491</td>\n    </tr>\n    <tr>\n      <th>min</th>\n      <td>1.000000</td>\n      <td>408.000000</td>\n      <td>0.000000</td>\n      <td>0.000000</td>\n      <td>0.000000</td>\n      <td>0.000000</td>\n      <td>0.000000</td>\n      <td>0.000000</td>\n      <td>0.000000</td>\n      <td>23.200000</td>\n      <td>33.000000</td>\n      <td>1.040000</td>\n      <td>0.000000</td>\n      <td>0.000000</td>\n      <td>0.000000</td>\n      <td>0.000000</td>\n    </tr>\n    <tr>\n      <th>25%</th>\n      <td>74.000000</td>\n      <td>408.000000</td>\n      <td>0.000000</td>\n      <td>143.700000</td>\n      <td>87.000000</td>\n      <td>24.430000</td>\n      <td>166.600000</td>\n      <td>87.000000</td>\n      <td>14.160000</td>\n      <td>167.000000</td>\n      <td>87.000000</td>\n      <td>7.520000</td>\n      <td>8.500000</td>\n      <td>3.000000</td>\n      <td>2.300000</td>\n      <td>1.000000</td>\n    </tr>\n    <tr>\n      <th>50%</th>\n      <td>101.000000</td>\n      <td>415.000000</td>\n      <td>0.000000</td>\n      <td>179.400000</td>\n      <td>101.000000</td>\n      <td>30.500000</td>\n      <td>201.400000</td>\n      <td>100.000000</td>\n      <td>17.120000</td>\n      <td>201.200000</td>\n      <td>100.000000</td>\n      <td>9.050000</td>\n      <td>10.300000</td>\n      <td>4.000000</td>\n      <td>2.780000</td>\n      <td>1.000000</td>\n    </tr>\n    <tr>\n      <th>75%</th>\n      <td>127.000000</td>\n      <td>510.000000</td>\n      <td>20.000000</td>\n      <td>216.400000</td>\n      <td>114.000000</td>\n      <td>36.790000</td>\n      <td>235.300000</td>\n      <td>114.000000</td>\n      <td>20.000000</td>\n      <td>235.300000</td>\n      <td>113.000000</td>\n      <td>10.590000</td>\n      <td>12.100000</td>\n      <td>6.000000</td>\n      <td>3.270000</td>\n      <td>2.000000</td>\n    </tr>\n    <tr>\n      <th>max</th>\n      <td>243.000000</td>\n      <td>510.000000</td>\n      <td>51.000000</td>\n      <td>350.800000</td>\n      <td>165.000000</td>\n      <td>59.640000</td>\n      <td>363.700000</td>\n      <td>170.000000</td>\n      <td>30.910000</td>\n      <td>395.000000</td>\n      <td>175.000000</td>\n      <td>17.770000</td>\n      <td>20.000000</td>\n      <td>20.000000</td>\n      <td>5.400000</td>\n      <td>9.000000</td>\n    </tr>\n  </tbody>\n</table>\n</div>"
          },
          "metadata": {}
        }
      ]
    },
    {
      "cell_type": "code",
      "source": "f.info()",
      "metadata": {
        "trusted": true
      },
      "execution_count": 11,
      "outputs": [
        {
          "name": "stdout",
          "text": "<class 'pandas.core.frame.DataFrame'>\nRangeIndex: 3333 entries, 0 to 3332\nData columns (total 20 columns):\n #   Column                  Non-Null Count  Dtype  \n---  ------                  --------------  -----  \n 0   State                   3333 non-null   object \n 1   Account length          3333 non-null   int64  \n 2   Area code               3333 non-null   int64  \n 3   International plan      3333 non-null   object \n 4   Voice mail plan         3333 non-null   object \n 5   Number vmail messages   3333 non-null   int64  \n 6   Total day minutes       3333 non-null   float64\n 7   Total day calls         3333 non-null   int64  \n 8   Total day charge        3333 non-null   float64\n 9   Total eve minutes       3333 non-null   float64\n 10  Total eve calls         3333 non-null   int64  \n 11  Total eve charge        3333 non-null   float64\n 12  Total night minutes     3333 non-null   float64\n 13  Total night calls       3333 non-null   int64  \n 14  Total night charge      3333 non-null   float64\n 15  Total intl minutes      3333 non-null   float64\n 16  Total intl calls        3333 non-null   int64  \n 17  Total intl charge       3333 non-null   float64\n 18  Customer service calls  3333 non-null   int64  \n 19  Churn                   3333 non-null   bool   \ndtypes: bool(1), float64(8), int64(8), object(3)\nmemory usage: 459.0+ KB\n",
          "output_type": "stream"
        }
      ]
    },
    {
      "cell_type": "markdown",
      "source": "Небольшое, но важное отступление. Глубоко понимать это пока не обязательно. Обратите внимание, что функция `print` возвращает строковое представление объекта и она не необходима, чтобы вывести объект. 2 ячейки сработают одинаково:",
      "metadata": {}
    },
    {
      "cell_type": "code",
      "source": "a = 1\nprint(a)",
      "metadata": {
        "trusted": true
      },
      "execution_count": 12,
      "outputs": [
        {
          "name": "stdout",
          "text": "1\n",
          "output_type": "stream"
        }
      ]
    },
    {
      "cell_type": "code",
      "source": "a = 1\na",
      "metadata": {
        "trusted": true
      },
      "execution_count": 13,
      "outputs": [
        {
          "execution_count": 13,
          "output_type": "execute_result",
          "data": {
            "text/plain": "1"
          },
          "metadata": {}
        }
      ]
    },
    {
      "cell_type": "markdown",
      "source": "При этом для некоторых объектов (для которых стандартные функции `__str__` и `__repr__` возвращают разные значения) два способа вывода сработают несколько по-разному:",
      "metadata": {}
    },
    {
      "cell_type": "code",
      "source": "a = np.array([1.0, 2.0])\nprint(a)",
      "metadata": {
        "trusted": true
      },
      "execution_count": 14,
      "outputs": [
        {
          "name": "stdout",
          "text": "[1. 2.]\n",
          "output_type": "stream"
        }
      ]
    },
    {
      "cell_type": "code",
      "source": "a = np.array([1.0, 2.0])\na",
      "metadata": {
        "trusted": true
      },
      "execution_count": 15,
      "outputs": [
        {
          "execution_count": 15,
          "output_type": "execute_result",
          "data": {
            "text/plain": "array([1., 2.])"
          },
          "metadata": {}
        }
      ]
    },
    {
      "cell_type": "markdown",
      "source": "Такая же ситуация с pandas dataframe'ами. Без print получится красивее, чем с ним, но фактически это одно и то же:",
      "metadata": {}
    },
    {
      "cell_type": "code",
      "source": "print(f)",
      "metadata": {
        "trusted": true
      },
      "execution_count": 16,
      "outputs": [
        {
          "name": "stdout",
          "text": "     State  Account length  Area code International plan Voice mail plan  \\\n0       KS             128        415                 No             Yes   \n1       OH             107        415                 No             Yes   \n2       NJ             137        415                 No              No   \n3       OH              84        408                Yes              No   \n4       OK              75        415                Yes              No   \n...    ...             ...        ...                ...             ...   \n3328    AZ             192        415                 No             Yes   \n3329    WV              68        415                 No              No   \n3330    RI              28        510                 No              No   \n3331    CT             184        510                Yes              No   \n3332    TN              74        415                 No             Yes   \n\n      Number vmail messages  Total day minutes  Total day calls  \\\n0                        25              265.1              110   \n1                        26              161.6              123   \n2                         0              243.4              114   \n3                         0              299.4               71   \n4                         0              166.7              113   \n...                     ...                ...              ...   \n3328                     36              156.2               77   \n3329                      0              231.1               57   \n3330                      0              180.8              109   \n3331                      0              213.8              105   \n3332                     25              234.4              113   \n\n      Total day charge  Total eve minutes  Total eve calls  Total eve charge  \\\n0                45.07              197.4               99             16.78   \n1                27.47              195.5              103             16.62   \n2                41.38              121.2              110             10.30   \n3                50.90               61.9               88              5.26   \n4                28.34              148.3              122             12.61   \n...                ...                ...              ...               ...   \n3328             26.55              215.5              126             18.32   \n3329             39.29              153.4               55             13.04   \n3330             30.74              288.8               58             24.55   \n3331             36.35              159.6               84             13.57   \n3332             39.85              265.9               82             22.60   \n\n      Total night minutes  Total night calls  Total night charge  \\\n0                   244.7                 91               11.01   \n1                   254.4                103               11.45   \n2                   162.6                104                7.32   \n3                   196.9                 89                8.86   \n4                   186.9                121                8.41   \n...                   ...                ...                 ...   \n3328                279.1                 83               12.56   \n3329                191.3                123                8.61   \n3330                191.9                 91                8.64   \n3331                139.2                137                6.26   \n3332                241.4                 77               10.86   \n\n      Total intl minutes  Total intl calls  Total intl charge  \\\n0                   10.0                 3               2.70   \n1                   13.7                 3               3.70   \n2                   12.2                 5               3.29   \n3                    6.6                 7               1.78   \n4                   10.1                 3               2.73   \n...                  ...               ...                ...   \n3328                 9.9                 6               2.67   \n3329                 9.6                 4               2.59   \n3330                14.1                 6               3.81   \n3331                 5.0                10               1.35   \n3332                13.7                 4               3.70   \n\n      Customer service calls  Churn  \n0                          1  False  \n1                          1  False  \n2                          0  False  \n3                          2  False  \n4                          3  False  \n...                      ...    ...  \n3328                       2  False  \n3329                       3  False  \n3330                       2  False  \n3331                       2  False  \n3332                       0  False  \n\n[3333 rows x 20 columns]\n",
          "output_type": "stream"
        }
      ]
    },
    {
      "cell_type": "code",
      "source": "f",
      "metadata": {
        "trusted": true
      },
      "execution_count": 17,
      "outputs": [
        {
          "execution_count": 17,
          "output_type": "execute_result",
          "data": {
            "text/plain": "     State  Account length  Area code International plan Voice mail plan  \\\n0       KS             128        415                 No             Yes   \n1       OH             107        415                 No             Yes   \n2       NJ             137        415                 No              No   \n3       OH              84        408                Yes              No   \n4       OK              75        415                Yes              No   \n...    ...             ...        ...                ...             ...   \n3328    AZ             192        415                 No             Yes   \n3329    WV              68        415                 No              No   \n3330    RI              28        510                 No              No   \n3331    CT             184        510                Yes              No   \n3332    TN              74        415                 No             Yes   \n\n      Number vmail messages  Total day minutes  Total day calls  \\\n0                        25              265.1              110   \n1                        26              161.6              123   \n2                         0              243.4              114   \n3                         0              299.4               71   \n4                         0              166.7              113   \n...                     ...                ...              ...   \n3328                     36              156.2               77   \n3329                      0              231.1               57   \n3330                      0              180.8              109   \n3331                      0              213.8              105   \n3332                     25              234.4              113   \n\n      Total day charge  Total eve minutes  Total eve calls  Total eve charge  \\\n0                45.07              197.4               99             16.78   \n1                27.47              195.5              103             16.62   \n2                41.38              121.2              110             10.30   \n3                50.90               61.9               88              5.26   \n4                28.34              148.3              122             12.61   \n...                ...                ...              ...               ...   \n3328             26.55              215.5              126             18.32   \n3329             39.29              153.4               55             13.04   \n3330             30.74              288.8               58             24.55   \n3331             36.35              159.6               84             13.57   \n3332             39.85              265.9               82             22.60   \n\n      Total night minutes  Total night calls  Total night charge  \\\n0                   244.7                 91               11.01   \n1                   254.4                103               11.45   \n2                   162.6                104                7.32   \n3                   196.9                 89                8.86   \n4                   186.9                121                8.41   \n...                   ...                ...                 ...   \n3328                279.1                 83               12.56   \n3329                191.3                123                8.61   \n3330                191.9                 91                8.64   \n3331                139.2                137                6.26   \n3332                241.4                 77               10.86   \n\n      Total intl minutes  Total intl calls  Total intl charge  \\\n0                   10.0                 3               2.70   \n1                   13.7                 3               3.70   \n2                   12.2                 5               3.29   \n3                    6.6                 7               1.78   \n4                   10.1                 3               2.73   \n...                  ...               ...                ...   \n3328                 9.9                 6               2.67   \n3329                 9.6                 4               2.59   \n3330                14.1                 6               3.81   \n3331                 5.0                10               1.35   \n3332                13.7                 4               3.70   \n\n      Customer service calls  Churn  \n0                          1  False  \n1                          1  False  \n2                          0  False  \n3                          2  False  \n4                          3  False  \n...                      ...    ...  \n3328                       2  False  \n3329                       3  False  \n3330                       2  False  \n3331                       2  False  \n3332                       0  False  \n\n[3333 rows x 20 columns]",
            "text/html": "<div>\n<style scoped>\n    .dataframe tbody tr th:only-of-type {\n        vertical-align: middle;\n    }\n\n    .dataframe tbody tr th {\n        vertical-align: top;\n    }\n\n    .dataframe thead th {\n        text-align: right;\n    }\n</style>\n<table border=\"1\" class=\"dataframe\">\n  <thead>\n    <tr style=\"text-align: right;\">\n      <th></th>\n      <th>State</th>\n      <th>Account length</th>\n      <th>Area code</th>\n      <th>International plan</th>\n      <th>Voice mail plan</th>\n      <th>Number vmail messages</th>\n      <th>Total day minutes</th>\n      <th>Total day calls</th>\n      <th>Total day charge</th>\n      <th>Total eve minutes</th>\n      <th>Total eve calls</th>\n      <th>Total eve charge</th>\n      <th>Total night minutes</th>\n      <th>Total night calls</th>\n      <th>Total night charge</th>\n      <th>Total intl minutes</th>\n      <th>Total intl calls</th>\n      <th>Total intl charge</th>\n      <th>Customer service calls</th>\n      <th>Churn</th>\n    </tr>\n  </thead>\n  <tbody>\n    <tr>\n      <th>0</th>\n      <td>KS</td>\n      <td>128</td>\n      <td>415</td>\n      <td>No</td>\n      <td>Yes</td>\n      <td>25</td>\n      <td>265.1</td>\n      <td>110</td>\n      <td>45.07</td>\n      <td>197.4</td>\n      <td>99</td>\n      <td>16.78</td>\n      <td>244.7</td>\n      <td>91</td>\n      <td>11.01</td>\n      <td>10.0</td>\n      <td>3</td>\n      <td>2.70</td>\n      <td>1</td>\n      <td>False</td>\n    </tr>\n    <tr>\n      <th>1</th>\n      <td>OH</td>\n      <td>107</td>\n      <td>415</td>\n      <td>No</td>\n      <td>Yes</td>\n      <td>26</td>\n      <td>161.6</td>\n      <td>123</td>\n      <td>27.47</td>\n      <td>195.5</td>\n      <td>103</td>\n      <td>16.62</td>\n      <td>254.4</td>\n      <td>103</td>\n      <td>11.45</td>\n      <td>13.7</td>\n      <td>3</td>\n      <td>3.70</td>\n      <td>1</td>\n      <td>False</td>\n    </tr>\n    <tr>\n      <th>2</th>\n      <td>NJ</td>\n      <td>137</td>\n      <td>415</td>\n      <td>No</td>\n      <td>No</td>\n      <td>0</td>\n      <td>243.4</td>\n      <td>114</td>\n      <td>41.38</td>\n      <td>121.2</td>\n      <td>110</td>\n      <td>10.30</td>\n      <td>162.6</td>\n      <td>104</td>\n      <td>7.32</td>\n      <td>12.2</td>\n      <td>5</td>\n      <td>3.29</td>\n      <td>0</td>\n      <td>False</td>\n    </tr>\n    <tr>\n      <th>3</th>\n      <td>OH</td>\n      <td>84</td>\n      <td>408</td>\n      <td>Yes</td>\n      <td>No</td>\n      <td>0</td>\n      <td>299.4</td>\n      <td>71</td>\n      <td>50.90</td>\n      <td>61.9</td>\n      <td>88</td>\n      <td>5.26</td>\n      <td>196.9</td>\n      <td>89</td>\n      <td>8.86</td>\n      <td>6.6</td>\n      <td>7</td>\n      <td>1.78</td>\n      <td>2</td>\n      <td>False</td>\n    </tr>\n    <tr>\n      <th>4</th>\n      <td>OK</td>\n      <td>75</td>\n      <td>415</td>\n      <td>Yes</td>\n      <td>No</td>\n      <td>0</td>\n      <td>166.7</td>\n      <td>113</td>\n      <td>28.34</td>\n      <td>148.3</td>\n      <td>122</td>\n      <td>12.61</td>\n      <td>186.9</td>\n      <td>121</td>\n      <td>8.41</td>\n      <td>10.1</td>\n      <td>3</td>\n      <td>2.73</td>\n      <td>3</td>\n      <td>False</td>\n    </tr>\n    <tr>\n      <th>...</th>\n      <td>...</td>\n      <td>...</td>\n      <td>...</td>\n      <td>...</td>\n      <td>...</td>\n      <td>...</td>\n      <td>...</td>\n      <td>...</td>\n      <td>...</td>\n      <td>...</td>\n      <td>...</td>\n      <td>...</td>\n      <td>...</td>\n      <td>...</td>\n      <td>...</td>\n      <td>...</td>\n      <td>...</td>\n      <td>...</td>\n      <td>...</td>\n      <td>...</td>\n    </tr>\n    <tr>\n      <th>3328</th>\n      <td>AZ</td>\n      <td>192</td>\n      <td>415</td>\n      <td>No</td>\n      <td>Yes</td>\n      <td>36</td>\n      <td>156.2</td>\n      <td>77</td>\n      <td>26.55</td>\n      <td>215.5</td>\n      <td>126</td>\n      <td>18.32</td>\n      <td>279.1</td>\n      <td>83</td>\n      <td>12.56</td>\n      <td>9.9</td>\n      <td>6</td>\n      <td>2.67</td>\n      <td>2</td>\n      <td>False</td>\n    </tr>\n    <tr>\n      <th>3329</th>\n      <td>WV</td>\n      <td>68</td>\n      <td>415</td>\n      <td>No</td>\n      <td>No</td>\n      <td>0</td>\n      <td>231.1</td>\n      <td>57</td>\n      <td>39.29</td>\n      <td>153.4</td>\n      <td>55</td>\n      <td>13.04</td>\n      <td>191.3</td>\n      <td>123</td>\n      <td>8.61</td>\n      <td>9.6</td>\n      <td>4</td>\n      <td>2.59</td>\n      <td>3</td>\n      <td>False</td>\n    </tr>\n    <tr>\n      <th>3330</th>\n      <td>RI</td>\n      <td>28</td>\n      <td>510</td>\n      <td>No</td>\n      <td>No</td>\n      <td>0</td>\n      <td>180.8</td>\n      <td>109</td>\n      <td>30.74</td>\n      <td>288.8</td>\n      <td>58</td>\n      <td>24.55</td>\n      <td>191.9</td>\n      <td>91</td>\n      <td>8.64</td>\n      <td>14.1</td>\n      <td>6</td>\n      <td>3.81</td>\n      <td>2</td>\n      <td>False</td>\n    </tr>\n    <tr>\n      <th>3331</th>\n      <td>CT</td>\n      <td>184</td>\n      <td>510</td>\n      <td>Yes</td>\n      <td>No</td>\n      <td>0</td>\n      <td>213.8</td>\n      <td>105</td>\n      <td>36.35</td>\n      <td>159.6</td>\n      <td>84</td>\n      <td>13.57</td>\n      <td>139.2</td>\n      <td>137</td>\n      <td>6.26</td>\n      <td>5.0</td>\n      <td>10</td>\n      <td>1.35</td>\n      <td>2</td>\n      <td>False</td>\n    </tr>\n    <tr>\n      <th>3332</th>\n      <td>TN</td>\n      <td>74</td>\n      <td>415</td>\n      <td>No</td>\n      <td>Yes</td>\n      <td>25</td>\n      <td>234.4</td>\n      <td>113</td>\n      <td>39.85</td>\n      <td>265.9</td>\n      <td>82</td>\n      <td>22.60</td>\n      <td>241.4</td>\n      <td>77</td>\n      <td>10.86</td>\n      <td>13.7</td>\n      <td>4</td>\n      <td>3.70</td>\n      <td>0</td>\n      <td>False</td>\n    </tr>\n  </tbody>\n</table>\n<p>3333 rows × 20 columns</p>\n</div>"
          },
          "metadata": {}
        }
      ]
    },
    {
      "cell_type": "markdown",
      "source": "2 варианта синтаксиса для просмотра содержимого столбца:",
      "metadata": {}
    },
    {
      "cell_type": "code",
      "source": "f.State",
      "metadata": {
        "trusted": true
      },
      "execution_count": 18,
      "outputs": [
        {
          "execution_count": 18,
          "output_type": "execute_result",
          "data": {
            "text/plain": "0       KS\n1       OH\n2       NJ\n3       OH\n4       OK\n        ..\n3328    AZ\n3329    WV\n3330    RI\n3331    CT\n3332    TN\nName: State, Length: 3333, dtype: object"
          },
          "metadata": {}
        }
      ]
    },
    {
      "cell_type": "code",
      "source": "f['State']",
      "metadata": {
        "trusted": true
      },
      "execution_count": 19,
      "outputs": [
        {
          "execution_count": 19,
          "output_type": "execute_result",
          "data": {
            "text/plain": "0       KS\n1       OH\n2       NJ\n3       OH\n4       OK\n        ..\n3328    AZ\n3329    WV\n3330    RI\n3331    CT\n3332    TN\nName: State, Length: 3333, dtype: object"
          },
          "metadata": {}
        }
      ]
    },
    {
      "cell_type": "markdown",
      "source": "Обратите внимание, что таблица и столбцы имеют разный тип:",
      "metadata": {}
    },
    {
      "cell_type": "code",
      "source": "type(f), type(f.State), type(f['State'])",
      "metadata": {
        "trusted": true
      },
      "execution_count": 20,
      "outputs": [
        {
          "execution_count": 20,
          "output_type": "execute_result",
          "data": {
            "text/plain": "(pandas.core.frame.DataFrame,\n pandas.core.series.Series,\n pandas.core.series.Series)"
          },
          "metadata": {}
        }
      ]
    },
    {
      "cell_type": "markdown",
      "source": "Тем не менее, мы можем сделать именно датафрейм из одного столбца следующим образом:",
      "metadata": {}
    },
    {
      "cell_type": "code",
      "source": "f[['State']]",
      "metadata": {
        "trusted": true
      },
      "execution_count": 21,
      "outputs": [
        {
          "execution_count": 21,
          "output_type": "execute_result",
          "data": {
            "text/plain": "     State\n0       KS\n1       OH\n2       NJ\n3       OH\n4       OK\n...    ...\n3328    AZ\n3329    WV\n3330    RI\n3331    CT\n3332    TN\n\n[3333 rows x 1 columns]",
            "text/html": "<div>\n<style scoped>\n    .dataframe tbody tr th:only-of-type {\n        vertical-align: middle;\n    }\n\n    .dataframe tbody tr th {\n        vertical-align: top;\n    }\n\n    .dataframe thead th {\n        text-align: right;\n    }\n</style>\n<table border=\"1\" class=\"dataframe\">\n  <thead>\n    <tr style=\"text-align: right;\">\n      <th></th>\n      <th>State</th>\n    </tr>\n  </thead>\n  <tbody>\n    <tr>\n      <th>0</th>\n      <td>KS</td>\n    </tr>\n    <tr>\n      <th>1</th>\n      <td>OH</td>\n    </tr>\n    <tr>\n      <th>2</th>\n      <td>NJ</td>\n    </tr>\n    <tr>\n      <th>3</th>\n      <td>OH</td>\n    </tr>\n    <tr>\n      <th>4</th>\n      <td>OK</td>\n    </tr>\n    <tr>\n      <th>...</th>\n      <td>...</td>\n    </tr>\n    <tr>\n      <th>3328</th>\n      <td>AZ</td>\n    </tr>\n    <tr>\n      <th>3329</th>\n      <td>WV</td>\n    </tr>\n    <tr>\n      <th>3330</th>\n      <td>RI</td>\n    </tr>\n    <tr>\n      <th>3331</th>\n      <td>CT</td>\n    </tr>\n    <tr>\n      <th>3332</th>\n      <td>TN</td>\n    </tr>\n  </tbody>\n</table>\n<p>3333 rows × 1 columns</p>\n</div>"
          },
          "metadata": {}
        }
      ]
    },
    {
      "cell_type": "code",
      "source": "type(f[['State']]), type(f['State'])",
      "metadata": {
        "trusted": true
      },
      "execution_count": 22,
      "outputs": [
        {
          "execution_count": 22,
          "output_type": "execute_result",
          "data": {
            "text/plain": "(pandas.core.frame.DataFrame, pandas.core.series.Series)"
          },
          "metadata": {}
        }
      ]
    },
    {
      "cell_type": "markdown",
      "source": "Это способ обращения к \"срезам\" таблицы по названиям столбцов. Еще пример:",
      "metadata": {}
    },
    {
      "cell_type": "code",
      "source": "f[['State', 'Churn']]",
      "metadata": {
        "trusted": true
      },
      "execution_count": 23,
      "outputs": [
        {
          "execution_count": 23,
          "output_type": "execute_result",
          "data": {
            "text/plain": "     State  Churn\n0       KS  False\n1       OH  False\n2       NJ  False\n3       OH  False\n4       OK  False\n...    ...    ...\n3328    AZ  False\n3329    WV  False\n3330    RI  False\n3331    CT  False\n3332    TN  False\n\n[3333 rows x 2 columns]",
            "text/html": "<div>\n<style scoped>\n    .dataframe tbody tr th:only-of-type {\n        vertical-align: middle;\n    }\n\n    .dataframe tbody tr th {\n        vertical-align: top;\n    }\n\n    .dataframe thead th {\n        text-align: right;\n    }\n</style>\n<table border=\"1\" class=\"dataframe\">\n  <thead>\n    <tr style=\"text-align: right;\">\n      <th></th>\n      <th>State</th>\n      <th>Churn</th>\n    </tr>\n  </thead>\n  <tbody>\n    <tr>\n      <th>0</th>\n      <td>KS</td>\n      <td>False</td>\n    </tr>\n    <tr>\n      <th>1</th>\n      <td>OH</td>\n      <td>False</td>\n    </tr>\n    <tr>\n      <th>2</th>\n      <td>NJ</td>\n      <td>False</td>\n    </tr>\n    <tr>\n      <th>3</th>\n      <td>OH</td>\n      <td>False</td>\n    </tr>\n    <tr>\n      <th>4</th>\n      <td>OK</td>\n      <td>False</td>\n    </tr>\n    <tr>\n      <th>...</th>\n      <td>...</td>\n      <td>...</td>\n    </tr>\n    <tr>\n      <th>3328</th>\n      <td>AZ</td>\n      <td>False</td>\n    </tr>\n    <tr>\n      <th>3329</th>\n      <td>WV</td>\n      <td>False</td>\n    </tr>\n    <tr>\n      <th>3330</th>\n      <td>RI</td>\n      <td>False</td>\n    </tr>\n    <tr>\n      <th>3331</th>\n      <td>CT</td>\n      <td>False</td>\n    </tr>\n    <tr>\n      <th>3332</th>\n      <td>TN</td>\n      <td>False</td>\n    </tr>\n  </tbody>\n</table>\n<p>3333 rows × 2 columns</p>\n</div>"
          },
          "metadata": {}
        }
      ]
    },
    {
      "cell_type": "markdown",
      "source": "Просмотр уникальных значений в столбце и их числа:",
      "metadata": {}
    },
    {
      "cell_type": "code",
      "source": "f.State.unique()",
      "metadata": {
        "trusted": true
      },
      "execution_count": 24,
      "outputs": [
        {
          "execution_count": 24,
          "output_type": "execute_result",
          "data": {
            "text/plain": "array(['KS', 'OH', 'NJ', 'OK', 'AL', 'MA', 'MO', 'LA', 'WV', 'IN', 'RI',\n       'IA', 'MT', 'NY', 'ID', 'VT', 'VA', 'TX', 'FL', 'CO', 'AZ', 'SC',\n       'NE', 'WY', 'HI', 'IL', 'NH', 'GA', 'AK', 'MD', 'AR', 'WI', 'OR',\n       'MI', 'DE', 'UT', 'CA', 'MN', 'SD', 'NC', 'WA', 'NM', 'NV', 'DC',\n       'KY', 'ME', 'MS', 'TN', 'PA', 'CT', 'ND'], dtype=object)"
          },
          "metadata": {}
        }
      ]
    },
    {
      "cell_type": "code",
      "source": "f.State.nunique()",
      "metadata": {
        "trusted": true
      },
      "execution_count": 25,
      "outputs": [
        {
          "execution_count": 25,
          "output_type": "execute_result",
          "data": {
            "text/plain": "51"
          },
          "metadata": {}
        }
      ]
    },
    {
      "cell_type": "markdown",
      "source": "Обращение к элементу ообъекта `pd.Series`:",
      "metadata": {}
    },
    {
      "cell_type": "code",
      "source": "f.State[0]",
      "metadata": {
        "trusted": true
      },
      "execution_count": 49,
      "outputs": [
        {
          "execution_count": 49,
          "output_type": "execute_result",
          "data": {
            "text/plain": "'KS'"
          },
          "metadata": {}
        }
      ]
    },
    {
      "cell_type": "markdown",
      "source": "Полный набор функций, применимых к столбцу можно посмотреть следующим образом. Здесь используется стандартная функция `__dir__()`, которая выводит список атрибутов и методов объекта.",
      "metadata": {}
    },
    {
      "cell_type": "code",
      "source": "f.State.__dir__()",
      "metadata": {
        "trusted": true
      },
      "execution_count": null,
      "outputs": []
    },
    {
      "cell_type": "markdown",
      "source": "С `pd.DataFrame` привычный способ обращения по индексам не сработает:",
      "metadata": {}
    },
    {
      "cell_type": "code",
      "source": "f[0][0]",
      "metadata": {
        "trusted": true
      },
      "execution_count": null,
      "outputs": []
    },
    {
      "cell_type": "markdown",
      "source": "Основной способ - использование `loc` и `iloc`. `loc` дает индексацию по \"настоящим\" индексам - названиям столбцов и названиям строк. В нашем случае, названия строк - целые числа, как обычные индексы. `iloc` позволяет осуществлять стандартную численную индексацию, как для `numpy` массивов.",
      "metadata": {}
    },
    {
      "cell_type": "code",
      "source": "f.iloc[0] # первая строка",
      "metadata": {
        "trusted": true
      },
      "execution_count": 31,
      "outputs": [
        {
          "execution_count": 31,
          "output_type": "execute_result",
          "data": {
            "text/plain": "State                        KS\nAccount length              128\nArea code                   415\nInternational plan           No\nVoice mail plan             Yes\nNumber vmail messages        25\nTotal day minutes         265.1\nTotal day calls             110\nTotal day charge          45.07\nTotal eve minutes         197.4\nTotal eve calls              99\nTotal eve charge          16.78\nTotal night minutes       244.7\nTotal night calls            91\nTotal night charge        11.01\nTotal intl minutes         10.0\nTotal intl calls              3\nTotal intl charge           2.7\nCustomer service calls        1\nChurn                     False\nName: 0, dtype: object"
          },
          "metadata": {}
        }
      ]
    },
    {
      "cell_type": "code",
      "source": "f.iloc[0][0]",
      "metadata": {
        "trusted": true
      },
      "execution_count": 50,
      "outputs": [
        {
          "execution_count": 51,
          "output_type": "execute_result",
          "data": {
            "text/plain": "'KS'"
          },
          "metadata": {}
        }
      ]
    },
    {
      "cell_type": "code",
      "source": "f.iloc[0, 0]",
      "metadata": {
        "trusted": true
      },
      "execution_count": 33,
      "outputs": [
        {
          "execution_count": 33,
          "output_type": "execute_result",
          "data": {
            "text/plain": "'KS'"
          },
          "metadata": {}
        }
      ]
    },
    {
      "cell_type": "code",
      "source": "f.iloc[[0, 0]]",
      "metadata": {
        "trusted": true
      },
      "execution_count": 34,
      "outputs": [
        {
          "execution_count": 34,
          "output_type": "execute_result",
          "data": {
            "text/plain": "  State  Account length  Area code International plan Voice mail plan  \\\n0    KS             128        415                 No             Yes   \n0    KS             128        415                 No             Yes   \n\n   Number vmail messages  Total day minutes  Total day calls  \\\n0                     25              265.1              110   \n0                     25              265.1              110   \n\n   Total day charge  Total eve minutes  Total eve calls  Total eve charge  \\\n0             45.07              197.4               99             16.78   \n0             45.07              197.4               99             16.78   \n\n   Total night minutes  Total night calls  Total night charge  \\\n0                244.7                 91               11.01   \n0                244.7                 91               11.01   \n\n   Total intl minutes  Total intl calls  Total intl charge  \\\n0                10.0                 3                2.7   \n0                10.0                 3                2.7   \n\n   Customer service calls  Churn  \n0                       1  False  \n0                       1  False  ",
            "text/html": "<div>\n<style scoped>\n    .dataframe tbody tr th:only-of-type {\n        vertical-align: middle;\n    }\n\n    .dataframe tbody tr th {\n        vertical-align: top;\n    }\n\n    .dataframe thead th {\n        text-align: right;\n    }\n</style>\n<table border=\"1\" class=\"dataframe\">\n  <thead>\n    <tr style=\"text-align: right;\">\n      <th></th>\n      <th>State</th>\n      <th>Account length</th>\n      <th>Area code</th>\n      <th>International plan</th>\n      <th>Voice mail plan</th>\n      <th>Number vmail messages</th>\n      <th>Total day minutes</th>\n      <th>Total day calls</th>\n      <th>Total day charge</th>\n      <th>Total eve minutes</th>\n      <th>Total eve calls</th>\n      <th>Total eve charge</th>\n      <th>Total night minutes</th>\n      <th>Total night calls</th>\n      <th>Total night charge</th>\n      <th>Total intl minutes</th>\n      <th>Total intl calls</th>\n      <th>Total intl charge</th>\n      <th>Customer service calls</th>\n      <th>Churn</th>\n    </tr>\n  </thead>\n  <tbody>\n    <tr>\n      <th>0</th>\n      <td>KS</td>\n      <td>128</td>\n      <td>415</td>\n      <td>No</td>\n      <td>Yes</td>\n      <td>25</td>\n      <td>265.1</td>\n      <td>110</td>\n      <td>45.07</td>\n      <td>197.4</td>\n      <td>99</td>\n      <td>16.78</td>\n      <td>244.7</td>\n      <td>91</td>\n      <td>11.01</td>\n      <td>10.0</td>\n      <td>3</td>\n      <td>2.7</td>\n      <td>1</td>\n      <td>False</td>\n    </tr>\n    <tr>\n      <th>0</th>\n      <td>KS</td>\n      <td>128</td>\n      <td>415</td>\n      <td>No</td>\n      <td>Yes</td>\n      <td>25</td>\n      <td>265.1</td>\n      <td>110</td>\n      <td>45.07</td>\n      <td>197.4</td>\n      <td>99</td>\n      <td>16.78</td>\n      <td>244.7</td>\n      <td>91</td>\n      <td>11.01</td>\n      <td>10.0</td>\n      <td>3</td>\n      <td>2.7</td>\n      <td>1</td>\n      <td>False</td>\n    </tr>\n  </tbody>\n</table>\n</div>"
          },
          "metadata": {}
        }
      ]
    },
    {
      "cell_type": "code",
      "source": "f.iloc[[1, 2, 5, 1]]",
      "metadata": {
        "trusted": true
      },
      "execution_count": 35,
      "outputs": [
        {
          "execution_count": 35,
          "output_type": "execute_result",
          "data": {
            "text/plain": "  State  Account length  Area code International plan Voice mail plan  \\\n1    OH             107        415                 No             Yes   \n2    NJ             137        415                 No              No   \n5    AL             118        510                Yes              No   \n1    OH             107        415                 No             Yes   \n\n   Number vmail messages  Total day minutes  Total day calls  \\\n1                     26              161.6              123   \n2                      0              243.4              114   \n5                      0              223.4               98   \n1                     26              161.6              123   \n\n   Total day charge  Total eve minutes  Total eve calls  Total eve charge  \\\n1             27.47              195.5              103             16.62   \n2             41.38              121.2              110             10.30   \n5             37.98              220.6              101             18.75   \n1             27.47              195.5              103             16.62   \n\n   Total night minutes  Total night calls  Total night charge  \\\n1                254.4                103               11.45   \n2                162.6                104                7.32   \n5                203.9                118                9.18   \n1                254.4                103               11.45   \n\n   Total intl minutes  Total intl calls  Total intl charge  \\\n1                13.7                 3               3.70   \n2                12.2                 5               3.29   \n5                 6.3                 6               1.70   \n1                13.7                 3               3.70   \n\n   Customer service calls  Churn  \n1                       1  False  \n2                       0  False  \n5                       0  False  \n1                       1  False  ",
            "text/html": "<div>\n<style scoped>\n    .dataframe tbody tr th:only-of-type {\n        vertical-align: middle;\n    }\n\n    .dataframe tbody tr th {\n        vertical-align: top;\n    }\n\n    .dataframe thead th {\n        text-align: right;\n    }\n</style>\n<table border=\"1\" class=\"dataframe\">\n  <thead>\n    <tr style=\"text-align: right;\">\n      <th></th>\n      <th>State</th>\n      <th>Account length</th>\n      <th>Area code</th>\n      <th>International plan</th>\n      <th>Voice mail plan</th>\n      <th>Number vmail messages</th>\n      <th>Total day minutes</th>\n      <th>Total day calls</th>\n      <th>Total day charge</th>\n      <th>Total eve minutes</th>\n      <th>Total eve calls</th>\n      <th>Total eve charge</th>\n      <th>Total night minutes</th>\n      <th>Total night calls</th>\n      <th>Total night charge</th>\n      <th>Total intl minutes</th>\n      <th>Total intl calls</th>\n      <th>Total intl charge</th>\n      <th>Customer service calls</th>\n      <th>Churn</th>\n    </tr>\n  </thead>\n  <tbody>\n    <tr>\n      <th>1</th>\n      <td>OH</td>\n      <td>107</td>\n      <td>415</td>\n      <td>No</td>\n      <td>Yes</td>\n      <td>26</td>\n      <td>161.6</td>\n      <td>123</td>\n      <td>27.47</td>\n      <td>195.5</td>\n      <td>103</td>\n      <td>16.62</td>\n      <td>254.4</td>\n      <td>103</td>\n      <td>11.45</td>\n      <td>13.7</td>\n      <td>3</td>\n      <td>3.70</td>\n      <td>1</td>\n      <td>False</td>\n    </tr>\n    <tr>\n      <th>2</th>\n      <td>NJ</td>\n      <td>137</td>\n      <td>415</td>\n      <td>No</td>\n      <td>No</td>\n      <td>0</td>\n      <td>243.4</td>\n      <td>114</td>\n      <td>41.38</td>\n      <td>121.2</td>\n      <td>110</td>\n      <td>10.30</td>\n      <td>162.6</td>\n      <td>104</td>\n      <td>7.32</td>\n      <td>12.2</td>\n      <td>5</td>\n      <td>3.29</td>\n      <td>0</td>\n      <td>False</td>\n    </tr>\n    <tr>\n      <th>5</th>\n      <td>AL</td>\n      <td>118</td>\n      <td>510</td>\n      <td>Yes</td>\n      <td>No</td>\n      <td>0</td>\n      <td>223.4</td>\n      <td>98</td>\n      <td>37.98</td>\n      <td>220.6</td>\n      <td>101</td>\n      <td>18.75</td>\n      <td>203.9</td>\n      <td>118</td>\n      <td>9.18</td>\n      <td>6.3</td>\n      <td>6</td>\n      <td>1.70</td>\n      <td>0</td>\n      <td>False</td>\n    </tr>\n    <tr>\n      <th>1</th>\n      <td>OH</td>\n      <td>107</td>\n      <td>415</td>\n      <td>No</td>\n      <td>Yes</td>\n      <td>26</td>\n      <td>161.6</td>\n      <td>123</td>\n      <td>27.47</td>\n      <td>195.5</td>\n      <td>103</td>\n      <td>16.62</td>\n      <td>254.4</td>\n      <td>103</td>\n      <td>11.45</td>\n      <td>13.7</td>\n      <td>3</td>\n      <td>3.70</td>\n      <td>1</td>\n      <td>False</td>\n    </tr>\n  </tbody>\n</table>\n</div>"
          },
          "metadata": {}
        }
      ]
    },
    {
      "cell_type": "code",
      "source": "f.loc[[1, 2, 5, 1]]",
      "metadata": {
        "trusted": true
      },
      "execution_count": 36,
      "outputs": [
        {
          "execution_count": 36,
          "output_type": "execute_result",
          "data": {
            "text/plain": "  State  Account length  Area code International plan Voice mail plan  \\\n1    OH             107        415                 No             Yes   \n2    NJ             137        415                 No              No   \n5    AL             118        510                Yes              No   \n1    OH             107        415                 No             Yes   \n\n   Number vmail messages  Total day minutes  Total day calls  \\\n1                     26              161.6              123   \n2                      0              243.4              114   \n5                      0              223.4               98   \n1                     26              161.6              123   \n\n   Total day charge  Total eve minutes  Total eve calls  Total eve charge  \\\n1             27.47              195.5              103             16.62   \n2             41.38              121.2              110             10.30   \n5             37.98              220.6              101             18.75   \n1             27.47              195.5              103             16.62   \n\n   Total night minutes  Total night calls  Total night charge  \\\n1                254.4                103               11.45   \n2                162.6                104                7.32   \n5                203.9                118                9.18   \n1                254.4                103               11.45   \n\n   Total intl minutes  Total intl calls  Total intl charge  \\\n1                13.7                 3               3.70   \n2                12.2                 5               3.29   \n5                 6.3                 6               1.70   \n1                13.7                 3               3.70   \n\n   Customer service calls  Churn  \n1                       1  False  \n2                       0  False  \n5                       0  False  \n1                       1  False  ",
            "text/html": "<div>\n<style scoped>\n    .dataframe tbody tr th:only-of-type {\n        vertical-align: middle;\n    }\n\n    .dataframe tbody tr th {\n        vertical-align: top;\n    }\n\n    .dataframe thead th {\n        text-align: right;\n    }\n</style>\n<table border=\"1\" class=\"dataframe\">\n  <thead>\n    <tr style=\"text-align: right;\">\n      <th></th>\n      <th>State</th>\n      <th>Account length</th>\n      <th>Area code</th>\n      <th>International plan</th>\n      <th>Voice mail plan</th>\n      <th>Number vmail messages</th>\n      <th>Total day minutes</th>\n      <th>Total day calls</th>\n      <th>Total day charge</th>\n      <th>Total eve minutes</th>\n      <th>Total eve calls</th>\n      <th>Total eve charge</th>\n      <th>Total night minutes</th>\n      <th>Total night calls</th>\n      <th>Total night charge</th>\n      <th>Total intl minutes</th>\n      <th>Total intl calls</th>\n      <th>Total intl charge</th>\n      <th>Customer service calls</th>\n      <th>Churn</th>\n    </tr>\n  </thead>\n  <tbody>\n    <tr>\n      <th>1</th>\n      <td>OH</td>\n      <td>107</td>\n      <td>415</td>\n      <td>No</td>\n      <td>Yes</td>\n      <td>26</td>\n      <td>161.6</td>\n      <td>123</td>\n      <td>27.47</td>\n      <td>195.5</td>\n      <td>103</td>\n      <td>16.62</td>\n      <td>254.4</td>\n      <td>103</td>\n      <td>11.45</td>\n      <td>13.7</td>\n      <td>3</td>\n      <td>3.70</td>\n      <td>1</td>\n      <td>False</td>\n    </tr>\n    <tr>\n      <th>2</th>\n      <td>NJ</td>\n      <td>137</td>\n      <td>415</td>\n      <td>No</td>\n      <td>No</td>\n      <td>0</td>\n      <td>243.4</td>\n      <td>114</td>\n      <td>41.38</td>\n      <td>121.2</td>\n      <td>110</td>\n      <td>10.30</td>\n      <td>162.6</td>\n      <td>104</td>\n      <td>7.32</td>\n      <td>12.2</td>\n      <td>5</td>\n      <td>3.29</td>\n      <td>0</td>\n      <td>False</td>\n    </tr>\n    <tr>\n      <th>5</th>\n      <td>AL</td>\n      <td>118</td>\n      <td>510</td>\n      <td>Yes</td>\n      <td>No</td>\n      <td>0</td>\n      <td>223.4</td>\n      <td>98</td>\n      <td>37.98</td>\n      <td>220.6</td>\n      <td>101</td>\n      <td>18.75</td>\n      <td>203.9</td>\n      <td>118</td>\n      <td>9.18</td>\n      <td>6.3</td>\n      <td>6</td>\n      <td>1.70</td>\n      <td>0</td>\n      <td>False</td>\n    </tr>\n    <tr>\n      <th>1</th>\n      <td>OH</td>\n      <td>107</td>\n      <td>415</td>\n      <td>No</td>\n      <td>Yes</td>\n      <td>26</td>\n      <td>161.6</td>\n      <td>123</td>\n      <td>27.47</td>\n      <td>195.5</td>\n      <td>103</td>\n      <td>16.62</td>\n      <td>254.4</td>\n      <td>103</td>\n      <td>11.45</td>\n      <td>13.7</td>\n      <td>3</td>\n      <td>3.70</td>\n      <td>1</td>\n      <td>False</td>\n    </tr>\n  </tbody>\n</table>\n</div>"
          },
          "metadata": {}
        }
      ]
    },
    {
      "cell_type": "code",
      "source": "f.loc[[1, 2, 5, 1], [\"State\", \"Account length\"]]",
      "metadata": {
        "trusted": true
      },
      "execution_count": 53,
      "outputs": [
        {
          "execution_count": 53,
          "output_type": "execute_result",
          "data": {
            "text/plain": "  State  Account length\n1    OH             107\n2    NJ             137\n5    AL             118\n1    OH             107",
            "text/html": "<div>\n<style scoped>\n    .dataframe tbody tr th:only-of-type {\n        vertical-align: middle;\n    }\n\n    .dataframe tbody tr th {\n        vertical-align: top;\n    }\n\n    .dataframe thead th {\n        text-align: right;\n    }\n</style>\n<table border=\"1\" class=\"dataframe\">\n  <thead>\n    <tr style=\"text-align: right;\">\n      <th></th>\n      <th>State</th>\n      <th>Account length</th>\n    </tr>\n  </thead>\n  <tbody>\n    <tr>\n      <th>1</th>\n      <td>OH</td>\n      <td>107</td>\n    </tr>\n    <tr>\n      <th>2</th>\n      <td>NJ</td>\n      <td>137</td>\n    </tr>\n    <tr>\n      <th>5</th>\n      <td>AL</td>\n      <td>118</td>\n    </tr>\n    <tr>\n      <th>1</th>\n      <td>OH</td>\n      <td>107</td>\n    </tr>\n  </tbody>\n</table>\n</div>"
          },
          "metadata": {}
        }
      ]
    },
    {
      "cell_type": "code",
      "source": "f.iloc[[1, 2, 5, 1], [0, 1]]",
      "metadata": {
        "trusted": true
      },
      "execution_count": 38,
      "outputs": [
        {
          "execution_count": 38,
          "output_type": "execute_result",
          "data": {
            "text/plain": "  State  Account length\n1    OH             107\n2    NJ             137\n5    AL             118\n1    OH             107",
            "text/html": "<div>\n<style scoped>\n    .dataframe tbody tr th:only-of-type {\n        vertical-align: middle;\n    }\n\n    .dataframe tbody tr th {\n        vertical-align: top;\n    }\n\n    .dataframe thead th {\n        text-align: right;\n    }\n</style>\n<table border=\"1\" class=\"dataframe\">\n  <thead>\n    <tr style=\"text-align: right;\">\n      <th></th>\n      <th>State</th>\n      <th>Account length</th>\n    </tr>\n  </thead>\n  <tbody>\n    <tr>\n      <th>1</th>\n      <td>OH</td>\n      <td>107</td>\n    </tr>\n    <tr>\n      <th>2</th>\n      <td>NJ</td>\n      <td>137</td>\n    </tr>\n    <tr>\n      <th>5</th>\n      <td>AL</td>\n      <td>118</td>\n    </tr>\n    <tr>\n      <th>1</th>\n      <td>OH</td>\n      <td>107</td>\n    </tr>\n  </tbody>\n</table>\n</div>"
          },
          "metadata": {}
        }
      ]
    },
    {
      "cell_type": "markdown",
      "source": "Следующая ячейка вернет ошибку:",
      "metadata": {}
    },
    {
      "cell_type": "code",
      "source": "f.iloc[[1, 2, 5, 1], [\"State\", \"Account length\"]]",
      "metadata": {
        "trusted": true
      },
      "execution_count": 39,
      "outputs": [
        {
          "ename": "<class 'IndexError'>",
          "evalue": ".iloc requires numeric indexers, got ['State' 'Account length']",
          "traceback": [
            "\u001b[0;31m---------------------------------------------------------------------------\u001b[0m",
            "\u001b[0;31mIndexError\u001b[0m                                Traceback (most recent call last)",
            "Cell \u001b[0;32mIn [39], line 1\u001b[0m\n\u001b[0;32m----> 1\u001b[0m \u001b[43mf\u001b[49m\u001b[38;5;241;43m.\u001b[39;49m\u001b[43miloc\u001b[49m\u001b[43m[\u001b[49m\u001b[43m[\u001b[49m\u001b[38;5;241;43m1\u001b[39;49m\u001b[43m,\u001b[49m\u001b[43m \u001b[49m\u001b[38;5;241;43m2\u001b[39;49m\u001b[43m,\u001b[49m\u001b[43m \u001b[49m\u001b[38;5;241;43m5\u001b[39;49m\u001b[43m,\u001b[49m\u001b[43m \u001b[49m\u001b[38;5;241;43m1\u001b[39;49m\u001b[43m]\u001b[49m\u001b[43m,\u001b[49m\u001b[43m \u001b[49m\u001b[43m[\u001b[49m\u001b[38;5;124;43m\"\u001b[39;49m\u001b[38;5;124;43mState\u001b[39;49m\u001b[38;5;124;43m\"\u001b[39;49m\u001b[43m,\u001b[49m\u001b[43m \u001b[49m\u001b[38;5;124;43m\"\u001b[39;49m\u001b[38;5;124;43mAccount length\u001b[39;49m\u001b[38;5;124;43m\"\u001b[39;49m\u001b[43m]\u001b[49m\u001b[43m]\u001b[49m\n",
            "File \u001b[0;32m/lib/python3.10/site-packages/pandas/core/indexing.py:961\u001b[0m, in \u001b[0;36m_LocationIndexer.__getitem__\u001b[0;34m(self, key)\u001b[0m\n\u001b[1;32m    959\u001b[0m     \u001b[38;5;28;01mif\u001b[39;00m \u001b[38;5;28mself\u001b[39m\u001b[38;5;241m.\u001b[39m_is_scalar_access(key):\n\u001b[1;32m    960\u001b[0m         \u001b[38;5;28;01mreturn\u001b[39;00m \u001b[38;5;28mself\u001b[39m\u001b[38;5;241m.\u001b[39mobj\u001b[38;5;241m.\u001b[39m_get_value(\u001b[38;5;241m*\u001b[39mkey, takeable\u001b[38;5;241m=\u001b[39m\u001b[38;5;28mself\u001b[39m\u001b[38;5;241m.\u001b[39m_takeable)\n\u001b[0;32m--> 961\u001b[0m     \u001b[38;5;28;01mreturn\u001b[39;00m \u001b[38;5;28;43mself\u001b[39;49m\u001b[38;5;241;43m.\u001b[39;49m\u001b[43m_getitem_tuple\u001b[49m\u001b[43m(\u001b[49m\u001b[43mkey\u001b[49m\u001b[43m)\u001b[49m\n\u001b[1;32m    962\u001b[0m \u001b[38;5;28;01melse\u001b[39;00m:\n\u001b[1;32m    963\u001b[0m     \u001b[38;5;66;03m# we by definition only have the 0th axis\u001b[39;00m\n\u001b[1;32m    964\u001b[0m     axis \u001b[38;5;241m=\u001b[39m \u001b[38;5;28mself\u001b[39m\u001b[38;5;241m.\u001b[39maxis \u001b[38;5;129;01mor\u001b[39;00m \u001b[38;5;241m0\u001b[39m\n",
            "File \u001b[0;32m/lib/python3.10/site-packages/pandas/core/indexing.py:1458\u001b[0m, in \u001b[0;36m_iLocIndexer._getitem_tuple\u001b[0;34m(self, tup)\u001b[0m\n\u001b[1;32m   1456\u001b[0m \u001b[38;5;28;01mdef\u001b[39;00m \u001b[38;5;21m_getitem_tuple\u001b[39m(\u001b[38;5;28mself\u001b[39m, tup: \u001b[38;5;28mtuple\u001b[39m):\n\u001b[0;32m-> 1458\u001b[0m     tup \u001b[38;5;241m=\u001b[39m \u001b[38;5;28;43mself\u001b[39;49m\u001b[38;5;241;43m.\u001b[39;49m\u001b[43m_validate_tuple_indexer\u001b[49m\u001b[43m(\u001b[49m\u001b[43mtup\u001b[49m\u001b[43m)\u001b[49m\n\u001b[1;32m   1459\u001b[0m     \u001b[38;5;28;01mwith\u001b[39;00m suppress(IndexingError):\n\u001b[1;32m   1460\u001b[0m         \u001b[38;5;28;01mreturn\u001b[39;00m \u001b[38;5;28mself\u001b[39m\u001b[38;5;241m.\u001b[39m_getitem_lowerdim(tup)\n",
            "File \u001b[0;32m/lib/python3.10/site-packages/pandas/core/indexing.py:769\u001b[0m, in \u001b[0;36m_LocationIndexer._validate_tuple_indexer\u001b[0;34m(self, key)\u001b[0m\n\u001b[1;32m    767\u001b[0m \u001b[38;5;28;01mfor\u001b[39;00m i, k \u001b[38;5;129;01min\u001b[39;00m \u001b[38;5;28menumerate\u001b[39m(key):\n\u001b[1;32m    768\u001b[0m     \u001b[38;5;28;01mtry\u001b[39;00m:\n\u001b[0;32m--> 769\u001b[0m         \u001b[38;5;28;43mself\u001b[39;49m\u001b[38;5;241;43m.\u001b[39;49m\u001b[43m_validate_key\u001b[49m\u001b[43m(\u001b[49m\u001b[43mk\u001b[49m\u001b[43m,\u001b[49m\u001b[43m \u001b[49m\u001b[43mi\u001b[49m\u001b[43m)\u001b[49m\n\u001b[1;32m    770\u001b[0m     \u001b[38;5;28;01mexcept\u001b[39;00m \u001b[38;5;167;01mValueError\u001b[39;00m \u001b[38;5;28;01mas\u001b[39;00m err:\n\u001b[1;32m    771\u001b[0m         \u001b[38;5;28;01mraise\u001b[39;00m \u001b[38;5;167;01mValueError\u001b[39;00m(\n\u001b[1;32m    772\u001b[0m             \u001b[38;5;124m\"\u001b[39m\u001b[38;5;124mLocation based indexing can only have \u001b[39m\u001b[38;5;124m\"\u001b[39m\n\u001b[1;32m    773\u001b[0m             \u001b[38;5;124mf\u001b[39m\u001b[38;5;124m\"\u001b[39m\u001b[38;5;124m[\u001b[39m\u001b[38;5;132;01m{\u001b[39;00m\u001b[38;5;28mself\u001b[39m\u001b[38;5;241m.\u001b[39m_valid_types\u001b[38;5;132;01m}\u001b[39;00m\u001b[38;5;124m] types\u001b[39m\u001b[38;5;124m\"\u001b[39m\n\u001b[1;32m    774\u001b[0m         ) \u001b[38;5;28;01mfrom\u001b[39;00m \u001b[38;5;21;01merr\u001b[39;00m\n",
            "File \u001b[0;32m/lib/python3.10/site-packages/pandas/core/indexing.py:1372\u001b[0m, in \u001b[0;36m_iLocIndexer._validate_key\u001b[0;34m(self, key, axis)\u001b[0m\n\u001b[1;32m   1370\u001b[0m \u001b[38;5;66;03m# check that the key has a numeric dtype\u001b[39;00m\n\u001b[1;32m   1371\u001b[0m \u001b[38;5;28;01mif\u001b[39;00m \u001b[38;5;129;01mnot\u001b[39;00m is_numeric_dtype(arr\u001b[38;5;241m.\u001b[39mdtype):\n\u001b[0;32m-> 1372\u001b[0m     \u001b[38;5;28;01mraise\u001b[39;00m \u001b[38;5;167;01mIndexError\u001b[39;00m(\u001b[38;5;124mf\u001b[39m\u001b[38;5;124m\"\u001b[39m\u001b[38;5;124m.iloc requires numeric indexers, got \u001b[39m\u001b[38;5;132;01m{\u001b[39;00marr\u001b[38;5;132;01m}\u001b[39;00m\u001b[38;5;124m\"\u001b[39m)\n\u001b[1;32m   1374\u001b[0m \u001b[38;5;66;03m# check that the key does not exceed the maximum size of the index\u001b[39;00m\n\u001b[1;32m   1375\u001b[0m \u001b[38;5;28;01mif\u001b[39;00m \u001b[38;5;28mlen\u001b[39m(arr) \u001b[38;5;129;01mand\u001b[39;00m (arr\u001b[38;5;241m.\u001b[39mmax() \u001b[38;5;241m>\u001b[39m\u001b[38;5;241m=\u001b[39m len_axis \u001b[38;5;129;01mor\u001b[39;00m arr\u001b[38;5;241m.\u001b[39mmin() \u001b[38;5;241m<\u001b[39m \u001b[38;5;241m-\u001b[39mlen_axis):\n",
            "\u001b[0;31mIndexError\u001b[0m: .iloc requires numeric indexers, got ['State' 'Account length']"
          ],
          "output_type": "error"
        }
      ]
    },
    {
      "cell_type": "code",
      "source": "f.iloc[:5, :4]",
      "metadata": {
        "trusted": true
      },
      "execution_count": 40,
      "outputs": [
        {
          "execution_count": 40,
          "output_type": "execute_result",
          "data": {
            "text/plain": "  State  Account length  Area code International plan\n0    KS             128        415                 No\n1    OH             107        415                 No\n2    NJ             137        415                 No\n3    OH              84        408                Yes\n4    OK              75        415                Yes",
            "text/html": "<div>\n<style scoped>\n    .dataframe tbody tr th:only-of-type {\n        vertical-align: middle;\n    }\n\n    .dataframe tbody tr th {\n        vertical-align: top;\n    }\n\n    .dataframe thead th {\n        text-align: right;\n    }\n</style>\n<table border=\"1\" class=\"dataframe\">\n  <thead>\n    <tr style=\"text-align: right;\">\n      <th></th>\n      <th>State</th>\n      <th>Account length</th>\n      <th>Area code</th>\n      <th>International plan</th>\n    </tr>\n  </thead>\n  <tbody>\n    <tr>\n      <th>0</th>\n      <td>KS</td>\n      <td>128</td>\n      <td>415</td>\n      <td>No</td>\n    </tr>\n    <tr>\n      <th>1</th>\n      <td>OH</td>\n      <td>107</td>\n      <td>415</td>\n      <td>No</td>\n    </tr>\n    <tr>\n      <th>2</th>\n      <td>NJ</td>\n      <td>137</td>\n      <td>415</td>\n      <td>No</td>\n    </tr>\n    <tr>\n      <th>3</th>\n      <td>OH</td>\n      <td>84</td>\n      <td>408</td>\n      <td>Yes</td>\n    </tr>\n    <tr>\n      <th>4</th>\n      <td>OK</td>\n      <td>75</td>\n      <td>415</td>\n      <td>Yes</td>\n    </tr>\n  </tbody>\n</table>\n</div>"
          },
          "metadata": {}
        }
      ]
    },
    {
      "cell_type": "code",
      "source": "f.loc[:, [\"State\", \"Account length\"]]",
      "metadata": {
        "trusted": true
      },
      "execution_count": 41,
      "outputs": [
        {
          "execution_count": 41,
          "output_type": "execute_result",
          "data": {
            "text/plain": "     State  Account length\n0       KS             128\n1       OH             107\n2       NJ             137\n3       OH              84\n4       OK              75\n...    ...             ...\n3328    AZ             192\n3329    WV              68\n3330    RI              28\n3331    CT             184\n3332    TN              74\n\n[3333 rows x 2 columns]",
            "text/html": "<div>\n<style scoped>\n    .dataframe tbody tr th:only-of-type {\n        vertical-align: middle;\n    }\n\n    .dataframe tbody tr th {\n        vertical-align: top;\n    }\n\n    .dataframe thead th {\n        text-align: right;\n    }\n</style>\n<table border=\"1\" class=\"dataframe\">\n  <thead>\n    <tr style=\"text-align: right;\">\n      <th></th>\n      <th>State</th>\n      <th>Account length</th>\n    </tr>\n  </thead>\n  <tbody>\n    <tr>\n      <th>0</th>\n      <td>KS</td>\n      <td>128</td>\n    </tr>\n    <tr>\n      <th>1</th>\n      <td>OH</td>\n      <td>107</td>\n    </tr>\n    <tr>\n      <th>2</th>\n      <td>NJ</td>\n      <td>137</td>\n    </tr>\n    <tr>\n      <th>3</th>\n      <td>OH</td>\n      <td>84</td>\n    </tr>\n    <tr>\n      <th>4</th>\n      <td>OK</td>\n      <td>75</td>\n    </tr>\n    <tr>\n      <th>...</th>\n      <td>...</td>\n      <td>...</td>\n    </tr>\n    <tr>\n      <th>3328</th>\n      <td>AZ</td>\n      <td>192</td>\n    </tr>\n    <tr>\n      <th>3329</th>\n      <td>WV</td>\n      <td>68</td>\n    </tr>\n    <tr>\n      <th>3330</th>\n      <td>RI</td>\n      <td>28</td>\n    </tr>\n    <tr>\n      <th>3331</th>\n      <td>CT</td>\n      <td>184</td>\n    </tr>\n    <tr>\n      <th>3332</th>\n      <td>TN</td>\n      <td>74</td>\n    </tr>\n  </tbody>\n</table>\n<p>3333 rows × 2 columns</p>\n</div>"
          },
          "metadata": {}
        }
      ]
    },
    {
      "cell_type": "code",
      "source": "f.loc[4:9, [\"State\", \"Account length\", \"Area code\", \"International plan\"]]",
      "metadata": {
        "trusted": true
      },
      "execution_count": 42,
      "outputs": [
        {
          "execution_count": 42,
          "output_type": "execute_result",
          "data": {
            "text/plain": "  State  Account length  Area code International plan\n4    OK              75        415                Yes\n5    AL             118        510                Yes\n6    MA             121        510                 No\n7    MO             147        415                Yes\n8    LA             117        408                 No\n9    WV             141        415                Yes",
            "text/html": "<div>\n<style scoped>\n    .dataframe tbody tr th:only-of-type {\n        vertical-align: middle;\n    }\n\n    .dataframe tbody tr th {\n        vertical-align: top;\n    }\n\n    .dataframe thead th {\n        text-align: right;\n    }\n</style>\n<table border=\"1\" class=\"dataframe\">\n  <thead>\n    <tr style=\"text-align: right;\">\n      <th></th>\n      <th>State</th>\n      <th>Account length</th>\n      <th>Area code</th>\n      <th>International plan</th>\n    </tr>\n  </thead>\n  <tbody>\n    <tr>\n      <th>4</th>\n      <td>OK</td>\n      <td>75</td>\n      <td>415</td>\n      <td>Yes</td>\n    </tr>\n    <tr>\n      <th>5</th>\n      <td>AL</td>\n      <td>118</td>\n      <td>510</td>\n      <td>Yes</td>\n    </tr>\n    <tr>\n      <th>6</th>\n      <td>MA</td>\n      <td>121</td>\n      <td>510</td>\n      <td>No</td>\n    </tr>\n    <tr>\n      <th>7</th>\n      <td>MO</td>\n      <td>147</td>\n      <td>415</td>\n      <td>Yes</td>\n    </tr>\n    <tr>\n      <th>8</th>\n      <td>LA</td>\n      <td>117</td>\n      <td>408</td>\n      <td>No</td>\n    </tr>\n    <tr>\n      <th>9</th>\n      <td>WV</td>\n      <td>141</td>\n      <td>415</td>\n      <td>Yes</td>\n    </tr>\n  </tbody>\n</table>\n</div>"
          },
          "metadata": {}
        }
      ]
    },
    {
      "cell_type": "markdown",
      "source": "Обратите внимание, что `loc` включает и строки соответствующие и начальному, и конечному индексам.",
      "metadata": {}
    },
    {
      "cell_type": "markdown",
      "source": "Сохраним этот датафрейм в новую переменную и рассмотрим отличие loc и iloc в работе по целочисленным индексам строк",
      "metadata": {}
    },
    {
      "cell_type": "code",
      "source": "new_f = f.loc[4:9, [\"State\", \"Account length\", \"Area code\", \"International plan\"]]",
      "metadata": {
        "trusted": true
      },
      "execution_count": 43,
      "outputs": []
    },
    {
      "cell_type": "code",
      "source": "new_f.iloc[:5]",
      "metadata": {
        "trusted": true
      },
      "execution_count": 44,
      "outputs": [
        {
          "execution_count": 44,
          "output_type": "execute_result",
          "data": {
            "text/plain": "  State  Account length  Area code International plan\n4    OK              75        415                Yes\n5    AL             118        510                Yes\n6    MA             121        510                 No\n7    MO             147        415                Yes\n8    LA             117        408                 No",
            "text/html": "<div>\n<style scoped>\n    .dataframe tbody tr th:only-of-type {\n        vertical-align: middle;\n    }\n\n    .dataframe tbody tr th {\n        vertical-align: top;\n    }\n\n    .dataframe thead th {\n        text-align: right;\n    }\n</style>\n<table border=\"1\" class=\"dataframe\">\n  <thead>\n    <tr style=\"text-align: right;\">\n      <th></th>\n      <th>State</th>\n      <th>Account length</th>\n      <th>Area code</th>\n      <th>International plan</th>\n    </tr>\n  </thead>\n  <tbody>\n    <tr>\n      <th>4</th>\n      <td>OK</td>\n      <td>75</td>\n      <td>415</td>\n      <td>Yes</td>\n    </tr>\n    <tr>\n      <th>5</th>\n      <td>AL</td>\n      <td>118</td>\n      <td>510</td>\n      <td>Yes</td>\n    </tr>\n    <tr>\n      <th>6</th>\n      <td>MA</td>\n      <td>121</td>\n      <td>510</td>\n      <td>No</td>\n    </tr>\n    <tr>\n      <th>7</th>\n      <td>MO</td>\n      <td>147</td>\n      <td>415</td>\n      <td>Yes</td>\n    </tr>\n    <tr>\n      <th>8</th>\n      <td>LA</td>\n      <td>117</td>\n      <td>408</td>\n      <td>No</td>\n    </tr>\n  </tbody>\n</table>\n</div>"
          },
          "metadata": {}
        }
      ]
    },
    {
      "cell_type": "code",
      "source": "new_f.loc[:5]",
      "metadata": {
        "trusted": true
      },
      "execution_count": 45,
      "outputs": [
        {
          "execution_count": 45,
          "output_type": "execute_result",
          "data": {
            "text/plain": "  State  Account length  Area code International plan\n4    OK              75        415                Yes\n5    AL             118        510                Yes",
            "text/html": "<div>\n<style scoped>\n    .dataframe tbody tr th:only-of-type {\n        vertical-align: middle;\n    }\n\n    .dataframe tbody tr th {\n        vertical-align: top;\n    }\n\n    .dataframe thead th {\n        text-align: right;\n    }\n</style>\n<table border=\"1\" class=\"dataframe\">\n  <thead>\n    <tr style=\"text-align: right;\">\n      <th></th>\n      <th>State</th>\n      <th>Account length</th>\n      <th>Area code</th>\n      <th>International plan</th>\n    </tr>\n  </thead>\n  <tbody>\n    <tr>\n      <th>4</th>\n      <td>OK</td>\n      <td>75</td>\n      <td>415</td>\n      <td>Yes</td>\n    </tr>\n    <tr>\n      <th>5</th>\n      <td>AL</td>\n      <td>118</td>\n      <td>510</td>\n      <td>Yes</td>\n    </tr>\n  </tbody>\n</table>\n</div>"
          },
          "metadata": {}
        }
      ]
    },
    {
      "cell_type": "markdown",
      "source": "**Упражнение 1.** Объясните различие поведения `loc` и `iloc` для `new_f`.",
      "metadata": {}
    },
    {
      "cell_type": "markdown",
      "source": "#### Создание датафрейма и присваивание по индексам",
      "metadata": {}
    },
    {
      "cell_type": "code",
      "source": "df = pd.DataFrame({\"A\": [1, 2, 3], \"B\": [4, 5, 6]}, index = [\"first\", \"second\", \"third\"])\ndf",
      "metadata": {
        "trusted": true
      },
      "execution_count": 46,
      "outputs": [
        {
          "execution_count": 46,
          "output_type": "execute_result",
          "data": {
            "text/plain": "        A  B\nfirst   1  4\nsecond  2  5\nthird   3  6",
            "text/html": "<div>\n<style scoped>\n    .dataframe tbody tr th:only-of-type {\n        vertical-align: middle;\n    }\n\n    .dataframe tbody tr th {\n        vertical-align: top;\n    }\n\n    .dataframe thead th {\n        text-align: right;\n    }\n</style>\n<table border=\"1\" class=\"dataframe\">\n  <thead>\n    <tr style=\"text-align: right;\">\n      <th></th>\n      <th>A</th>\n      <th>B</th>\n    </tr>\n  </thead>\n  <tbody>\n    <tr>\n      <th>first</th>\n      <td>1</td>\n      <td>4</td>\n    </tr>\n    <tr>\n      <th>second</th>\n      <td>2</td>\n      <td>5</td>\n    </tr>\n    <tr>\n      <th>third</th>\n      <td>3</td>\n      <td>6</td>\n    </tr>\n  </tbody>\n</table>\n</div>"
          },
          "metadata": {}
        }
      ]
    },
    {
      "cell_type": "code",
      "source": "df.iloc[0, 0] = 100\ndf",
      "metadata": {
        "trusted": true
      },
      "execution_count": 47,
      "outputs": [
        {
          "execution_count": 47,
          "output_type": "execute_result",
          "data": {
            "text/plain": "          A  B\nfirst   100  4\nsecond    2  5\nthird     3  6",
            "text/html": "<div>\n<style scoped>\n    .dataframe tbody tr th:only-of-type {\n        vertical-align: middle;\n    }\n\n    .dataframe tbody tr th {\n        vertical-align: top;\n    }\n\n    .dataframe thead th {\n        text-align: right;\n    }\n</style>\n<table border=\"1\" class=\"dataframe\">\n  <thead>\n    <tr style=\"text-align: right;\">\n      <th></th>\n      <th>A</th>\n      <th>B</th>\n    </tr>\n  </thead>\n  <tbody>\n    <tr>\n      <th>first</th>\n      <td>100</td>\n      <td>4</td>\n    </tr>\n    <tr>\n      <th>second</th>\n      <td>2</td>\n      <td>5</td>\n    </tr>\n    <tr>\n      <th>third</th>\n      <td>3</td>\n      <td>6</td>\n    </tr>\n  </tbody>\n</table>\n</div>"
          },
          "metadata": {}
        }
      ]
    },
    {
      "cell_type": "code",
      "source": "df.loc[\"second\", \"B\"] = 31\ndf",
      "metadata": {
        "trusted": true
      },
      "execution_count": 48,
      "outputs": [
        {
          "execution_count": 48,
          "output_type": "execute_result",
          "data": {
            "text/plain": "          A   B\nfirst   100   4\nsecond    2  31\nthird     3   6",
            "text/html": "<div>\n<style scoped>\n    .dataframe tbody tr th:only-of-type {\n        vertical-align: middle;\n    }\n\n    .dataframe tbody tr th {\n        vertical-align: top;\n    }\n\n    .dataframe thead th {\n        text-align: right;\n    }\n</style>\n<table border=\"1\" class=\"dataframe\">\n  <thead>\n    <tr style=\"text-align: right;\">\n      <th></th>\n      <th>A</th>\n      <th>B</th>\n    </tr>\n  </thead>\n  <tbody>\n    <tr>\n      <th>first</th>\n      <td>100</td>\n      <td>4</td>\n    </tr>\n    <tr>\n      <th>second</th>\n      <td>2</td>\n      <td>31</td>\n    </tr>\n    <tr>\n      <th>third</th>\n      <td>3</td>\n      <td>6</td>\n    </tr>\n  </tbody>\n</table>\n</div>"
          },
          "metadata": {}
        }
      ]
    },
    {
      "cell_type": "code",
      "source": "df.iloc[2] = 5\ndf",
      "metadata": {
        "trusted": true
      },
      "execution_count": 54,
      "outputs": [
        {
          "execution_count": 54,
          "output_type": "execute_result",
          "data": {
            "text/plain": "          A   B\nfirst   100   4\nsecond    2  31\nthird     5   5",
            "text/html": "<div>\n<style scoped>\n    .dataframe tbody tr th:only-of-type {\n        vertical-align: middle;\n    }\n\n    .dataframe tbody tr th {\n        vertical-align: top;\n    }\n\n    .dataframe thead th {\n        text-align: right;\n    }\n</style>\n<table border=\"1\" class=\"dataframe\">\n  <thead>\n    <tr style=\"text-align: right;\">\n      <th></th>\n      <th>A</th>\n      <th>B</th>\n    </tr>\n  </thead>\n  <tbody>\n    <tr>\n      <th>first</th>\n      <td>100</td>\n      <td>4</td>\n    </tr>\n    <tr>\n      <th>second</th>\n      <td>2</td>\n      <td>31</td>\n    </tr>\n    <tr>\n      <th>third</th>\n      <td>5</td>\n      <td>5</td>\n    </tr>\n  </tbody>\n</table>\n</div>"
          },
          "metadata": {}
        }
      ]
    },
    {
      "cell_type": "code",
      "source": "df.loc[\"B\"] = 0\ndf",
      "metadata": {
        "trusted": true
      },
      "execution_count": 55,
      "outputs": [
        {
          "execution_count": 55,
          "output_type": "execute_result",
          "data": {
            "text/plain": "          A   B\nfirst   100   4\nsecond    2  31\nthird     5   5\nB         0   0",
            "text/html": "<div>\n<style scoped>\n    .dataframe tbody tr th:only-of-type {\n        vertical-align: middle;\n    }\n\n    .dataframe tbody tr th {\n        vertical-align: top;\n    }\n\n    .dataframe thead th {\n        text-align: right;\n    }\n</style>\n<table border=\"1\" class=\"dataframe\">\n  <thead>\n    <tr style=\"text-align: right;\">\n      <th></th>\n      <th>A</th>\n      <th>B</th>\n    </tr>\n  </thead>\n  <tbody>\n    <tr>\n      <th>first</th>\n      <td>100</td>\n      <td>4</td>\n    </tr>\n    <tr>\n      <th>second</th>\n      <td>2</td>\n      <td>31</td>\n    </tr>\n    <tr>\n      <th>third</th>\n      <td>5</td>\n      <td>5</td>\n    </tr>\n    <tr>\n      <th>B</th>\n      <td>0</td>\n      <td>0</td>\n    </tr>\n  </tbody>\n</table>\n</div>"
          },
          "metadata": {}
        }
      ]
    },
    {
      "cell_type": "code",
      "source": "df.loc[:, \"B\"] = 0\ndf",
      "metadata": {
        "trusted": true
      },
      "execution_count": 56,
      "outputs": [
        {
          "execution_count": 56,
          "output_type": "execute_result",
          "data": {
            "text/plain": "          A  B\nfirst   100  0\nsecond    2  0\nthird     5  0\nB         0  0",
            "text/html": "<div>\n<style scoped>\n    .dataframe tbody tr th:only-of-type {\n        vertical-align: middle;\n    }\n\n    .dataframe tbody tr th {\n        vertical-align: top;\n    }\n\n    .dataframe thead th {\n        text-align: right;\n    }\n</style>\n<table border=\"1\" class=\"dataframe\">\n  <thead>\n    <tr style=\"text-align: right;\">\n      <th></th>\n      <th>A</th>\n      <th>B</th>\n    </tr>\n  </thead>\n  <tbody>\n    <tr>\n      <th>first</th>\n      <td>100</td>\n      <td>0</td>\n    </tr>\n    <tr>\n      <th>second</th>\n      <td>2</td>\n      <td>0</td>\n    </tr>\n    <tr>\n      <th>third</th>\n      <td>5</td>\n      <td>0</td>\n    </tr>\n    <tr>\n      <th>B</th>\n      <td>0</td>\n      <td>0</td>\n    </tr>\n  </tbody>\n</table>\n</div>"
          },
          "metadata": {}
        }
      ]
    },
    {
      "cell_type": "code",
      "source": "df = pd.DataFrame({\"A\": [1, 2, 3, 4], \"B\": [5, 6, 7, 8]})\ndf",
      "metadata": {
        "trusted": true
      },
      "execution_count": 57,
      "outputs": [
        {
          "execution_count": 57,
          "output_type": "execute_result",
          "data": {
            "text/plain": "   A  B\n0  1  5\n1  2  6\n2  3  7\n3  4  8",
            "text/html": "<div>\n<style scoped>\n    .dataframe tbody tr th:only-of-type {\n        vertical-align: middle;\n    }\n\n    .dataframe tbody tr th {\n        vertical-align: top;\n    }\n\n    .dataframe thead th {\n        text-align: right;\n    }\n</style>\n<table border=\"1\" class=\"dataframe\">\n  <thead>\n    <tr style=\"text-align: right;\">\n      <th></th>\n      <th>A</th>\n      <th>B</th>\n    </tr>\n  </thead>\n  <tbody>\n    <tr>\n      <th>0</th>\n      <td>1</td>\n      <td>5</td>\n    </tr>\n    <tr>\n      <th>1</th>\n      <td>2</td>\n      <td>6</td>\n    </tr>\n    <tr>\n      <th>2</th>\n      <td>3</td>\n      <td>7</td>\n    </tr>\n    <tr>\n      <th>3</th>\n      <td>4</td>\n      <td>8</td>\n    </tr>\n  </tbody>\n</table>\n</div>"
          },
          "metadata": {}
        }
      ]
    },
    {
      "cell_type": "code",
      "source": "df.iloc[1:2, :] = -1\ndf",
      "metadata": {
        "trusted": true
      },
      "execution_count": 58,
      "outputs": [
        {
          "execution_count": 58,
          "output_type": "execute_result",
          "data": {
            "text/plain": "   A  B\n0  1  5\n1 -1 -1\n2  3  7\n3  4  8",
            "text/html": "<div>\n<style scoped>\n    .dataframe tbody tr th:only-of-type {\n        vertical-align: middle;\n    }\n\n    .dataframe tbody tr th {\n        vertical-align: top;\n    }\n\n    .dataframe thead th {\n        text-align: right;\n    }\n</style>\n<table border=\"1\" class=\"dataframe\">\n  <thead>\n    <tr style=\"text-align: right;\">\n      <th></th>\n      <th>A</th>\n      <th>B</th>\n    </tr>\n  </thead>\n  <tbody>\n    <tr>\n      <th>0</th>\n      <td>1</td>\n      <td>5</td>\n    </tr>\n    <tr>\n      <th>1</th>\n      <td>-1</td>\n      <td>-1</td>\n    </tr>\n    <tr>\n      <th>2</th>\n      <td>3</td>\n      <td>7</td>\n    </tr>\n    <tr>\n      <th>3</th>\n      <td>4</td>\n      <td>8</td>\n    </tr>\n  </tbody>\n</table>\n</div>"
          },
          "metadata": {}
        }
      ]
    },
    {
      "cell_type": "code",
      "source": "df.loc[1:2, :] = -2\ndf",
      "metadata": {
        "trusted": true
      },
      "execution_count": 59,
      "outputs": [
        {
          "execution_count": 59,
          "output_type": "execute_result",
          "data": {
            "text/plain": "   A  B\n0  1  5\n1 -2 -2\n2 -2 -2\n3  4  8",
            "text/html": "<div>\n<style scoped>\n    .dataframe tbody tr th:only-of-type {\n        vertical-align: middle;\n    }\n\n    .dataframe tbody tr th {\n        vertical-align: top;\n    }\n\n    .dataframe thead th {\n        text-align: right;\n    }\n</style>\n<table border=\"1\" class=\"dataframe\">\n  <thead>\n    <tr style=\"text-align: right;\">\n      <th></th>\n      <th>A</th>\n      <th>B</th>\n    </tr>\n  </thead>\n  <tbody>\n    <tr>\n      <th>0</th>\n      <td>1</td>\n      <td>5</td>\n    </tr>\n    <tr>\n      <th>1</th>\n      <td>-2</td>\n      <td>-2</td>\n    </tr>\n    <tr>\n      <th>2</th>\n      <td>-2</td>\n      <td>-2</td>\n    </tr>\n    <tr>\n      <th>3</th>\n      <td>4</td>\n      <td>8</td>\n    </tr>\n  </tbody>\n</table>\n</div>"
          },
          "metadata": {}
        }
      ]
    },
    {
      "cell_type": "markdown",
      "source": "Еще раз убеждаемся, что `loc` включает оба конца \"среза\", а `iloc` - полуинтервал, как например обычные срезы.",
      "metadata": {}
    },
    {
      "cell_type": "markdown",
      "source": "#### Создание нового столбца",
      "metadata": {}
    },
    {
      "cell_type": "code",
      "source": "df[\"C\"] = 1\ndf",
      "metadata": {
        "trusted": true
      },
      "execution_count": 60,
      "outputs": [
        {
          "execution_count": 60,
          "output_type": "execute_result",
          "data": {
            "text/plain": "   A  B  C\n0  1  5  1\n1 -2 -2  1\n2 -2 -2  1\n3  4  8  1",
            "text/html": "<div>\n<style scoped>\n    .dataframe tbody tr th:only-of-type {\n        vertical-align: middle;\n    }\n\n    .dataframe tbody tr th {\n        vertical-align: top;\n    }\n\n    .dataframe thead th {\n        text-align: right;\n    }\n</style>\n<table border=\"1\" class=\"dataframe\">\n  <thead>\n    <tr style=\"text-align: right;\">\n      <th></th>\n      <th>A</th>\n      <th>B</th>\n      <th>C</th>\n    </tr>\n  </thead>\n  <tbody>\n    <tr>\n      <th>0</th>\n      <td>1</td>\n      <td>5</td>\n      <td>1</td>\n    </tr>\n    <tr>\n      <th>1</th>\n      <td>-2</td>\n      <td>-2</td>\n      <td>1</td>\n    </tr>\n    <tr>\n      <th>2</th>\n      <td>-2</td>\n      <td>-2</td>\n      <td>1</td>\n    </tr>\n    <tr>\n      <th>3</th>\n      <td>4</td>\n      <td>8</td>\n      <td>1</td>\n    </tr>\n  </tbody>\n</table>\n</div>"
          },
          "metadata": {}
        }
      ]
    },
    {
      "cell_type": "code",
      "source": "df[\"D\"] = df[\"A\"] + df[\"B\"]\ndf",
      "metadata": {
        "trusted": true
      },
      "execution_count": 61,
      "outputs": [
        {
          "execution_count": 61,
          "output_type": "execute_result",
          "data": {
            "text/plain": "   A  B  C   D\n0  1  5  1   6\n1 -2 -2  1  -4\n2 -2 -2  1  -4\n3  4  8  1  12",
            "text/html": "<div>\n<style scoped>\n    .dataframe tbody tr th:only-of-type {\n        vertical-align: middle;\n    }\n\n    .dataframe tbody tr th {\n        vertical-align: top;\n    }\n\n    .dataframe thead th {\n        text-align: right;\n    }\n</style>\n<table border=\"1\" class=\"dataframe\">\n  <thead>\n    <tr style=\"text-align: right;\">\n      <th></th>\n      <th>A</th>\n      <th>B</th>\n      <th>C</th>\n      <th>D</th>\n    </tr>\n  </thead>\n  <tbody>\n    <tr>\n      <th>0</th>\n      <td>1</td>\n      <td>5</td>\n      <td>1</td>\n      <td>6</td>\n    </tr>\n    <tr>\n      <th>1</th>\n      <td>-2</td>\n      <td>-2</td>\n      <td>1</td>\n      <td>-4</td>\n    </tr>\n    <tr>\n      <th>2</th>\n      <td>-2</td>\n      <td>-2</td>\n      <td>1</td>\n      <td>-4</td>\n    </tr>\n    <tr>\n      <th>3</th>\n      <td>4</td>\n      <td>8</td>\n      <td>1</td>\n      <td>12</td>\n    </tr>\n  </tbody>\n</table>\n</div>"
          },
          "metadata": {}
        }
      ]
    },
    {
      "cell_type": "code",
      "source": "df[\"E\"] = df[\"D\"].apply(lambda x: x ** 2)\ndf",
      "metadata": {
        "trusted": true
      },
      "execution_count": 62,
      "outputs": [
        {
          "execution_count": 62,
          "output_type": "execute_result",
          "data": {
            "text/plain": "   A  B  C   D    E\n0  1  5  1   6   36\n1 -2 -2  1  -4   16\n2 -2 -2  1  -4   16\n3  4  8  1  12  144",
            "text/html": "<div>\n<style scoped>\n    .dataframe tbody tr th:only-of-type {\n        vertical-align: middle;\n    }\n\n    .dataframe tbody tr th {\n        vertical-align: top;\n    }\n\n    .dataframe thead th {\n        text-align: right;\n    }\n</style>\n<table border=\"1\" class=\"dataframe\">\n  <thead>\n    <tr style=\"text-align: right;\">\n      <th></th>\n      <th>A</th>\n      <th>B</th>\n      <th>C</th>\n      <th>D</th>\n      <th>E</th>\n    </tr>\n  </thead>\n  <tbody>\n    <tr>\n      <th>0</th>\n      <td>1</td>\n      <td>5</td>\n      <td>1</td>\n      <td>6</td>\n      <td>36</td>\n    </tr>\n    <tr>\n      <th>1</th>\n      <td>-2</td>\n      <td>-2</td>\n      <td>1</td>\n      <td>-4</td>\n      <td>16</td>\n    </tr>\n    <tr>\n      <th>2</th>\n      <td>-2</td>\n      <td>-2</td>\n      <td>1</td>\n      <td>-4</td>\n      <td>16</td>\n    </tr>\n    <tr>\n      <th>3</th>\n      <td>4</td>\n      <td>8</td>\n      <td>1</td>\n      <td>12</td>\n      <td>144</td>\n    </tr>\n  </tbody>\n</table>\n</div>"
          },
          "metadata": {}
        }
      ]
    },
    {
      "cell_type": "code",
      "source": "df[\"F\"] = df[[\"A\", \"C\", \"E\"]].apply(lambda x: x.sum(), axis=1)\ndf",
      "metadata": {
        "trusted": true
      },
      "execution_count": 63,
      "outputs": [
        {
          "execution_count": 63,
          "output_type": "execute_result",
          "data": {
            "text/plain": "   A  B  C   D    E    F\n0  1  5  1   6   36   38\n1 -2 -2  1  -4   16   15\n2 -2 -2  1  -4   16   15\n3  4  8  1  12  144  149",
            "text/html": "<div>\n<style scoped>\n    .dataframe tbody tr th:only-of-type {\n        vertical-align: middle;\n    }\n\n    .dataframe tbody tr th {\n        vertical-align: top;\n    }\n\n    .dataframe thead th {\n        text-align: right;\n    }\n</style>\n<table border=\"1\" class=\"dataframe\">\n  <thead>\n    <tr style=\"text-align: right;\">\n      <th></th>\n      <th>A</th>\n      <th>B</th>\n      <th>C</th>\n      <th>D</th>\n      <th>E</th>\n      <th>F</th>\n    </tr>\n  </thead>\n  <tbody>\n    <tr>\n      <th>0</th>\n      <td>1</td>\n      <td>5</td>\n      <td>1</td>\n      <td>6</td>\n      <td>36</td>\n      <td>38</td>\n    </tr>\n    <tr>\n      <th>1</th>\n      <td>-2</td>\n      <td>-2</td>\n      <td>1</td>\n      <td>-4</td>\n      <td>16</td>\n      <td>15</td>\n    </tr>\n    <tr>\n      <th>2</th>\n      <td>-2</td>\n      <td>-2</td>\n      <td>1</td>\n      <td>-4</td>\n      <td>16</td>\n      <td>15</td>\n    </tr>\n    <tr>\n      <th>3</th>\n      <td>4</td>\n      <td>8</td>\n      <td>1</td>\n      <td>12</td>\n      <td>144</td>\n      <td>149</td>\n    </tr>\n  </tbody>\n</table>\n</div>"
          },
          "metadata": {}
        }
      ]
    },
    {
      "cell_type": "markdown",
      "source": "**Упражнение 2.** Объясните последний результат.",
      "metadata": {}
    },
    {
      "cell_type": "markdown",
      "source": "## Срезы с условиями и аггрегация",
      "metadata": {}
    },
    {
      "cell_type": "code",
      "source": "f[f.Churn == True]",
      "metadata": {
        "trusted": true
      },
      "execution_count": 64,
      "outputs": [
        {
          "execution_count": 64,
          "output_type": "execute_result",
          "data": {
            "text/plain": "     State  Account length  Area code International plan Voice mail plan  \\\n10      IN              65        415                 No              No   \n15      NY             161        415                 No              No   \n21      CO              77        408                 No              No   \n33      AZ              12        408                 No              No   \n41      MD             135        408                Yes             Yes   \n...    ...             ...        ...                ...             ...   \n3301    CA              84        415                 No              No   \n3304    IL              71        510                Yes              No   \n3320    GA             122        510                Yes              No   \n3322    MD              62        408                 No              No   \n3323    IN             117        415                 No              No   \n\n      Number vmail messages  Total day minutes  Total day calls  \\\n10                        0              129.1              137   \n15                        0              332.9               67   \n21                        0               62.4               89   \n33                        0              249.6              118   \n41                       41              173.1               85   \n...                     ...                ...              ...   \n3301                      0              280.0              113   \n3304                      0              186.1              114   \n3320                      0              140.0              101   \n3322                      0              321.1              105   \n3323                      0              118.4              126   \n\n      Total day charge  Total eve minutes  Total eve calls  Total eve charge  \\\n10               21.95              228.5               83             19.42   \n15               56.59              317.8               97             27.01   \n21               10.61              169.9              121             14.44   \n33               42.43              252.4              119             21.45   \n41               29.43              203.9              107             17.33   \n...                ...                ...              ...               ...   \n3301             47.60              202.2               90             17.19   \n3304             31.64              198.6              140             16.88   \n3320             23.80              196.4               77             16.69   \n3322             54.59              265.5              122             22.57   \n3323             20.13              249.3               97             21.19   \n\n      Total night minutes  Total night calls  Total night charge  \\\n10                  208.8                111                9.40   \n15                  160.6                128                7.23   \n21                  209.6                 64                9.43   \n33                  280.2                 90               12.61   \n41                  122.2                 78                5.50   \n...                   ...                ...                 ...   \n3301                156.8                103                7.06   \n3304                206.5                 80                9.29   \n3320                120.1                133                5.40   \n3322                180.5                 72                8.12   \n3323                227.0                 56               10.22   \n\n      Total intl minutes  Total intl calls  Total intl charge  \\\n10                  12.7                 6               3.43   \n15                   5.4                 9               1.46   \n21                   5.7                 6               1.54   \n33                  11.8                 3               3.19   \n41                  14.6                15               3.94   \n...                  ...               ...                ...   \n3301                10.4                 4               2.81   \n3304                13.8                 5               3.73   \n3320                 9.7                 4               2.62   \n3322                11.5                 2               3.11   \n3323                13.6                 3               3.67   \n\n      Customer service calls  Churn  \n10                         4   True  \n15                         4   True  \n21                         5   True  \n33                         1   True  \n41                         0   True  \n...                      ...    ...  \n3301                       0   True  \n3304                       4   True  \n3320                       4   True  \n3322                       4   True  \n3323                       5   True  \n\n[483 rows x 20 columns]",
            "text/html": "<div>\n<style scoped>\n    .dataframe tbody tr th:only-of-type {\n        vertical-align: middle;\n    }\n\n    .dataframe tbody tr th {\n        vertical-align: top;\n    }\n\n    .dataframe thead th {\n        text-align: right;\n    }\n</style>\n<table border=\"1\" class=\"dataframe\">\n  <thead>\n    <tr style=\"text-align: right;\">\n      <th></th>\n      <th>State</th>\n      <th>Account length</th>\n      <th>Area code</th>\n      <th>International plan</th>\n      <th>Voice mail plan</th>\n      <th>Number vmail messages</th>\n      <th>Total day minutes</th>\n      <th>Total day calls</th>\n      <th>Total day charge</th>\n      <th>Total eve minutes</th>\n      <th>Total eve calls</th>\n      <th>Total eve charge</th>\n      <th>Total night minutes</th>\n      <th>Total night calls</th>\n      <th>Total night charge</th>\n      <th>Total intl minutes</th>\n      <th>Total intl calls</th>\n      <th>Total intl charge</th>\n      <th>Customer service calls</th>\n      <th>Churn</th>\n    </tr>\n  </thead>\n  <tbody>\n    <tr>\n      <th>10</th>\n      <td>IN</td>\n      <td>65</td>\n      <td>415</td>\n      <td>No</td>\n      <td>No</td>\n      <td>0</td>\n      <td>129.1</td>\n      <td>137</td>\n      <td>21.95</td>\n      <td>228.5</td>\n      <td>83</td>\n      <td>19.42</td>\n      <td>208.8</td>\n      <td>111</td>\n      <td>9.40</td>\n      <td>12.7</td>\n      <td>6</td>\n      <td>3.43</td>\n      <td>4</td>\n      <td>True</td>\n    </tr>\n    <tr>\n      <th>15</th>\n      <td>NY</td>\n      <td>161</td>\n      <td>415</td>\n      <td>No</td>\n      <td>No</td>\n      <td>0</td>\n      <td>332.9</td>\n      <td>67</td>\n      <td>56.59</td>\n      <td>317.8</td>\n      <td>97</td>\n      <td>27.01</td>\n      <td>160.6</td>\n      <td>128</td>\n      <td>7.23</td>\n      <td>5.4</td>\n      <td>9</td>\n      <td>1.46</td>\n      <td>4</td>\n      <td>True</td>\n    </tr>\n    <tr>\n      <th>21</th>\n      <td>CO</td>\n      <td>77</td>\n      <td>408</td>\n      <td>No</td>\n      <td>No</td>\n      <td>0</td>\n      <td>62.4</td>\n      <td>89</td>\n      <td>10.61</td>\n      <td>169.9</td>\n      <td>121</td>\n      <td>14.44</td>\n      <td>209.6</td>\n      <td>64</td>\n      <td>9.43</td>\n      <td>5.7</td>\n      <td>6</td>\n      <td>1.54</td>\n      <td>5</td>\n      <td>True</td>\n    </tr>\n    <tr>\n      <th>33</th>\n      <td>AZ</td>\n      <td>12</td>\n      <td>408</td>\n      <td>No</td>\n      <td>No</td>\n      <td>0</td>\n      <td>249.6</td>\n      <td>118</td>\n      <td>42.43</td>\n      <td>252.4</td>\n      <td>119</td>\n      <td>21.45</td>\n      <td>280.2</td>\n      <td>90</td>\n      <td>12.61</td>\n      <td>11.8</td>\n      <td>3</td>\n      <td>3.19</td>\n      <td>1</td>\n      <td>True</td>\n    </tr>\n    <tr>\n      <th>41</th>\n      <td>MD</td>\n      <td>135</td>\n      <td>408</td>\n      <td>Yes</td>\n      <td>Yes</td>\n      <td>41</td>\n      <td>173.1</td>\n      <td>85</td>\n      <td>29.43</td>\n      <td>203.9</td>\n      <td>107</td>\n      <td>17.33</td>\n      <td>122.2</td>\n      <td>78</td>\n      <td>5.50</td>\n      <td>14.6</td>\n      <td>15</td>\n      <td>3.94</td>\n      <td>0</td>\n      <td>True</td>\n    </tr>\n    <tr>\n      <th>...</th>\n      <td>...</td>\n      <td>...</td>\n      <td>...</td>\n      <td>...</td>\n      <td>...</td>\n      <td>...</td>\n      <td>...</td>\n      <td>...</td>\n      <td>...</td>\n      <td>...</td>\n      <td>...</td>\n      <td>...</td>\n      <td>...</td>\n      <td>...</td>\n      <td>...</td>\n      <td>...</td>\n      <td>...</td>\n      <td>...</td>\n      <td>...</td>\n      <td>...</td>\n    </tr>\n    <tr>\n      <th>3301</th>\n      <td>CA</td>\n      <td>84</td>\n      <td>415</td>\n      <td>No</td>\n      <td>No</td>\n      <td>0</td>\n      <td>280.0</td>\n      <td>113</td>\n      <td>47.60</td>\n      <td>202.2</td>\n      <td>90</td>\n      <td>17.19</td>\n      <td>156.8</td>\n      <td>103</td>\n      <td>7.06</td>\n      <td>10.4</td>\n      <td>4</td>\n      <td>2.81</td>\n      <td>0</td>\n      <td>True</td>\n    </tr>\n    <tr>\n      <th>3304</th>\n      <td>IL</td>\n      <td>71</td>\n      <td>510</td>\n      <td>Yes</td>\n      <td>No</td>\n      <td>0</td>\n      <td>186.1</td>\n      <td>114</td>\n      <td>31.64</td>\n      <td>198.6</td>\n      <td>140</td>\n      <td>16.88</td>\n      <td>206.5</td>\n      <td>80</td>\n      <td>9.29</td>\n      <td>13.8</td>\n      <td>5</td>\n      <td>3.73</td>\n      <td>4</td>\n      <td>True</td>\n    </tr>\n    <tr>\n      <th>3320</th>\n      <td>GA</td>\n      <td>122</td>\n      <td>510</td>\n      <td>Yes</td>\n      <td>No</td>\n      <td>0</td>\n      <td>140.0</td>\n      <td>101</td>\n      <td>23.80</td>\n      <td>196.4</td>\n      <td>77</td>\n      <td>16.69</td>\n      <td>120.1</td>\n      <td>133</td>\n      <td>5.40</td>\n      <td>9.7</td>\n      <td>4</td>\n      <td>2.62</td>\n      <td>4</td>\n      <td>True</td>\n    </tr>\n    <tr>\n      <th>3322</th>\n      <td>MD</td>\n      <td>62</td>\n      <td>408</td>\n      <td>No</td>\n      <td>No</td>\n      <td>0</td>\n      <td>321.1</td>\n      <td>105</td>\n      <td>54.59</td>\n      <td>265.5</td>\n      <td>122</td>\n      <td>22.57</td>\n      <td>180.5</td>\n      <td>72</td>\n      <td>8.12</td>\n      <td>11.5</td>\n      <td>2</td>\n      <td>3.11</td>\n      <td>4</td>\n      <td>True</td>\n    </tr>\n    <tr>\n      <th>3323</th>\n      <td>IN</td>\n      <td>117</td>\n      <td>415</td>\n      <td>No</td>\n      <td>No</td>\n      <td>0</td>\n      <td>118.4</td>\n      <td>126</td>\n      <td>20.13</td>\n      <td>249.3</td>\n      <td>97</td>\n      <td>21.19</td>\n      <td>227.0</td>\n      <td>56</td>\n      <td>10.22</td>\n      <td>13.6</td>\n      <td>3</td>\n      <td>3.67</td>\n      <td>5</td>\n      <td>True</td>\n    </tr>\n  </tbody>\n</table>\n<p>483 rows × 20 columns</p>\n</div>"
          },
          "metadata": {}
        }
      ]
    },
    {
      "cell_type": "code",
      "source": "f[f[\"Area code\"] == 408]",
      "metadata": {
        "trusted": true
      },
      "execution_count": 65,
      "outputs": [
        {
          "execution_count": 65,
          "output_type": "execute_result",
          "data": {
            "text/plain": "     State  Account length  Area code International plan Voice mail plan  \\\n3       OH              84        408                Yes              No   \n8       LA             117        408                 No              No   \n12      IA             168        408                 No              No   \n16      ID              85        408                 No             Yes   \n21      CO              77        408                 No              No   \n...    ...             ...        ...                ...             ...   \n3309    VT             100        408                Yes              No   \n3312    SC             181        408                 No              No   \n3313    ID             127        408                 No              No   \n3322    MD              62        408                 No              No   \n3325    OH              78        408                 No              No   \n\n      Number vmail messages  Total day minutes  Total day calls  \\\n3                         0              299.4               71   \n8                         0              184.5               97   \n12                        0              128.8               96   \n16                       27              196.4              139   \n21                        0               62.4               89   \n...                     ...                ...              ...   \n3309                      0              219.4              112   \n3312                      0              229.9              130   \n3313                      0              102.8              128   \n3322                      0              321.1              105   \n3325                      0              193.4               99   \n\n      Total day charge  Total eve minutes  Total eve calls  Total eve charge  \\\n3                50.90               61.9               88              5.26   \n8                31.37              351.6               80             29.89   \n12               21.90              104.9               71              8.92   \n16               33.39              280.9               90             23.88   \n21               10.61              169.9              121             14.44   \n...                ...                ...              ...               ...   \n3309             37.30              225.7              102             19.18   \n3312             39.08              144.4               93             12.27   \n3313             17.48              143.7               95             12.21   \n3322             54.59              265.5              122             22.57   \n3325             32.88              116.9               88              9.94   \n\n      Total night minutes  Total night calls  Total night charge  \\\n3                   196.9                 89                8.86   \n8                   215.8                 90                9.71   \n12                  141.1                128                6.35   \n16                   89.3                 75                4.02   \n21                  209.6                 64                9.43   \n...                   ...                ...                 ...   \n3309                255.3                 95               11.49   \n3312                262.4                110               11.81   \n3313                191.4                 97                8.61   \n3322                180.5                 72                8.12   \n3325                243.3                109               10.95   \n\n      Total intl minutes  Total intl calls  Total intl charge  \\\n3                    6.6                 7               1.78   \n8                    8.7                 4               2.35   \n12                  11.2                 2               3.02   \n16                  13.8                 4               3.73   \n21                   5.7                 6               1.54   \n...                  ...               ...                ...   \n3309                12.0                 4               3.24   \n3312                14.2                 4               3.83   \n3313                10.0                 5               2.70   \n3322                11.5                 2               3.11   \n3325                 9.3                 4               2.51   \n\n      Customer service calls  Churn  \n3                          2  False  \n8                          1  False  \n12                         1  False  \n16                         1  False  \n21                         5   True  \n...                      ...    ...  \n3309                       4  False  \n3312                       2  False  \n3313                       1  False  \n3322                       4   True  \n3325                       2  False  \n\n[838 rows x 20 columns]",
            "text/html": "<div>\n<style scoped>\n    .dataframe tbody tr th:only-of-type {\n        vertical-align: middle;\n    }\n\n    .dataframe tbody tr th {\n        vertical-align: top;\n    }\n\n    .dataframe thead th {\n        text-align: right;\n    }\n</style>\n<table border=\"1\" class=\"dataframe\">\n  <thead>\n    <tr style=\"text-align: right;\">\n      <th></th>\n      <th>State</th>\n      <th>Account length</th>\n      <th>Area code</th>\n      <th>International plan</th>\n      <th>Voice mail plan</th>\n      <th>Number vmail messages</th>\n      <th>Total day minutes</th>\n      <th>Total day calls</th>\n      <th>Total day charge</th>\n      <th>Total eve minutes</th>\n      <th>Total eve calls</th>\n      <th>Total eve charge</th>\n      <th>Total night minutes</th>\n      <th>Total night calls</th>\n      <th>Total night charge</th>\n      <th>Total intl minutes</th>\n      <th>Total intl calls</th>\n      <th>Total intl charge</th>\n      <th>Customer service calls</th>\n      <th>Churn</th>\n    </tr>\n  </thead>\n  <tbody>\n    <tr>\n      <th>3</th>\n      <td>OH</td>\n      <td>84</td>\n      <td>408</td>\n      <td>Yes</td>\n      <td>No</td>\n      <td>0</td>\n      <td>299.4</td>\n      <td>71</td>\n      <td>50.90</td>\n      <td>61.9</td>\n      <td>88</td>\n      <td>5.26</td>\n      <td>196.9</td>\n      <td>89</td>\n      <td>8.86</td>\n      <td>6.6</td>\n      <td>7</td>\n      <td>1.78</td>\n      <td>2</td>\n      <td>False</td>\n    </tr>\n    <tr>\n      <th>8</th>\n      <td>LA</td>\n      <td>117</td>\n      <td>408</td>\n      <td>No</td>\n      <td>No</td>\n      <td>0</td>\n      <td>184.5</td>\n      <td>97</td>\n      <td>31.37</td>\n      <td>351.6</td>\n      <td>80</td>\n      <td>29.89</td>\n      <td>215.8</td>\n      <td>90</td>\n      <td>9.71</td>\n      <td>8.7</td>\n      <td>4</td>\n      <td>2.35</td>\n      <td>1</td>\n      <td>False</td>\n    </tr>\n    <tr>\n      <th>12</th>\n      <td>IA</td>\n      <td>168</td>\n      <td>408</td>\n      <td>No</td>\n      <td>No</td>\n      <td>0</td>\n      <td>128.8</td>\n      <td>96</td>\n      <td>21.90</td>\n      <td>104.9</td>\n      <td>71</td>\n      <td>8.92</td>\n      <td>141.1</td>\n      <td>128</td>\n      <td>6.35</td>\n      <td>11.2</td>\n      <td>2</td>\n      <td>3.02</td>\n      <td>1</td>\n      <td>False</td>\n    </tr>\n    <tr>\n      <th>16</th>\n      <td>ID</td>\n      <td>85</td>\n      <td>408</td>\n      <td>No</td>\n      <td>Yes</td>\n      <td>27</td>\n      <td>196.4</td>\n      <td>139</td>\n      <td>33.39</td>\n      <td>280.9</td>\n      <td>90</td>\n      <td>23.88</td>\n      <td>89.3</td>\n      <td>75</td>\n      <td>4.02</td>\n      <td>13.8</td>\n      <td>4</td>\n      <td>3.73</td>\n      <td>1</td>\n      <td>False</td>\n    </tr>\n    <tr>\n      <th>21</th>\n      <td>CO</td>\n      <td>77</td>\n      <td>408</td>\n      <td>No</td>\n      <td>No</td>\n      <td>0</td>\n      <td>62.4</td>\n      <td>89</td>\n      <td>10.61</td>\n      <td>169.9</td>\n      <td>121</td>\n      <td>14.44</td>\n      <td>209.6</td>\n      <td>64</td>\n      <td>9.43</td>\n      <td>5.7</td>\n      <td>6</td>\n      <td>1.54</td>\n      <td>5</td>\n      <td>True</td>\n    </tr>\n    <tr>\n      <th>...</th>\n      <td>...</td>\n      <td>...</td>\n      <td>...</td>\n      <td>...</td>\n      <td>...</td>\n      <td>...</td>\n      <td>...</td>\n      <td>...</td>\n      <td>...</td>\n      <td>...</td>\n      <td>...</td>\n      <td>...</td>\n      <td>...</td>\n      <td>...</td>\n      <td>...</td>\n      <td>...</td>\n      <td>...</td>\n      <td>...</td>\n      <td>...</td>\n      <td>...</td>\n    </tr>\n    <tr>\n      <th>3309</th>\n      <td>VT</td>\n      <td>100</td>\n      <td>408</td>\n      <td>Yes</td>\n      <td>No</td>\n      <td>0</td>\n      <td>219.4</td>\n      <td>112</td>\n      <td>37.30</td>\n      <td>225.7</td>\n      <td>102</td>\n      <td>19.18</td>\n      <td>255.3</td>\n      <td>95</td>\n      <td>11.49</td>\n      <td>12.0</td>\n      <td>4</td>\n      <td>3.24</td>\n      <td>4</td>\n      <td>False</td>\n    </tr>\n    <tr>\n      <th>3312</th>\n      <td>SC</td>\n      <td>181</td>\n      <td>408</td>\n      <td>No</td>\n      <td>No</td>\n      <td>0</td>\n      <td>229.9</td>\n      <td>130</td>\n      <td>39.08</td>\n      <td>144.4</td>\n      <td>93</td>\n      <td>12.27</td>\n      <td>262.4</td>\n      <td>110</td>\n      <td>11.81</td>\n      <td>14.2</td>\n      <td>4</td>\n      <td>3.83</td>\n      <td>2</td>\n      <td>False</td>\n    </tr>\n    <tr>\n      <th>3313</th>\n      <td>ID</td>\n      <td>127</td>\n      <td>408</td>\n      <td>No</td>\n      <td>No</td>\n      <td>0</td>\n      <td>102.8</td>\n      <td>128</td>\n      <td>17.48</td>\n      <td>143.7</td>\n      <td>95</td>\n      <td>12.21</td>\n      <td>191.4</td>\n      <td>97</td>\n      <td>8.61</td>\n      <td>10.0</td>\n      <td>5</td>\n      <td>2.70</td>\n      <td>1</td>\n      <td>False</td>\n    </tr>\n    <tr>\n      <th>3322</th>\n      <td>MD</td>\n      <td>62</td>\n      <td>408</td>\n      <td>No</td>\n      <td>No</td>\n      <td>0</td>\n      <td>321.1</td>\n      <td>105</td>\n      <td>54.59</td>\n      <td>265.5</td>\n      <td>122</td>\n      <td>22.57</td>\n      <td>180.5</td>\n      <td>72</td>\n      <td>8.12</td>\n      <td>11.5</td>\n      <td>2</td>\n      <td>3.11</td>\n      <td>4</td>\n      <td>True</td>\n    </tr>\n    <tr>\n      <th>3325</th>\n      <td>OH</td>\n      <td>78</td>\n      <td>408</td>\n      <td>No</td>\n      <td>No</td>\n      <td>0</td>\n      <td>193.4</td>\n      <td>99</td>\n      <td>32.88</td>\n      <td>116.9</td>\n      <td>88</td>\n      <td>9.94</td>\n      <td>243.3</td>\n      <td>109</td>\n      <td>10.95</td>\n      <td>9.3</td>\n      <td>4</td>\n      <td>2.51</td>\n      <td>2</td>\n      <td>False</td>\n    </tr>\n  </tbody>\n</table>\n<p>838 rows × 20 columns</p>\n</div>"
          },
          "metadata": {}
        }
      ]
    },
    {
      "cell_type": "code",
      "source": "f[f[\"Area code\"] == 408].loc[3]",
      "metadata": {
        "trusted": true
      },
      "execution_count": 66,
      "outputs": [
        {
          "execution_count": 66,
          "output_type": "execute_result",
          "data": {
            "text/plain": "State                        OH\nAccount length               84\nArea code                   408\nInternational plan          Yes\nVoice mail plan              No\nNumber vmail messages         0\nTotal day minutes         299.4\nTotal day calls              71\nTotal day charge           50.9\nTotal eve minutes          61.9\nTotal eve calls              88\nTotal eve charge           5.26\nTotal night minutes       196.9\nTotal night calls            89\nTotal night charge         8.86\nTotal intl minutes          6.6\nTotal intl calls              7\nTotal intl charge          1.78\nCustomer service calls        2\nChurn                     False\nName: 3, dtype: object"
          },
          "metadata": {}
        }
      ]
    },
    {
      "cell_type": "code",
      "source": "f[f[\"Area code\"] == 408].loc[3] == f[f[\"Area code\"] == 408].iloc[0]",
      "metadata": {
        "trusted": true
      },
      "execution_count": 67,
      "outputs": [
        {
          "execution_count": 67,
          "output_type": "execute_result",
          "data": {
            "text/plain": "State                     True\nAccount length            True\nArea code                 True\nInternational plan        True\nVoice mail plan           True\nNumber vmail messages     True\nTotal day minutes         True\nTotal day calls           True\nTotal day charge          True\nTotal eve minutes         True\nTotal eve calls           True\nTotal eve charge          True\nTotal night minutes       True\nTotal night calls         True\nTotal night charge        True\nTotal intl minutes        True\nTotal intl calls          True\nTotal intl charge         True\nCustomer service calls    True\nChurn                     True\nName: 3, dtype: bool"
          },
          "metadata": {}
        }
      ]
    },
    {
      "cell_type": "code",
      "source": "f[f.Churn == True]",
      "metadata": {
        "trusted": true
      },
      "execution_count": 68,
      "outputs": [
        {
          "execution_count": 68,
          "output_type": "execute_result",
          "data": {
            "text/plain": "     State  Account length  Area code International plan Voice mail plan  \\\n10      IN              65        415                 No              No   \n15      NY             161        415                 No              No   \n21      CO              77        408                 No              No   \n33      AZ              12        408                 No              No   \n41      MD             135        408                Yes             Yes   \n...    ...             ...        ...                ...             ...   \n3301    CA              84        415                 No              No   \n3304    IL              71        510                Yes              No   \n3320    GA             122        510                Yes              No   \n3322    MD              62        408                 No              No   \n3323    IN             117        415                 No              No   \n\n      Number vmail messages  Total day minutes  Total day calls  \\\n10                        0              129.1              137   \n15                        0              332.9               67   \n21                        0               62.4               89   \n33                        0              249.6              118   \n41                       41              173.1               85   \n...                     ...                ...              ...   \n3301                      0              280.0              113   \n3304                      0              186.1              114   \n3320                      0              140.0              101   \n3322                      0              321.1              105   \n3323                      0              118.4              126   \n\n      Total day charge  Total eve minutes  Total eve calls  Total eve charge  \\\n10               21.95              228.5               83             19.42   \n15               56.59              317.8               97             27.01   \n21               10.61              169.9              121             14.44   \n33               42.43              252.4              119             21.45   \n41               29.43              203.9              107             17.33   \n...                ...                ...              ...               ...   \n3301             47.60              202.2               90             17.19   \n3304             31.64              198.6              140             16.88   \n3320             23.80              196.4               77             16.69   \n3322             54.59              265.5              122             22.57   \n3323             20.13              249.3               97             21.19   \n\n      Total night minutes  Total night calls  Total night charge  \\\n10                  208.8                111                9.40   \n15                  160.6                128                7.23   \n21                  209.6                 64                9.43   \n33                  280.2                 90               12.61   \n41                  122.2                 78                5.50   \n...                   ...                ...                 ...   \n3301                156.8                103                7.06   \n3304                206.5                 80                9.29   \n3320                120.1                133                5.40   \n3322                180.5                 72                8.12   \n3323                227.0                 56               10.22   \n\n      Total intl minutes  Total intl calls  Total intl charge  \\\n10                  12.7                 6               3.43   \n15                   5.4                 9               1.46   \n21                   5.7                 6               1.54   \n33                  11.8                 3               3.19   \n41                  14.6                15               3.94   \n...                  ...               ...                ...   \n3301                10.4                 4               2.81   \n3304                13.8                 5               3.73   \n3320                 9.7                 4               2.62   \n3322                11.5                 2               3.11   \n3323                13.6                 3               3.67   \n\n      Customer service calls  Churn  \n10                         4   True  \n15                         4   True  \n21                         5   True  \n33                         1   True  \n41                         0   True  \n...                      ...    ...  \n3301                       0   True  \n3304                       4   True  \n3320                       4   True  \n3322                       4   True  \n3323                       5   True  \n\n[483 rows x 20 columns]",
            "text/html": "<div>\n<style scoped>\n    .dataframe tbody tr th:only-of-type {\n        vertical-align: middle;\n    }\n\n    .dataframe tbody tr th {\n        vertical-align: top;\n    }\n\n    .dataframe thead th {\n        text-align: right;\n    }\n</style>\n<table border=\"1\" class=\"dataframe\">\n  <thead>\n    <tr style=\"text-align: right;\">\n      <th></th>\n      <th>State</th>\n      <th>Account length</th>\n      <th>Area code</th>\n      <th>International plan</th>\n      <th>Voice mail plan</th>\n      <th>Number vmail messages</th>\n      <th>Total day minutes</th>\n      <th>Total day calls</th>\n      <th>Total day charge</th>\n      <th>Total eve minutes</th>\n      <th>Total eve calls</th>\n      <th>Total eve charge</th>\n      <th>Total night minutes</th>\n      <th>Total night calls</th>\n      <th>Total night charge</th>\n      <th>Total intl minutes</th>\n      <th>Total intl calls</th>\n      <th>Total intl charge</th>\n      <th>Customer service calls</th>\n      <th>Churn</th>\n    </tr>\n  </thead>\n  <tbody>\n    <tr>\n      <th>10</th>\n      <td>IN</td>\n      <td>65</td>\n      <td>415</td>\n      <td>No</td>\n      <td>No</td>\n      <td>0</td>\n      <td>129.1</td>\n      <td>137</td>\n      <td>21.95</td>\n      <td>228.5</td>\n      <td>83</td>\n      <td>19.42</td>\n      <td>208.8</td>\n      <td>111</td>\n      <td>9.40</td>\n      <td>12.7</td>\n      <td>6</td>\n      <td>3.43</td>\n      <td>4</td>\n      <td>True</td>\n    </tr>\n    <tr>\n      <th>15</th>\n      <td>NY</td>\n      <td>161</td>\n      <td>415</td>\n      <td>No</td>\n      <td>No</td>\n      <td>0</td>\n      <td>332.9</td>\n      <td>67</td>\n      <td>56.59</td>\n      <td>317.8</td>\n      <td>97</td>\n      <td>27.01</td>\n      <td>160.6</td>\n      <td>128</td>\n      <td>7.23</td>\n      <td>5.4</td>\n      <td>9</td>\n      <td>1.46</td>\n      <td>4</td>\n      <td>True</td>\n    </tr>\n    <tr>\n      <th>21</th>\n      <td>CO</td>\n      <td>77</td>\n      <td>408</td>\n      <td>No</td>\n      <td>No</td>\n      <td>0</td>\n      <td>62.4</td>\n      <td>89</td>\n      <td>10.61</td>\n      <td>169.9</td>\n      <td>121</td>\n      <td>14.44</td>\n      <td>209.6</td>\n      <td>64</td>\n      <td>9.43</td>\n      <td>5.7</td>\n      <td>6</td>\n      <td>1.54</td>\n      <td>5</td>\n      <td>True</td>\n    </tr>\n    <tr>\n      <th>33</th>\n      <td>AZ</td>\n      <td>12</td>\n      <td>408</td>\n      <td>No</td>\n      <td>No</td>\n      <td>0</td>\n      <td>249.6</td>\n      <td>118</td>\n      <td>42.43</td>\n      <td>252.4</td>\n      <td>119</td>\n      <td>21.45</td>\n      <td>280.2</td>\n      <td>90</td>\n      <td>12.61</td>\n      <td>11.8</td>\n      <td>3</td>\n      <td>3.19</td>\n      <td>1</td>\n      <td>True</td>\n    </tr>\n    <tr>\n      <th>41</th>\n      <td>MD</td>\n      <td>135</td>\n      <td>408</td>\n      <td>Yes</td>\n      <td>Yes</td>\n      <td>41</td>\n      <td>173.1</td>\n      <td>85</td>\n      <td>29.43</td>\n      <td>203.9</td>\n      <td>107</td>\n      <td>17.33</td>\n      <td>122.2</td>\n      <td>78</td>\n      <td>5.50</td>\n      <td>14.6</td>\n      <td>15</td>\n      <td>3.94</td>\n      <td>0</td>\n      <td>True</td>\n    </tr>\n    <tr>\n      <th>...</th>\n      <td>...</td>\n      <td>...</td>\n      <td>...</td>\n      <td>...</td>\n      <td>...</td>\n      <td>...</td>\n      <td>...</td>\n      <td>...</td>\n      <td>...</td>\n      <td>...</td>\n      <td>...</td>\n      <td>...</td>\n      <td>...</td>\n      <td>...</td>\n      <td>...</td>\n      <td>...</td>\n      <td>...</td>\n      <td>...</td>\n      <td>...</td>\n      <td>...</td>\n    </tr>\n    <tr>\n      <th>3301</th>\n      <td>CA</td>\n      <td>84</td>\n      <td>415</td>\n      <td>No</td>\n      <td>No</td>\n      <td>0</td>\n      <td>280.0</td>\n      <td>113</td>\n      <td>47.60</td>\n      <td>202.2</td>\n      <td>90</td>\n      <td>17.19</td>\n      <td>156.8</td>\n      <td>103</td>\n      <td>7.06</td>\n      <td>10.4</td>\n      <td>4</td>\n      <td>2.81</td>\n      <td>0</td>\n      <td>True</td>\n    </tr>\n    <tr>\n      <th>3304</th>\n      <td>IL</td>\n      <td>71</td>\n      <td>510</td>\n      <td>Yes</td>\n      <td>No</td>\n      <td>0</td>\n      <td>186.1</td>\n      <td>114</td>\n      <td>31.64</td>\n      <td>198.6</td>\n      <td>140</td>\n      <td>16.88</td>\n      <td>206.5</td>\n      <td>80</td>\n      <td>9.29</td>\n      <td>13.8</td>\n      <td>5</td>\n      <td>3.73</td>\n      <td>4</td>\n      <td>True</td>\n    </tr>\n    <tr>\n      <th>3320</th>\n      <td>GA</td>\n      <td>122</td>\n      <td>510</td>\n      <td>Yes</td>\n      <td>No</td>\n      <td>0</td>\n      <td>140.0</td>\n      <td>101</td>\n      <td>23.80</td>\n      <td>196.4</td>\n      <td>77</td>\n      <td>16.69</td>\n      <td>120.1</td>\n      <td>133</td>\n      <td>5.40</td>\n      <td>9.7</td>\n      <td>4</td>\n      <td>2.62</td>\n      <td>4</td>\n      <td>True</td>\n    </tr>\n    <tr>\n      <th>3322</th>\n      <td>MD</td>\n      <td>62</td>\n      <td>408</td>\n      <td>No</td>\n      <td>No</td>\n      <td>0</td>\n      <td>321.1</td>\n      <td>105</td>\n      <td>54.59</td>\n      <td>265.5</td>\n      <td>122</td>\n      <td>22.57</td>\n      <td>180.5</td>\n      <td>72</td>\n      <td>8.12</td>\n      <td>11.5</td>\n      <td>2</td>\n      <td>3.11</td>\n      <td>4</td>\n      <td>True</td>\n    </tr>\n    <tr>\n      <th>3323</th>\n      <td>IN</td>\n      <td>117</td>\n      <td>415</td>\n      <td>No</td>\n      <td>No</td>\n      <td>0</td>\n      <td>118.4</td>\n      <td>126</td>\n      <td>20.13</td>\n      <td>249.3</td>\n      <td>97</td>\n      <td>21.19</td>\n      <td>227.0</td>\n      <td>56</td>\n      <td>10.22</td>\n      <td>13.6</td>\n      <td>3</td>\n      <td>3.67</td>\n      <td>5</td>\n      <td>True</td>\n    </tr>\n  </tbody>\n</table>\n<p>483 rows × 20 columns</p>\n</div>"
          },
          "metadata": {}
        }
      ]
    },
    {
      "cell_type": "code",
      "source": "f[f.Churn == True].mean()",
      "metadata": {
        "trusted": true
      },
      "execution_count": 69,
      "outputs": [
        {
          "name": "stderr",
          "text": "<ipython-input-69-4113a41f64e3>:1: FutureWarning: Dropping of nuisance columns in DataFrame reductions (with 'numeric_only=None') is deprecated; in a future version this will raise TypeError.  Select only valid columns before calling the reduction.\n  f[f.Churn == True].mean()\n",
          "output_type": "stream"
        },
        {
          "execution_count": 69,
          "output_type": "execute_result",
          "data": {
            "text/plain": "Account length            102.664596\nArea code                 437.817805\nNumber vmail messages       5.115942\nTotal day minutes         206.914079\nTotal day calls           101.335404\nTotal day charge           35.175921\nTotal eve minutes         212.410145\nTotal eve calls           100.561077\nTotal eve charge           18.054969\nTotal night minutes       205.231677\nTotal night calls         100.399586\nTotal night charge          9.235528\nTotal intl minutes         10.700000\nTotal intl calls            4.163561\nTotal intl charge           2.889545\nCustomer service calls      2.229814\nChurn                       1.000000\ndtype: float64"
          },
          "metadata": {}
        }
      ]
    },
    {
      "cell_type": "code",
      "source": "f[f.Churn == True].sum()",
      "metadata": {
        "trusted": true
      },
      "execution_count": 70,
      "outputs": [
        {
          "execution_count": 70,
          "output_type": "execute_result",
          "data": {
            "text/plain": "State                     INNYCOAZMDIDWYCOTXDCNYTXINNJLAMSIDMENVMSMSVTOH...\nAccount length                                                        49587\nArea code                                                            211466\nInternational plan        NoNoNoNoYesNoNoNoNoNoNoNoNoNoNoNoNoYesNoNoNoYe...\nVoice mail plan           NoNoNoNoYesNoNoYesNoNoNoNoNoNoNoNoNoYesNoNoYes...\nNumber vmail messages                                                  2471\nTotal day minutes                                                   99939.5\nTotal day calls                                                       48945\nTotal day charge                                                   16989.97\nTotal eve minutes                                                  102594.1\nTotal eve calls                                                       48571\nTotal eve charge                                                    8720.55\nTotal night minutes                                                 99126.9\nTotal night calls                                                     48493\nTotal night charge                                                  4460.76\nTotal intl minutes                                                   5168.1\nTotal intl calls                                                       2011\nTotal intl charge                                                   1395.65\nCustomer service calls                                                 1077\nChurn                                                                   483\ndtype: object"
          },
          "metadata": {}
        }
      ]
    },
    {
      "cell_type": "markdown",
      "source": "Выборка по нескольким условиям требует скобок, т.к. операции `&`, `|`, `~` (и, или, не) имеют более высокий приоритет, чем `==`, `>=`, `<=` и арифметические:",
      "metadata": {}
    },
    {
      "cell_type": "code",
      "source": "f[(f.Churn == True) & (f[\"Area code\"] == 408)]",
      "metadata": {
        "scrolled": true,
        "trusted": true
      },
      "execution_count": 71,
      "outputs": [
        {
          "execution_count": 71,
          "output_type": "execute_result",
          "data": {
            "text/plain": "     State  Account length  Area code International plan Voice mail plan  \\\n21      CO              77        408                 No              No   \n33      AZ              12        408                 No              No   \n41      MD             135        408                Yes             Yes   \n57      CO             121        408                 No             Yes   \n77      NY             144        408                 No              No   \n...    ...             ...        ...                ...             ...   \n3151    ME              56        408                 No              No   \n3205    MS             111        408                 No              No   \n3246    NC              77        408                Yes             Yes   \n3280    AR              76        408                 No              No   \n3322    MD              62        408                 No              No   \n\n      Number vmail messages  Total day minutes  Total day calls  \\\n21                        0               62.4               89   \n33                        0              249.6              118   \n41                       41              173.1               85   \n57                       30              198.4              129   \n77                        0               61.6              117   \n...                     ...                ...              ...   \n3151                      0              221.9              112   \n3205                      0              294.7               90   \n3246                     44              103.2              117   \n3280                      0              107.3              140   \n3322                      0              321.1              105   \n\n      Total day charge  Total eve minutes  Total eve calls  Total eve charge  \\\n21               10.61              169.9              121             14.44   \n33               42.43              252.4              119             21.45   \n41               29.43              203.9              107             17.33   \n57               33.73               75.3               77              6.40   \n77               10.47               77.1               85              6.55   \n...                ...                ...              ...               ...   \n3151             37.72              278.2              122             23.65   \n3205             50.10              294.6               72             25.04   \n3246             17.54              236.3               86             20.09   \n3280             18.24              238.2              133             20.25   \n3322             54.59              265.5              122             22.57   \n\n      Total night minutes  Total night calls  Total night charge  \\\n21                  209.6                 64                9.43   \n33                  280.2                 90               12.61   \n41                  122.2                 78                5.50   \n57                  181.2                 77                8.15   \n77                  173.0                 99                7.79   \n...                   ...                ...                 ...   \n3151                288.1                 85               12.96   \n3205                260.1                121               11.70   \n3246                203.5                101                9.16   \n3280                271.8                116               12.23   \n3322                180.5                 72                8.12   \n\n      Total intl minutes  Total intl calls  Total intl charge  \\\n21                   5.7                 6               1.54   \n33                  11.8                 3               3.19   \n41                  14.6                15               3.94   \n57                   5.8                 3               1.57   \n77                   8.2                 7               2.21   \n...                  ...               ...                ...   \n3151                 7.1                 5               1.92   \n3205                10.8                 3               2.92   \n3246                11.9                 2               3.21   \n3280                10.0                 3               2.70   \n3322                11.5                 2               3.11   \n\n      Customer service calls  Churn  \n21                         5   True  \n33                         1   True  \n41                         0   True  \n57                         3   True  \n77                         4   True  \n...                      ...    ...  \n3151                       0   True  \n3205                       1   True  \n3246                       0   True  \n3280                       4   True  \n3322                       4   True  \n\n[122 rows x 20 columns]",
            "text/html": "<div>\n<style scoped>\n    .dataframe tbody tr th:only-of-type {\n        vertical-align: middle;\n    }\n\n    .dataframe tbody tr th {\n        vertical-align: top;\n    }\n\n    .dataframe thead th {\n        text-align: right;\n    }\n</style>\n<table border=\"1\" class=\"dataframe\">\n  <thead>\n    <tr style=\"text-align: right;\">\n      <th></th>\n      <th>State</th>\n      <th>Account length</th>\n      <th>Area code</th>\n      <th>International plan</th>\n      <th>Voice mail plan</th>\n      <th>Number vmail messages</th>\n      <th>Total day minutes</th>\n      <th>Total day calls</th>\n      <th>Total day charge</th>\n      <th>Total eve minutes</th>\n      <th>Total eve calls</th>\n      <th>Total eve charge</th>\n      <th>Total night minutes</th>\n      <th>Total night calls</th>\n      <th>Total night charge</th>\n      <th>Total intl minutes</th>\n      <th>Total intl calls</th>\n      <th>Total intl charge</th>\n      <th>Customer service calls</th>\n      <th>Churn</th>\n    </tr>\n  </thead>\n  <tbody>\n    <tr>\n      <th>21</th>\n      <td>CO</td>\n      <td>77</td>\n      <td>408</td>\n      <td>No</td>\n      <td>No</td>\n      <td>0</td>\n      <td>62.4</td>\n      <td>89</td>\n      <td>10.61</td>\n      <td>169.9</td>\n      <td>121</td>\n      <td>14.44</td>\n      <td>209.6</td>\n      <td>64</td>\n      <td>9.43</td>\n      <td>5.7</td>\n      <td>6</td>\n      <td>1.54</td>\n      <td>5</td>\n      <td>True</td>\n    </tr>\n    <tr>\n      <th>33</th>\n      <td>AZ</td>\n      <td>12</td>\n      <td>408</td>\n      <td>No</td>\n      <td>No</td>\n      <td>0</td>\n      <td>249.6</td>\n      <td>118</td>\n      <td>42.43</td>\n      <td>252.4</td>\n      <td>119</td>\n      <td>21.45</td>\n      <td>280.2</td>\n      <td>90</td>\n      <td>12.61</td>\n      <td>11.8</td>\n      <td>3</td>\n      <td>3.19</td>\n      <td>1</td>\n      <td>True</td>\n    </tr>\n    <tr>\n      <th>41</th>\n      <td>MD</td>\n      <td>135</td>\n      <td>408</td>\n      <td>Yes</td>\n      <td>Yes</td>\n      <td>41</td>\n      <td>173.1</td>\n      <td>85</td>\n      <td>29.43</td>\n      <td>203.9</td>\n      <td>107</td>\n      <td>17.33</td>\n      <td>122.2</td>\n      <td>78</td>\n      <td>5.50</td>\n      <td>14.6</td>\n      <td>15</td>\n      <td>3.94</td>\n      <td>0</td>\n      <td>True</td>\n    </tr>\n    <tr>\n      <th>57</th>\n      <td>CO</td>\n      <td>121</td>\n      <td>408</td>\n      <td>No</td>\n      <td>Yes</td>\n      <td>30</td>\n      <td>198.4</td>\n      <td>129</td>\n      <td>33.73</td>\n      <td>75.3</td>\n      <td>77</td>\n      <td>6.40</td>\n      <td>181.2</td>\n      <td>77</td>\n      <td>8.15</td>\n      <td>5.8</td>\n      <td>3</td>\n      <td>1.57</td>\n      <td>3</td>\n      <td>True</td>\n    </tr>\n    <tr>\n      <th>77</th>\n      <td>NY</td>\n      <td>144</td>\n      <td>408</td>\n      <td>No</td>\n      <td>No</td>\n      <td>0</td>\n      <td>61.6</td>\n      <td>117</td>\n      <td>10.47</td>\n      <td>77.1</td>\n      <td>85</td>\n      <td>6.55</td>\n      <td>173.0</td>\n      <td>99</td>\n      <td>7.79</td>\n      <td>8.2</td>\n      <td>7</td>\n      <td>2.21</td>\n      <td>4</td>\n      <td>True</td>\n    </tr>\n    <tr>\n      <th>...</th>\n      <td>...</td>\n      <td>...</td>\n      <td>...</td>\n      <td>...</td>\n      <td>...</td>\n      <td>...</td>\n      <td>...</td>\n      <td>...</td>\n      <td>...</td>\n      <td>...</td>\n      <td>...</td>\n      <td>...</td>\n      <td>...</td>\n      <td>...</td>\n      <td>...</td>\n      <td>...</td>\n      <td>...</td>\n      <td>...</td>\n      <td>...</td>\n      <td>...</td>\n    </tr>\n    <tr>\n      <th>3151</th>\n      <td>ME</td>\n      <td>56</td>\n      <td>408</td>\n      <td>No</td>\n      <td>No</td>\n      <td>0</td>\n      <td>221.9</td>\n      <td>112</td>\n      <td>37.72</td>\n      <td>278.2</td>\n      <td>122</td>\n      <td>23.65</td>\n      <td>288.1</td>\n      <td>85</td>\n      <td>12.96</td>\n      <td>7.1</td>\n      <td>5</td>\n      <td>1.92</td>\n      <td>0</td>\n      <td>True</td>\n    </tr>\n    <tr>\n      <th>3205</th>\n      <td>MS</td>\n      <td>111</td>\n      <td>408</td>\n      <td>No</td>\n      <td>No</td>\n      <td>0</td>\n      <td>294.7</td>\n      <td>90</td>\n      <td>50.10</td>\n      <td>294.6</td>\n      <td>72</td>\n      <td>25.04</td>\n      <td>260.1</td>\n      <td>121</td>\n      <td>11.70</td>\n      <td>10.8</td>\n      <td>3</td>\n      <td>2.92</td>\n      <td>1</td>\n      <td>True</td>\n    </tr>\n    <tr>\n      <th>3246</th>\n      <td>NC</td>\n      <td>77</td>\n      <td>408</td>\n      <td>Yes</td>\n      <td>Yes</td>\n      <td>44</td>\n      <td>103.2</td>\n      <td>117</td>\n      <td>17.54</td>\n      <td>236.3</td>\n      <td>86</td>\n      <td>20.09</td>\n      <td>203.5</td>\n      <td>101</td>\n      <td>9.16</td>\n      <td>11.9</td>\n      <td>2</td>\n      <td>3.21</td>\n      <td>0</td>\n      <td>True</td>\n    </tr>\n    <tr>\n      <th>3280</th>\n      <td>AR</td>\n      <td>76</td>\n      <td>408</td>\n      <td>No</td>\n      <td>No</td>\n      <td>0</td>\n      <td>107.3</td>\n      <td>140</td>\n      <td>18.24</td>\n      <td>238.2</td>\n      <td>133</td>\n      <td>20.25</td>\n      <td>271.8</td>\n      <td>116</td>\n      <td>12.23</td>\n      <td>10.0</td>\n      <td>3</td>\n      <td>2.70</td>\n      <td>4</td>\n      <td>True</td>\n    </tr>\n    <tr>\n      <th>3322</th>\n      <td>MD</td>\n      <td>62</td>\n      <td>408</td>\n      <td>No</td>\n      <td>No</td>\n      <td>0</td>\n      <td>321.1</td>\n      <td>105</td>\n      <td>54.59</td>\n      <td>265.5</td>\n      <td>122</td>\n      <td>22.57</td>\n      <td>180.5</td>\n      <td>72</td>\n      <td>8.12</td>\n      <td>11.5</td>\n      <td>2</td>\n      <td>3.11</td>\n      <td>4</td>\n      <td>True</td>\n    </tr>\n  </tbody>\n</table>\n<p>122 rows × 20 columns</p>\n</div>"
          },
          "metadata": {}
        }
      ]
    },
    {
      "cell_type": "markdown",
      "source": "Можем посмотреть средние показатели лояльных и нелояльных клиентов (столбец \"Churn\" показывает, ушел клиент от нас как от оператора связи или нет).",
      "metadata": {}
    },
    {
      "cell_type": "code",
      "source": "loyal = f[f.Churn == False].mean()\nunloyal = f[f.Churn == True].mean()\npd.DataFrame({\"loyal\": loyal, \"unloyal\": unloyal})",
      "metadata": {
        "trusted": true
      },
      "execution_count": 72,
      "outputs": [
        {
          "name": "stderr",
          "text": "<ipython-input-72-dca2f1582112>:1: FutureWarning: Dropping of nuisance columns in DataFrame reductions (with 'numeric_only=None') is deprecated; in a future version this will raise TypeError.  Select only valid columns before calling the reduction.\n  loyal = f[f.Churn == False].mean()\n<ipython-input-72-dca2f1582112>:2: FutureWarning: Dropping of nuisance columns in DataFrame reductions (with 'numeric_only=None') is deprecated; in a future version this will raise TypeError.  Select only valid columns before calling the reduction.\n  unloyal = f[f.Churn == True].mean()\n",
          "output_type": "stream"
        },
        {
          "execution_count": 72,
          "output_type": "execute_result",
          "data": {
            "text/plain": "                             loyal     unloyal\nAccount length          100.793684  102.664596\nArea code               437.074737  437.817805\nNumber vmail messages     8.604561    5.115942\nTotal day minutes       175.175754  206.914079\nTotal day calls         100.283158  101.335404\nTotal day charge         29.780421   35.175921\nTotal eve minutes       199.043298  212.410145\nTotal eve calls         100.038596  100.561077\nTotal eve charge         16.918909   18.054969\nTotal night minutes     200.133193  205.231677\nTotal night calls       100.058246  100.399586\nTotal night charge        9.006074    9.235528\nTotal intl minutes       10.158877   10.700000\nTotal intl calls          4.532982    4.163561\nTotal intl charge         2.743404    2.889545\nCustomer service calls    1.449825    2.229814\nChurn                     0.000000    1.000000",
            "text/html": "<div>\n<style scoped>\n    .dataframe tbody tr th:only-of-type {\n        vertical-align: middle;\n    }\n\n    .dataframe tbody tr th {\n        vertical-align: top;\n    }\n\n    .dataframe thead th {\n        text-align: right;\n    }\n</style>\n<table border=\"1\" class=\"dataframe\">\n  <thead>\n    <tr style=\"text-align: right;\">\n      <th></th>\n      <th>loyal</th>\n      <th>unloyal</th>\n    </tr>\n  </thead>\n  <tbody>\n    <tr>\n      <th>Account length</th>\n      <td>100.793684</td>\n      <td>102.664596</td>\n    </tr>\n    <tr>\n      <th>Area code</th>\n      <td>437.074737</td>\n      <td>437.817805</td>\n    </tr>\n    <tr>\n      <th>Number vmail messages</th>\n      <td>8.604561</td>\n      <td>5.115942</td>\n    </tr>\n    <tr>\n      <th>Total day minutes</th>\n      <td>175.175754</td>\n      <td>206.914079</td>\n    </tr>\n    <tr>\n      <th>Total day calls</th>\n      <td>100.283158</td>\n      <td>101.335404</td>\n    </tr>\n    <tr>\n      <th>Total day charge</th>\n      <td>29.780421</td>\n      <td>35.175921</td>\n    </tr>\n    <tr>\n      <th>Total eve minutes</th>\n      <td>199.043298</td>\n      <td>212.410145</td>\n    </tr>\n    <tr>\n      <th>Total eve calls</th>\n      <td>100.038596</td>\n      <td>100.561077</td>\n    </tr>\n    <tr>\n      <th>Total eve charge</th>\n      <td>16.918909</td>\n      <td>18.054969</td>\n    </tr>\n    <tr>\n      <th>Total night minutes</th>\n      <td>200.133193</td>\n      <td>205.231677</td>\n    </tr>\n    <tr>\n      <th>Total night calls</th>\n      <td>100.058246</td>\n      <td>100.399586</td>\n    </tr>\n    <tr>\n      <th>Total night charge</th>\n      <td>9.006074</td>\n      <td>9.235528</td>\n    </tr>\n    <tr>\n      <th>Total intl minutes</th>\n      <td>10.158877</td>\n      <td>10.700000</td>\n    </tr>\n    <tr>\n      <th>Total intl calls</th>\n      <td>4.532982</td>\n      <td>4.163561</td>\n    </tr>\n    <tr>\n      <th>Total intl charge</th>\n      <td>2.743404</td>\n      <td>2.889545</td>\n    </tr>\n    <tr>\n      <th>Customer service calls</th>\n      <td>1.449825</td>\n      <td>2.229814</td>\n    </tr>\n    <tr>\n      <th>Churn</th>\n      <td>0.000000</td>\n      <td>1.000000</td>\n    </tr>\n  </tbody>\n</table>\n</div>"
          },
          "metadata": {}
        }
      ]
    },
    {
      "cell_type": "markdown",
      "source": "`groupby` позволяет делать группировку по уникальным значениям столбца, которые будут играть роль индекса в полученном датафрейме. При этом также нужна функция агрегации (`mean`, `sum`, `max` и прочие), чтобы отобразить полученный объект.",
      "metadata": {}
    },
    {
      "cell_type": "code",
      "source": "f.groupby(\"Churn\")",
      "metadata": {
        "trusted": true
      },
      "execution_count": 73,
      "outputs": [
        {
          "execution_count": 73,
          "output_type": "execute_result",
          "data": {
            "text/plain": "<pandas.core.groupby.generic.DataFrameGroupBy object at 0x67dfe28>"
          },
          "metadata": {}
        }
      ]
    },
    {
      "cell_type": "code",
      "source": "f.groupby(\"Churn\").mean()",
      "metadata": {
        "trusted": true
      },
      "execution_count": 74,
      "outputs": [
        {
          "execution_count": 74,
          "output_type": "execute_result",
          "data": {
            "text/plain": "       Account length   Area code  Number vmail messages  Total day minutes  \\\nChurn                                                                         \nFalse      100.793684  437.074737               8.604561         175.175754   \nTrue       102.664596  437.817805               5.115942         206.914079   \n\n       Total day calls  Total day charge  Total eve minutes  Total eve calls  \\\nChurn                                                                          \nFalse       100.283158         29.780421         199.043298       100.038596   \nTrue        101.335404         35.175921         212.410145       100.561077   \n\n       Total eve charge  Total night minutes  Total night calls  \\\nChurn                                                             \nFalse         16.918909           200.133193         100.058246   \nTrue          18.054969           205.231677         100.399586   \n\n       Total night charge  Total intl minutes  Total intl calls  \\\nChurn                                                             \nFalse            9.006074           10.158877          4.532982   \nTrue             9.235528           10.700000          4.163561   \n\n       Total intl charge  Customer service calls  \nChurn                                             \nFalse           2.743404                1.449825  \nTrue            2.889545                2.229814  ",
            "text/html": "<div>\n<style scoped>\n    .dataframe tbody tr th:only-of-type {\n        vertical-align: middle;\n    }\n\n    .dataframe tbody tr th {\n        vertical-align: top;\n    }\n\n    .dataframe thead th {\n        text-align: right;\n    }\n</style>\n<table border=\"1\" class=\"dataframe\">\n  <thead>\n    <tr style=\"text-align: right;\">\n      <th></th>\n      <th>Account length</th>\n      <th>Area code</th>\n      <th>Number vmail messages</th>\n      <th>Total day minutes</th>\n      <th>Total day calls</th>\n      <th>Total day charge</th>\n      <th>Total eve minutes</th>\n      <th>Total eve calls</th>\n      <th>Total eve charge</th>\n      <th>Total night minutes</th>\n      <th>Total night calls</th>\n      <th>Total night charge</th>\n      <th>Total intl minutes</th>\n      <th>Total intl calls</th>\n      <th>Total intl charge</th>\n      <th>Customer service calls</th>\n    </tr>\n    <tr>\n      <th>Churn</th>\n      <th></th>\n      <th></th>\n      <th></th>\n      <th></th>\n      <th></th>\n      <th></th>\n      <th></th>\n      <th></th>\n      <th></th>\n      <th></th>\n      <th></th>\n      <th></th>\n      <th></th>\n      <th></th>\n      <th></th>\n      <th></th>\n    </tr>\n  </thead>\n  <tbody>\n    <tr>\n      <th>False</th>\n      <td>100.793684</td>\n      <td>437.074737</td>\n      <td>8.604561</td>\n      <td>175.175754</td>\n      <td>100.283158</td>\n      <td>29.780421</td>\n      <td>199.043298</td>\n      <td>100.038596</td>\n      <td>16.918909</td>\n      <td>200.133193</td>\n      <td>100.058246</td>\n      <td>9.006074</td>\n      <td>10.158877</td>\n      <td>4.532982</td>\n      <td>2.743404</td>\n      <td>1.449825</td>\n    </tr>\n    <tr>\n      <th>True</th>\n      <td>102.664596</td>\n      <td>437.817805</td>\n      <td>5.115942</td>\n      <td>206.914079</td>\n      <td>101.335404</td>\n      <td>35.175921</td>\n      <td>212.410145</td>\n      <td>100.561077</td>\n      <td>18.054969</td>\n      <td>205.231677</td>\n      <td>100.399586</td>\n      <td>9.235528</td>\n      <td>10.700000</td>\n      <td>4.163561</td>\n      <td>2.889545</td>\n      <td>2.229814</td>\n    </tr>\n  </tbody>\n</table>\n</div>"
          },
          "metadata": {}
        }
      ]
    },
    {
      "cell_type": "markdown",
      "source": "Здесь мы сделали агрегацию всех столбцов функцией `mean`. Часто нам нужна агрегация по конкретному или конкретным столбцам. Посмотрим, например, в каком штате больше всего разговаривают по телефону:",
      "metadata": {}
    },
    {
      "cell_type": "code",
      "source": "f.groupby([\"State\"]).agg({\"Total day minutes\": \"mean\"})",
      "metadata": {
        "trusted": true
      },
      "execution_count": 75,
      "outputs": [
        {
          "execution_count": 75,
          "output_type": "execute_result",
          "data": {
            "text/plain": "       Total day minutes\nState                   \nAK            178.384615\nAL            186.010000\nAR            176.116364\nAZ            171.604688\nCA            183.564706\nCO            178.712121\nCT            175.140541\nDC            171.379630\nDE            174.583607\nFL            179.533333\nGA            185.025926\nHI            175.962264\nIA            177.613636\nID            178.619178\nIL            173.591379\nIN            196.525352\nKS            191.555714\nKY            173.754237\nLA            178.376471\nMA            180.103077\nMD            197.228571\nME            185.262903\nMI            180.593151\nMN            183.354762\nMO            170.506349\nMS            177.929231\nMT            174.007353\nNC            185.145588\nND            187.338710\nNE            177.465574\nNH            177.328571\nNJ            196.225000\nNM            171.429032\nNV            176.425758\nNY            175.114458\nOH            183.274359\nOK            179.909836\nOR            176.246154\nPA            188.375556\nRI            167.478462\nSC            166.441667\nSD            189.690000\nTN            175.771698\nTX            181.516667\nUT            183.569444\nVA            177.244156\nVT            182.031507\nWA            178.742424\nWI            179.130769\nWV            173.950943\nWY            180.170130",
            "text/html": "<div>\n<style scoped>\n    .dataframe tbody tr th:only-of-type {\n        vertical-align: middle;\n    }\n\n    .dataframe tbody tr th {\n        vertical-align: top;\n    }\n\n    .dataframe thead th {\n        text-align: right;\n    }\n</style>\n<table border=\"1\" class=\"dataframe\">\n  <thead>\n    <tr style=\"text-align: right;\">\n      <th></th>\n      <th>Total day minutes</th>\n    </tr>\n    <tr>\n      <th>State</th>\n      <th></th>\n    </tr>\n  </thead>\n  <tbody>\n    <tr>\n      <th>AK</th>\n      <td>178.384615</td>\n    </tr>\n    <tr>\n      <th>AL</th>\n      <td>186.010000</td>\n    </tr>\n    <tr>\n      <th>AR</th>\n      <td>176.116364</td>\n    </tr>\n    <tr>\n      <th>AZ</th>\n      <td>171.604688</td>\n    </tr>\n    <tr>\n      <th>CA</th>\n      <td>183.564706</td>\n    </tr>\n    <tr>\n      <th>CO</th>\n      <td>178.712121</td>\n    </tr>\n    <tr>\n      <th>CT</th>\n      <td>175.140541</td>\n    </tr>\n    <tr>\n      <th>DC</th>\n      <td>171.379630</td>\n    </tr>\n    <tr>\n      <th>DE</th>\n      <td>174.583607</td>\n    </tr>\n    <tr>\n      <th>FL</th>\n      <td>179.533333</td>\n    </tr>\n    <tr>\n      <th>GA</th>\n      <td>185.025926</td>\n    </tr>\n    <tr>\n      <th>HI</th>\n      <td>175.962264</td>\n    </tr>\n    <tr>\n      <th>IA</th>\n      <td>177.613636</td>\n    </tr>\n    <tr>\n      <th>ID</th>\n      <td>178.619178</td>\n    </tr>\n    <tr>\n      <th>IL</th>\n      <td>173.591379</td>\n    </tr>\n    <tr>\n      <th>IN</th>\n      <td>196.525352</td>\n    </tr>\n    <tr>\n      <th>KS</th>\n      <td>191.555714</td>\n    </tr>\n    <tr>\n      <th>KY</th>\n      <td>173.754237</td>\n    </tr>\n    <tr>\n      <th>LA</th>\n      <td>178.376471</td>\n    </tr>\n    <tr>\n      <th>MA</th>\n      <td>180.103077</td>\n    </tr>\n    <tr>\n      <th>MD</th>\n      <td>197.228571</td>\n    </tr>\n    <tr>\n      <th>ME</th>\n      <td>185.262903</td>\n    </tr>\n    <tr>\n      <th>MI</th>\n      <td>180.593151</td>\n    </tr>\n    <tr>\n      <th>MN</th>\n      <td>183.354762</td>\n    </tr>\n    <tr>\n      <th>MO</th>\n      <td>170.506349</td>\n    </tr>\n    <tr>\n      <th>MS</th>\n      <td>177.929231</td>\n    </tr>\n    <tr>\n      <th>MT</th>\n      <td>174.007353</td>\n    </tr>\n    <tr>\n      <th>NC</th>\n      <td>185.145588</td>\n    </tr>\n    <tr>\n      <th>ND</th>\n      <td>187.338710</td>\n    </tr>\n    <tr>\n      <th>NE</th>\n      <td>177.465574</td>\n    </tr>\n    <tr>\n      <th>NH</th>\n      <td>177.328571</td>\n    </tr>\n    <tr>\n      <th>NJ</th>\n      <td>196.225000</td>\n    </tr>\n    <tr>\n      <th>NM</th>\n      <td>171.429032</td>\n    </tr>\n    <tr>\n      <th>NV</th>\n      <td>176.425758</td>\n    </tr>\n    <tr>\n      <th>NY</th>\n      <td>175.114458</td>\n    </tr>\n    <tr>\n      <th>OH</th>\n      <td>183.274359</td>\n    </tr>\n    <tr>\n      <th>OK</th>\n      <td>179.909836</td>\n    </tr>\n    <tr>\n      <th>OR</th>\n      <td>176.246154</td>\n    </tr>\n    <tr>\n      <th>PA</th>\n      <td>188.375556</td>\n    </tr>\n    <tr>\n      <th>RI</th>\n      <td>167.478462</td>\n    </tr>\n    <tr>\n      <th>SC</th>\n      <td>166.441667</td>\n    </tr>\n    <tr>\n      <th>SD</th>\n      <td>189.690000</td>\n    </tr>\n    <tr>\n      <th>TN</th>\n      <td>175.771698</td>\n    </tr>\n    <tr>\n      <th>TX</th>\n      <td>181.516667</td>\n    </tr>\n    <tr>\n      <th>UT</th>\n      <td>183.569444</td>\n    </tr>\n    <tr>\n      <th>VA</th>\n      <td>177.244156</td>\n    </tr>\n    <tr>\n      <th>VT</th>\n      <td>182.031507</td>\n    </tr>\n    <tr>\n      <th>WA</th>\n      <td>178.742424</td>\n    </tr>\n    <tr>\n      <th>WI</th>\n      <td>179.130769</td>\n    </tr>\n    <tr>\n      <th>WV</th>\n      <td>173.950943</td>\n    </tr>\n    <tr>\n      <th>WY</th>\n      <td>180.170130</td>\n    </tr>\n  </tbody>\n</table>\n</div>"
          },
          "metadata": {}
        }
      ]
    },
    {
      "cell_type": "markdown",
      "source": "Максимальное значение времени:",
      "metadata": {}
    },
    {
      "cell_type": "code",
      "source": "f.groupby([\"State\"]).agg({\"Total day minutes\": \"mean\"}).max()",
      "metadata": {
        "trusted": true
      },
      "execution_count": 76,
      "outputs": [
        {
          "execution_count": 76,
          "output_type": "execute_result",
          "data": {
            "text/plain": "Total day minutes    197.228571\ndtype: float64"
          },
          "metadata": {}
        }
      ]
    },
    {
      "cell_type": "markdown",
      "source": "Чтобы найти сам штат, можем отсортировать данные:",
      "metadata": {}
    },
    {
      "cell_type": "code",
      "source": "f.groupby([\"State\"]).agg({\"Total day minutes\": \"mean\"}).sort_values(by=\"Total day minutes\", ascending = False)",
      "metadata": {
        "trusted": true
      },
      "execution_count": 77,
      "outputs": [
        {
          "execution_count": 77,
          "output_type": "execute_result",
          "data": {
            "text/plain": "       Total day minutes\nState                   \nMD            197.228571\nIN            196.525352\nNJ            196.225000\nKS            191.555714\nSD            189.690000\nPA            188.375556\nND            187.338710\nAL            186.010000\nME            185.262903\nNC            185.145588\nGA            185.025926\nUT            183.569444\nCA            183.564706\nMN            183.354762\nOH            183.274359\nVT            182.031507\nTX            181.516667\nMI            180.593151\nWY            180.170130\nMA            180.103077\nOK            179.909836\nFL            179.533333\nWI            179.130769\nWA            178.742424\nCO            178.712121\nID            178.619178\nAK            178.384615\nLA            178.376471\nMS            177.929231\nIA            177.613636\nNE            177.465574\nNH            177.328571\nVA            177.244156\nNV            176.425758\nOR            176.246154\nAR            176.116364\nHI            175.962264\nTN            175.771698\nCT            175.140541\nNY            175.114458\nDE            174.583607\nMT            174.007353\nWV            173.950943\nKY            173.754237\nIL            173.591379\nAZ            171.604688\nNM            171.429032\nDC            171.379630\nMO            170.506349\nRI            167.478462\nSC            166.441667",
            "text/html": "<div>\n<style scoped>\n    .dataframe tbody tr th:only-of-type {\n        vertical-align: middle;\n    }\n\n    .dataframe tbody tr th {\n        vertical-align: top;\n    }\n\n    .dataframe thead th {\n        text-align: right;\n    }\n</style>\n<table border=\"1\" class=\"dataframe\">\n  <thead>\n    <tr style=\"text-align: right;\">\n      <th></th>\n      <th>Total day minutes</th>\n    </tr>\n    <tr>\n      <th>State</th>\n      <th></th>\n    </tr>\n  </thead>\n  <tbody>\n    <tr>\n      <th>MD</th>\n      <td>197.228571</td>\n    </tr>\n    <tr>\n      <th>IN</th>\n      <td>196.525352</td>\n    </tr>\n    <tr>\n      <th>NJ</th>\n      <td>196.225000</td>\n    </tr>\n    <tr>\n      <th>KS</th>\n      <td>191.555714</td>\n    </tr>\n    <tr>\n      <th>SD</th>\n      <td>189.690000</td>\n    </tr>\n    <tr>\n      <th>PA</th>\n      <td>188.375556</td>\n    </tr>\n    <tr>\n      <th>ND</th>\n      <td>187.338710</td>\n    </tr>\n    <tr>\n      <th>AL</th>\n      <td>186.010000</td>\n    </tr>\n    <tr>\n      <th>ME</th>\n      <td>185.262903</td>\n    </tr>\n    <tr>\n      <th>NC</th>\n      <td>185.145588</td>\n    </tr>\n    <tr>\n      <th>GA</th>\n      <td>185.025926</td>\n    </tr>\n    <tr>\n      <th>UT</th>\n      <td>183.569444</td>\n    </tr>\n    <tr>\n      <th>CA</th>\n      <td>183.564706</td>\n    </tr>\n    <tr>\n      <th>MN</th>\n      <td>183.354762</td>\n    </tr>\n    <tr>\n      <th>OH</th>\n      <td>183.274359</td>\n    </tr>\n    <tr>\n      <th>VT</th>\n      <td>182.031507</td>\n    </tr>\n    <tr>\n      <th>TX</th>\n      <td>181.516667</td>\n    </tr>\n    <tr>\n      <th>MI</th>\n      <td>180.593151</td>\n    </tr>\n    <tr>\n      <th>WY</th>\n      <td>180.170130</td>\n    </tr>\n    <tr>\n      <th>MA</th>\n      <td>180.103077</td>\n    </tr>\n    <tr>\n      <th>OK</th>\n      <td>179.909836</td>\n    </tr>\n    <tr>\n      <th>FL</th>\n      <td>179.533333</td>\n    </tr>\n    <tr>\n      <th>WI</th>\n      <td>179.130769</td>\n    </tr>\n    <tr>\n      <th>WA</th>\n      <td>178.742424</td>\n    </tr>\n    <tr>\n      <th>CO</th>\n      <td>178.712121</td>\n    </tr>\n    <tr>\n      <th>ID</th>\n      <td>178.619178</td>\n    </tr>\n    <tr>\n      <th>AK</th>\n      <td>178.384615</td>\n    </tr>\n    <tr>\n      <th>LA</th>\n      <td>178.376471</td>\n    </tr>\n    <tr>\n      <th>MS</th>\n      <td>177.929231</td>\n    </tr>\n    <tr>\n      <th>IA</th>\n      <td>177.613636</td>\n    </tr>\n    <tr>\n      <th>NE</th>\n      <td>177.465574</td>\n    </tr>\n    <tr>\n      <th>NH</th>\n      <td>177.328571</td>\n    </tr>\n    <tr>\n      <th>VA</th>\n      <td>177.244156</td>\n    </tr>\n    <tr>\n      <th>NV</th>\n      <td>176.425758</td>\n    </tr>\n    <tr>\n      <th>OR</th>\n      <td>176.246154</td>\n    </tr>\n    <tr>\n      <th>AR</th>\n      <td>176.116364</td>\n    </tr>\n    <tr>\n      <th>HI</th>\n      <td>175.962264</td>\n    </tr>\n    <tr>\n      <th>TN</th>\n      <td>175.771698</td>\n    </tr>\n    <tr>\n      <th>CT</th>\n      <td>175.140541</td>\n    </tr>\n    <tr>\n      <th>NY</th>\n      <td>175.114458</td>\n    </tr>\n    <tr>\n      <th>DE</th>\n      <td>174.583607</td>\n    </tr>\n    <tr>\n      <th>MT</th>\n      <td>174.007353</td>\n    </tr>\n    <tr>\n      <th>WV</th>\n      <td>173.950943</td>\n    </tr>\n    <tr>\n      <th>KY</th>\n      <td>173.754237</td>\n    </tr>\n    <tr>\n      <th>IL</th>\n      <td>173.591379</td>\n    </tr>\n    <tr>\n      <th>AZ</th>\n      <td>171.604688</td>\n    </tr>\n    <tr>\n      <th>NM</th>\n      <td>171.429032</td>\n    </tr>\n    <tr>\n      <th>DC</th>\n      <td>171.379630</td>\n    </tr>\n    <tr>\n      <th>MO</th>\n      <td>170.506349</td>\n    </tr>\n    <tr>\n      <th>RI</th>\n      <td>167.478462</td>\n    </tr>\n    <tr>\n      <th>SC</th>\n      <td>166.441667</td>\n    </tr>\n  </tbody>\n</table>\n</div>"
          },
          "metadata": {}
        }
      ]
    },
    {
      "cell_type": "markdown",
      "source": "**Пример.** Как распределен отток клиентов по штатам? В каких штатах он больше среднего?",
      "metadata": {}
    },
    {
      "cell_type": "code",
      "source": "f.groupby([\"State\"]).agg({\"Churn\": \"mean\"})",
      "metadata": {
        "scrolled": true,
        "trusted": true
      },
      "execution_count": 78,
      "outputs": [
        {
          "execution_count": 78,
          "output_type": "execute_result",
          "data": {
            "text/plain": "          Churn\nState          \nAK     0.057692\nAL     0.100000\nAR     0.200000\nAZ     0.062500\nCA     0.264706\nCO     0.136364\nCT     0.162162\nDC     0.092593\nDE     0.147541\nFL     0.126984\nGA     0.148148\nHI     0.056604\nIA     0.068182\nID     0.123288\nIL     0.086207\nIN     0.126761\nKS     0.185714\nKY     0.135593\nLA     0.078431\nMA     0.169231\nMD     0.242857\nME     0.209677\nMI     0.219178\nMN     0.178571\nMO     0.111111\nMS     0.215385\nMT     0.205882\nNC     0.161765\nND     0.096774\nNE     0.081967\nNH     0.160714\nNJ     0.264706\nNM     0.096774\nNV     0.212121\nNY     0.180723\nOH     0.128205\nOK     0.147541\nOR     0.141026\nPA     0.177778\nRI     0.092308\nSC     0.233333\nSD     0.133333\nTN     0.094340\nTX     0.250000\nUT     0.138889\nVA     0.064935\nVT     0.109589\nWA     0.212121\nWI     0.089744\nWV     0.094340\nWY     0.116883",
            "text/html": "<div>\n<style scoped>\n    .dataframe tbody tr th:only-of-type {\n        vertical-align: middle;\n    }\n\n    .dataframe tbody tr th {\n        vertical-align: top;\n    }\n\n    .dataframe thead th {\n        text-align: right;\n    }\n</style>\n<table border=\"1\" class=\"dataframe\">\n  <thead>\n    <tr style=\"text-align: right;\">\n      <th></th>\n      <th>Churn</th>\n    </tr>\n    <tr>\n      <th>State</th>\n      <th></th>\n    </tr>\n  </thead>\n  <tbody>\n    <tr>\n      <th>AK</th>\n      <td>0.057692</td>\n    </tr>\n    <tr>\n      <th>AL</th>\n      <td>0.100000</td>\n    </tr>\n    <tr>\n      <th>AR</th>\n      <td>0.200000</td>\n    </tr>\n    <tr>\n      <th>AZ</th>\n      <td>0.062500</td>\n    </tr>\n    <tr>\n      <th>CA</th>\n      <td>0.264706</td>\n    </tr>\n    <tr>\n      <th>CO</th>\n      <td>0.136364</td>\n    </tr>\n    <tr>\n      <th>CT</th>\n      <td>0.162162</td>\n    </tr>\n    <tr>\n      <th>DC</th>\n      <td>0.092593</td>\n    </tr>\n    <tr>\n      <th>DE</th>\n      <td>0.147541</td>\n    </tr>\n    <tr>\n      <th>FL</th>\n      <td>0.126984</td>\n    </tr>\n    <tr>\n      <th>GA</th>\n      <td>0.148148</td>\n    </tr>\n    <tr>\n      <th>HI</th>\n      <td>0.056604</td>\n    </tr>\n    <tr>\n      <th>IA</th>\n      <td>0.068182</td>\n    </tr>\n    <tr>\n      <th>ID</th>\n      <td>0.123288</td>\n    </tr>\n    <tr>\n      <th>IL</th>\n      <td>0.086207</td>\n    </tr>\n    <tr>\n      <th>IN</th>\n      <td>0.126761</td>\n    </tr>\n    <tr>\n      <th>KS</th>\n      <td>0.185714</td>\n    </tr>\n    <tr>\n      <th>KY</th>\n      <td>0.135593</td>\n    </tr>\n    <tr>\n      <th>LA</th>\n      <td>0.078431</td>\n    </tr>\n    <tr>\n      <th>MA</th>\n      <td>0.169231</td>\n    </tr>\n    <tr>\n      <th>MD</th>\n      <td>0.242857</td>\n    </tr>\n    <tr>\n      <th>ME</th>\n      <td>0.209677</td>\n    </tr>\n    <tr>\n      <th>MI</th>\n      <td>0.219178</td>\n    </tr>\n    <tr>\n      <th>MN</th>\n      <td>0.178571</td>\n    </tr>\n    <tr>\n      <th>MO</th>\n      <td>0.111111</td>\n    </tr>\n    <tr>\n      <th>MS</th>\n      <td>0.215385</td>\n    </tr>\n    <tr>\n      <th>MT</th>\n      <td>0.205882</td>\n    </tr>\n    <tr>\n      <th>NC</th>\n      <td>0.161765</td>\n    </tr>\n    <tr>\n      <th>ND</th>\n      <td>0.096774</td>\n    </tr>\n    <tr>\n      <th>NE</th>\n      <td>0.081967</td>\n    </tr>\n    <tr>\n      <th>NH</th>\n      <td>0.160714</td>\n    </tr>\n    <tr>\n      <th>NJ</th>\n      <td>0.264706</td>\n    </tr>\n    <tr>\n      <th>NM</th>\n      <td>0.096774</td>\n    </tr>\n    <tr>\n      <th>NV</th>\n      <td>0.212121</td>\n    </tr>\n    <tr>\n      <th>NY</th>\n      <td>0.180723</td>\n    </tr>\n    <tr>\n      <th>OH</th>\n      <td>0.128205</td>\n    </tr>\n    <tr>\n      <th>OK</th>\n      <td>0.147541</td>\n    </tr>\n    <tr>\n      <th>OR</th>\n      <td>0.141026</td>\n    </tr>\n    <tr>\n      <th>PA</th>\n      <td>0.177778</td>\n    </tr>\n    <tr>\n      <th>RI</th>\n      <td>0.092308</td>\n    </tr>\n    <tr>\n      <th>SC</th>\n      <td>0.233333</td>\n    </tr>\n    <tr>\n      <th>SD</th>\n      <td>0.133333</td>\n    </tr>\n    <tr>\n      <th>TN</th>\n      <td>0.094340</td>\n    </tr>\n    <tr>\n      <th>TX</th>\n      <td>0.250000</td>\n    </tr>\n    <tr>\n      <th>UT</th>\n      <td>0.138889</td>\n    </tr>\n    <tr>\n      <th>VA</th>\n      <td>0.064935</td>\n    </tr>\n    <tr>\n      <th>VT</th>\n      <td>0.109589</td>\n    </tr>\n    <tr>\n      <th>WA</th>\n      <td>0.212121</td>\n    </tr>\n    <tr>\n      <th>WI</th>\n      <td>0.089744</td>\n    </tr>\n    <tr>\n      <th>WV</th>\n      <td>0.094340</td>\n    </tr>\n    <tr>\n      <th>WY</th>\n      <td>0.116883</td>\n    </tr>\n  </tbody>\n</table>\n</div>"
          },
          "metadata": {}
        }
      ]
    },
    {
      "cell_type": "code",
      "source": "f.groupby([\"State\"]).agg({\"Churn\": \"mean\"}).loc[\"LA\"]",
      "metadata": {
        "trusted": true
      },
      "execution_count": 79,
      "outputs": [
        {
          "execution_count": 79,
          "output_type": "execute_result",
          "data": {
            "text/plain": "Churn    0.078431\nName: LA, dtype: float64"
          },
          "metadata": {}
        }
      ]
    },
    {
      "cell_type": "code",
      "source": "f.groupby([\"State\"]).agg({\"Churn\": \"mean\"}).mean()",
      "metadata": {
        "trusted": true
      },
      "execution_count": 80,
      "outputs": [
        {
          "execution_count": 80,
          "output_type": "execute_result",
          "data": {
            "text/plain": "Churn    0.144927\ndtype: float64"
          },
          "metadata": {}
        }
      ]
    },
    {
      "cell_type": "code",
      "source": "f.groupby([\"State\"]).agg({\"Churn\": \"mean\"}).mean()[0]",
      "metadata": {
        "trusted": true
      },
      "execution_count": 81,
      "outputs": [
        {
          "execution_count": 81,
          "output_type": "execute_result",
          "data": {
            "text/plain": "0.14492688214643257"
          },
          "metadata": {}
        }
      ]
    },
    {
      "cell_type": "code",
      "source": "m = f.groupby([\"State\"]).agg({\"Churn\": \"mean\"}).mean()[0]\nnew_dataframe = f.groupby([\"State\"]).agg({\"Churn\": \"mean\"})\nnew_dataframe[new_dataframe.Churn > m]",
      "metadata": {
        "trusted": true
      },
      "execution_count": 82,
      "outputs": [
        {
          "execution_count": 82,
          "output_type": "execute_result",
          "data": {
            "text/plain": "          Churn\nState          \nAR     0.200000\nCA     0.264706\nCT     0.162162\nDE     0.147541\nGA     0.148148\nKS     0.185714\nMA     0.169231\nMD     0.242857\nME     0.209677\nMI     0.219178\nMN     0.178571\nMS     0.215385\nMT     0.205882\nNC     0.161765\nNH     0.160714\nNJ     0.264706\nNV     0.212121\nNY     0.180723\nOK     0.147541\nPA     0.177778\nSC     0.233333\nTX     0.250000\nWA     0.212121",
            "text/html": "<div>\n<style scoped>\n    .dataframe tbody tr th:only-of-type {\n        vertical-align: middle;\n    }\n\n    .dataframe tbody tr th {\n        vertical-align: top;\n    }\n\n    .dataframe thead th {\n        text-align: right;\n    }\n</style>\n<table border=\"1\" class=\"dataframe\">\n  <thead>\n    <tr style=\"text-align: right;\">\n      <th></th>\n      <th>Churn</th>\n    </tr>\n    <tr>\n      <th>State</th>\n      <th></th>\n    </tr>\n  </thead>\n  <tbody>\n    <tr>\n      <th>AR</th>\n      <td>0.200000</td>\n    </tr>\n    <tr>\n      <th>CA</th>\n      <td>0.264706</td>\n    </tr>\n    <tr>\n      <th>CT</th>\n      <td>0.162162</td>\n    </tr>\n    <tr>\n      <th>DE</th>\n      <td>0.147541</td>\n    </tr>\n    <tr>\n      <th>GA</th>\n      <td>0.148148</td>\n    </tr>\n    <tr>\n      <th>KS</th>\n      <td>0.185714</td>\n    </tr>\n    <tr>\n      <th>MA</th>\n      <td>0.169231</td>\n    </tr>\n    <tr>\n      <th>MD</th>\n      <td>0.242857</td>\n    </tr>\n    <tr>\n      <th>ME</th>\n      <td>0.209677</td>\n    </tr>\n    <tr>\n      <th>MI</th>\n      <td>0.219178</td>\n    </tr>\n    <tr>\n      <th>MN</th>\n      <td>0.178571</td>\n    </tr>\n    <tr>\n      <th>MS</th>\n      <td>0.215385</td>\n    </tr>\n    <tr>\n      <th>MT</th>\n      <td>0.205882</td>\n    </tr>\n    <tr>\n      <th>NC</th>\n      <td>0.161765</td>\n    </tr>\n    <tr>\n      <th>NH</th>\n      <td>0.160714</td>\n    </tr>\n    <tr>\n      <th>NJ</th>\n      <td>0.264706</td>\n    </tr>\n    <tr>\n      <th>NV</th>\n      <td>0.212121</td>\n    </tr>\n    <tr>\n      <th>NY</th>\n      <td>0.180723</td>\n    </tr>\n    <tr>\n      <th>OK</th>\n      <td>0.147541</td>\n    </tr>\n    <tr>\n      <th>PA</th>\n      <td>0.177778</td>\n    </tr>\n    <tr>\n      <th>SC</th>\n      <td>0.233333</td>\n    </tr>\n    <tr>\n      <th>TX</th>\n      <td>0.250000</td>\n    </tr>\n    <tr>\n      <th>WA</th>\n      <td>0.212121</td>\n    </tr>\n  </tbody>\n</table>\n</div>"
          },
          "metadata": {}
        }
      ]
    },
    {
      "cell_type": "markdown",
      "source": "## Упражнения.",
      "metadata": {}
    },
    {
      "cell_type": "markdown",
      "source": "**Упражнение 3.** Найдите среднее количество звонков `Total day calls` для всего датафрейма.",
      "metadata": {}
    },
    {
      "cell_type": "code",
      "source": "s=(f[['Total day calls']].sum() / len(f[['Total day calls']])).iloc[0]\ns",
      "metadata": {
        "trusted": true
      },
      "execution_count": 4,
      "outputs": [
        {
          "execution_count": 4,
          "output_type": "execute_result",
          "data": {
            "text/plain": "100.43564356435644"
          },
          "metadata": {}
        }
      ]
    },
    {
      "cell_type": "markdown",
      "source": "**Упражнение 4.** Найдите среднее количество звонков `Total day calls` для любого выбранного вами штата.",
      "metadata": {}
    },
    {
      "cell_type": "code",
      "source": "f[f.State == 'MA'][['Total day calls']].sum() / len(f[f.State == 'MA'])",
      "metadata": {
        "trusted": true
      },
      "execution_count": 5,
      "outputs": [
        {
          "execution_count": 5,
          "output_type": "execute_result",
          "data": {
            "text/plain": "Total day calls    102.292308\ndtype: float64"
          },
          "metadata": {}
        }
      ]
    },
    {
      "cell_type": "markdown",
      "source": "**Упражнение 5.** Создайте датафрейм, в котором будет среднее количество звонков `Total day calls` для каждого штата.",
      "metadata": {}
    },
    {
      "cell_type": "code",
      "source": "arr = f.State.unique()\n\ndf = pd.DataFrame({'State': f.State.unique()})\n\narr2 = np.empty(f.State.nunique())\n\nfor i in range(f.State.nunique()):\n    arr2[i] = f[f.State == arr[i]][['Total day calls']].sum() / len(f[f.State == arr[i]])\n\ndf['Average ammount of total day calls'] = arr2\n\nprint(df)",
      "metadata": {
        "trusted": true
      },
      "execution_count": 6,
      "outputs": [
        {
          "name": "stdout",
          "text": "   State  Average ammount of total day calls\n0     KS                          101.028571\n1     OH                           99.628205\n2     NJ                          100.102941\n3     OK                          100.262295\n4     AL                           99.100000\n5     MA                          102.292308\n6     MO                           99.936508\n7     LA                          103.509804\n8     WV                          103.783019\n9     IN                          107.056338\n10    RI                          100.430769\n11    IA                          103.045455\n12    MT                           95.220588\n13    NY                           98.240964\n14    ID                          106.219178\n15    VT                          100.328767\n16    VA                          105.363636\n17    TX                           99.986111\n18    FL                          101.000000\n19    CO                           95.121212\n20    AZ                          100.109375\n21    SC                          102.466667\n22    NE                           97.409836\n23    WY                          102.220779\n24    HI                          102.811321\n25    IL                          101.689655\n26    NH                           98.964286\n27    GA                          103.055556\n28    AK                           95.269231\n29    MD                           99.357143\n30    AR                          102.145455\n31    WI                           96.679487\n32    OR                           95.730769\n33    MI                          101.205479\n34    DE                           98.639344\n35    UT                           98.958333\n36    CA                          104.500000\n37    MN                           99.119048\n38    SD                           94.816667\n39    NC                          102.794118\n40    WA                          101.196970\n41    NM                          102.241935\n42    NV                          101.424242\n43    DC                          100.166667\n44    KY                          100.338983\n45    ME                           99.500000\n46    MS                          100.707692\n47    TN                          101.452830\n48    PA                           98.644444\n49    CT                           98.432432\n50    ND                          100.145161\n",
          "output_type": "stream"
        }
      ]
    },
    {
      "cell_type": "markdown",
      "source": "**Упражнение 6.** Оставьте в созданном датафрейме строки только с теми штатами, где количество звонков `Total day calls` больше среднего по исходному датафрейму.",
      "metadata": {}
    },
    {
      "cell_type": "code",
      "source": "df[df[\"Average ammount of total day calls\"] > s]",
      "metadata": {
        "trusted": true
      },
      "execution_count": 7,
      "outputs": [
        {
          "execution_count": 7,
          "output_type": "execute_result",
          "data": {
            "text/plain": "   State  Average ammount of total day calls\n0     KS                          101.028571\n5     MA                          102.292308\n7     LA                          103.509804\n8     WV                          103.783019\n9     IN                          107.056338\n11    IA                          103.045455\n14    ID                          106.219178\n16    VA                          105.363636\n18    FL                          101.000000\n21    SC                          102.466667\n23    WY                          102.220779\n24    HI                          102.811321\n25    IL                          101.689655\n27    GA                          103.055556\n30    AR                          102.145455\n33    MI                          101.205479\n36    CA                          104.500000\n39    NC                          102.794118\n40    WA                          101.196970\n41    NM                          102.241935\n42    NV                          101.424242\n46    MS                          100.707692\n47    TN                          101.452830",
            "text/html": "<div>\n<style scoped>\n    .dataframe tbody tr th:only-of-type {\n        vertical-align: middle;\n    }\n\n    .dataframe tbody tr th {\n        vertical-align: top;\n    }\n\n    .dataframe thead th {\n        text-align: right;\n    }\n</style>\n<table border=\"1\" class=\"dataframe\">\n  <thead>\n    <tr style=\"text-align: right;\">\n      <th></th>\n      <th>State</th>\n      <th>Average ammount of total day calls</th>\n    </tr>\n  </thead>\n  <tbody>\n    <tr>\n      <th>0</th>\n      <td>KS</td>\n      <td>101.028571</td>\n    </tr>\n    <tr>\n      <th>5</th>\n      <td>MA</td>\n      <td>102.292308</td>\n    </tr>\n    <tr>\n      <th>7</th>\n      <td>LA</td>\n      <td>103.509804</td>\n    </tr>\n    <tr>\n      <th>8</th>\n      <td>WV</td>\n      <td>103.783019</td>\n    </tr>\n    <tr>\n      <th>9</th>\n      <td>IN</td>\n      <td>107.056338</td>\n    </tr>\n    <tr>\n      <th>11</th>\n      <td>IA</td>\n      <td>103.045455</td>\n    </tr>\n    <tr>\n      <th>14</th>\n      <td>ID</td>\n      <td>106.219178</td>\n    </tr>\n    <tr>\n      <th>16</th>\n      <td>VA</td>\n      <td>105.363636</td>\n    </tr>\n    <tr>\n      <th>18</th>\n      <td>FL</td>\n      <td>101.000000</td>\n    </tr>\n    <tr>\n      <th>21</th>\n      <td>SC</td>\n      <td>102.466667</td>\n    </tr>\n    <tr>\n      <th>23</th>\n      <td>WY</td>\n      <td>102.220779</td>\n    </tr>\n    <tr>\n      <th>24</th>\n      <td>HI</td>\n      <td>102.811321</td>\n    </tr>\n    <tr>\n      <th>25</th>\n      <td>IL</td>\n      <td>101.689655</td>\n    </tr>\n    <tr>\n      <th>27</th>\n      <td>GA</td>\n      <td>103.055556</td>\n    </tr>\n    <tr>\n      <th>30</th>\n      <td>AR</td>\n      <td>102.145455</td>\n    </tr>\n    <tr>\n      <th>33</th>\n      <td>MI</td>\n      <td>101.205479</td>\n    </tr>\n    <tr>\n      <th>36</th>\n      <td>CA</td>\n      <td>104.500000</td>\n    </tr>\n    <tr>\n      <th>39</th>\n      <td>NC</td>\n      <td>102.794118</td>\n    </tr>\n    <tr>\n      <th>40</th>\n      <td>WA</td>\n      <td>101.196970</td>\n    </tr>\n    <tr>\n      <th>41</th>\n      <td>NM</td>\n      <td>102.241935</td>\n    </tr>\n    <tr>\n      <th>42</th>\n      <td>NV</td>\n      <td>101.424242</td>\n    </tr>\n    <tr>\n      <th>46</th>\n      <td>MS</td>\n      <td>100.707692</td>\n    </tr>\n    <tr>\n      <th>47</th>\n      <td>TN</td>\n      <td>101.452830</td>\n    </tr>\n  </tbody>\n</table>\n</div>"
          },
          "metadata": {}
        }
      ]
    },
    {
      "cell_type": "markdown",
      "source": "**Упражнение 7.** Создайте датафрейм, в котором будует средние количества звонков `Total day calls` и `Total eve calls` для каждого штата.",
      "metadata": {}
    },
    {
      "cell_type": "code",
      "source": "arr = f.State.unique()\n#l = f.State.nunique()\n\ndf2 = pd.DataFrame({'State': f.State.unique()})\n#print(df)\n\narr2 = np.empty(f.State.nunique())\narr3 = np.empty(f.State.nunique())\n\nfor i in range(f.State.nunique()):\n    arr2[i] = f[f.State == arr[i]][['Total day calls']].sum() / len(f[f.State == arr[i]])\n    arr3[i] = f[f.State == arr[i]][['Total eve calls']].sum() / len(f[f.State == arr[i]])\n\ndf2['Average ammount of total day calls'] = arr2\ndf2['Average ammount of total eve calls'] = arr3\n\nprint(df2)",
      "metadata": {
        "trusted": true
      },
      "execution_count": 8,
      "outputs": [
        {
          "name": "stdout",
          "text": "   State  Average ammount of total day calls  \\\n0     KS                          101.028571   \n1     OH                           99.628205   \n2     NJ                          100.102941   \n3     OK                          100.262295   \n4     AL                           99.100000   \n5     MA                          102.292308   \n6     MO                           99.936508   \n7     LA                          103.509804   \n8     WV                          103.783019   \n9     IN                          107.056338   \n10    RI                          100.430769   \n11    IA                          103.045455   \n12    MT                           95.220588   \n13    NY                           98.240964   \n14    ID                          106.219178   \n15    VT                          100.328767   \n16    VA                          105.363636   \n17    TX                           99.986111   \n18    FL                          101.000000   \n19    CO                           95.121212   \n20    AZ                          100.109375   \n21    SC                          102.466667   \n22    NE                           97.409836   \n23    WY                          102.220779   \n24    HI                          102.811321   \n25    IL                          101.689655   \n26    NH                           98.964286   \n27    GA                          103.055556   \n28    AK                           95.269231   \n29    MD                           99.357143   \n30    AR                          102.145455   \n31    WI                           96.679487   \n32    OR                           95.730769   \n33    MI                          101.205479   \n34    DE                           98.639344   \n35    UT                           98.958333   \n36    CA                          104.500000   \n37    MN                           99.119048   \n38    SD                           94.816667   \n39    NC                          102.794118   \n40    WA                          101.196970   \n41    NM                          102.241935   \n42    NV                          101.424242   \n43    DC                          100.166667   \n44    KY                          100.338983   \n45    ME                           99.500000   \n46    MS                          100.707692   \n47    TN                          101.452830   \n48    PA                           98.644444   \n49    CT                           98.432432   \n50    ND                          100.145161   \n\n    Average ammount of total eve calls  \n0                           101.528571  \n1                           101.205128  \n2                           103.441176  \n3                           104.278689  \n4                            98.462500  \n5                            98.230769  \n6                           101.047619  \n7                            96.627451  \n8                            98.056604  \n9                            97.943662  \n10                           94.969231  \n11                           99.545455  \n12                           97.514706  \n13                          100.024096  \n14                          100.054795  \n15                           97.671233  \n16                           99.948052  \n17                          101.902778  \n18                          108.920635  \n19                           98.166667  \n20                          102.406250  \n21                           99.783333  \n22                          103.590164  \n23                           99.233766  \n24                           98.849057  \n25                          100.810345  \n26                           95.803571  \n27                          103.888889  \n28                           96.576923  \n29                           98.571429  \n30                           97.836364  \n31                           99.538462  \n32                           98.500000  \n33                          101.986301  \n34                           97.360656  \n35                           98.027778  \n36                          103.088235  \n37                          101.642857  \n38                           98.633333  \n39                          103.941176  \n40                           95.742424  \n41                          102.983871  \n42                           96.257576  \n43                          101.981481  \n44                           98.237288  \n45                          104.596774  \n46                          100.200000  \n47                          103.754717  \n48                          101.622222  \n49                           99.121622  \n50                          105.467742  \n",
          "output_type": "stream"
        }
      ]
    },
    {
      "cell_type": "markdown",
      "source": "**Упражнение 8.** Создайте датафрейм, в котором будует средние количества звонков `Total day calls` и `Total eve calls` для каждого штата, а также столбец со значениями True и False - ответом на вопрос, больше ли дневных звонков, чем вечерних.",
      "metadata": {}
    },
    {
      "cell_type": "code",
      "source": "arr = np.empty(f.State.nunique(), dtype = bool)\n\nfor i in range(f.State.nunique()):\n    if (df2.iloc[i,1] > df2.iloc[i,2]):\n        arr[i] = True\n    else:\n        arr[i] = False\n\ndf2['Question'] = arr\ndf2",
      "metadata": {
        "trusted": true
      },
      "execution_count": 9,
      "outputs": [
        {
          "execution_count": 9,
          "output_type": "execute_result",
          "data": {
            "text/plain": "   State  Average ammount of total day calls  \\\n0     KS                          101.028571   \n1     OH                           99.628205   \n2     NJ                          100.102941   \n3     OK                          100.262295   \n4     AL                           99.100000   \n5     MA                          102.292308   \n6     MO                           99.936508   \n7     LA                          103.509804   \n8     WV                          103.783019   \n9     IN                          107.056338   \n10    RI                          100.430769   \n11    IA                          103.045455   \n12    MT                           95.220588   \n13    NY                           98.240964   \n14    ID                          106.219178   \n15    VT                          100.328767   \n16    VA                          105.363636   \n17    TX                           99.986111   \n18    FL                          101.000000   \n19    CO                           95.121212   \n20    AZ                          100.109375   \n21    SC                          102.466667   \n22    NE                           97.409836   \n23    WY                          102.220779   \n24    HI                          102.811321   \n25    IL                          101.689655   \n26    NH                           98.964286   \n27    GA                          103.055556   \n28    AK                           95.269231   \n29    MD                           99.357143   \n30    AR                          102.145455   \n31    WI                           96.679487   \n32    OR                           95.730769   \n33    MI                          101.205479   \n34    DE                           98.639344   \n35    UT                           98.958333   \n36    CA                          104.500000   \n37    MN                           99.119048   \n38    SD                           94.816667   \n39    NC                          102.794118   \n40    WA                          101.196970   \n41    NM                          102.241935   \n42    NV                          101.424242   \n43    DC                          100.166667   \n44    KY                          100.338983   \n45    ME                           99.500000   \n46    MS                          100.707692   \n47    TN                          101.452830   \n48    PA                           98.644444   \n49    CT                           98.432432   \n50    ND                          100.145161   \n\n    Average ammount of total eve calls  Question  \n0                           101.528571     False  \n1                           101.205128     False  \n2                           103.441176     False  \n3                           104.278689     False  \n4                            98.462500      True  \n5                            98.230769      True  \n6                           101.047619     False  \n7                            96.627451      True  \n8                            98.056604      True  \n9                            97.943662      True  \n10                           94.969231      True  \n11                           99.545455      True  \n12                           97.514706     False  \n13                          100.024096     False  \n14                          100.054795      True  \n15                           97.671233      True  \n16                           99.948052      True  \n17                          101.902778     False  \n18                          108.920635     False  \n19                           98.166667     False  \n20                          102.406250     False  \n21                           99.783333      True  \n22                          103.590164     False  \n23                           99.233766      True  \n24                           98.849057      True  \n25                          100.810345      True  \n26                           95.803571      True  \n27                          103.888889     False  \n28                           96.576923     False  \n29                           98.571429      True  \n30                           97.836364      True  \n31                           99.538462     False  \n32                           98.500000     False  \n33                          101.986301     False  \n34                           97.360656      True  \n35                           98.027778      True  \n36                          103.088235      True  \n37                          101.642857     False  \n38                           98.633333     False  \n39                          103.941176     False  \n40                           95.742424      True  \n41                          102.983871     False  \n42                           96.257576      True  \n43                          101.981481     False  \n44                           98.237288      True  \n45                          104.596774     False  \n46                          100.200000      True  \n47                          103.754717     False  \n48                          101.622222     False  \n49                           99.121622     False  \n50                          105.467742     False  ",
            "text/html": "<div>\n<style scoped>\n    .dataframe tbody tr th:only-of-type {\n        vertical-align: middle;\n    }\n\n    .dataframe tbody tr th {\n        vertical-align: top;\n    }\n\n    .dataframe thead th {\n        text-align: right;\n    }\n</style>\n<table border=\"1\" class=\"dataframe\">\n  <thead>\n    <tr style=\"text-align: right;\">\n      <th></th>\n      <th>State</th>\n      <th>Average ammount of total day calls</th>\n      <th>Average ammount of total eve calls</th>\n      <th>Question</th>\n    </tr>\n  </thead>\n  <tbody>\n    <tr>\n      <th>0</th>\n      <td>KS</td>\n      <td>101.028571</td>\n      <td>101.528571</td>\n      <td>False</td>\n    </tr>\n    <tr>\n      <th>1</th>\n      <td>OH</td>\n      <td>99.628205</td>\n      <td>101.205128</td>\n      <td>False</td>\n    </tr>\n    <tr>\n      <th>2</th>\n      <td>NJ</td>\n      <td>100.102941</td>\n      <td>103.441176</td>\n      <td>False</td>\n    </tr>\n    <tr>\n      <th>3</th>\n      <td>OK</td>\n      <td>100.262295</td>\n      <td>104.278689</td>\n      <td>False</td>\n    </tr>\n    <tr>\n      <th>4</th>\n      <td>AL</td>\n      <td>99.100000</td>\n      <td>98.462500</td>\n      <td>True</td>\n    </tr>\n    <tr>\n      <th>5</th>\n      <td>MA</td>\n      <td>102.292308</td>\n      <td>98.230769</td>\n      <td>True</td>\n    </tr>\n    <tr>\n      <th>6</th>\n      <td>MO</td>\n      <td>99.936508</td>\n      <td>101.047619</td>\n      <td>False</td>\n    </tr>\n    <tr>\n      <th>7</th>\n      <td>LA</td>\n      <td>103.509804</td>\n      <td>96.627451</td>\n      <td>True</td>\n    </tr>\n    <tr>\n      <th>8</th>\n      <td>WV</td>\n      <td>103.783019</td>\n      <td>98.056604</td>\n      <td>True</td>\n    </tr>\n    <tr>\n      <th>9</th>\n      <td>IN</td>\n      <td>107.056338</td>\n      <td>97.943662</td>\n      <td>True</td>\n    </tr>\n    <tr>\n      <th>10</th>\n      <td>RI</td>\n      <td>100.430769</td>\n      <td>94.969231</td>\n      <td>True</td>\n    </tr>\n    <tr>\n      <th>11</th>\n      <td>IA</td>\n      <td>103.045455</td>\n      <td>99.545455</td>\n      <td>True</td>\n    </tr>\n    <tr>\n      <th>12</th>\n      <td>MT</td>\n      <td>95.220588</td>\n      <td>97.514706</td>\n      <td>False</td>\n    </tr>\n    <tr>\n      <th>13</th>\n      <td>NY</td>\n      <td>98.240964</td>\n      <td>100.024096</td>\n      <td>False</td>\n    </tr>\n    <tr>\n      <th>14</th>\n      <td>ID</td>\n      <td>106.219178</td>\n      <td>100.054795</td>\n      <td>True</td>\n    </tr>\n    <tr>\n      <th>15</th>\n      <td>VT</td>\n      <td>100.328767</td>\n      <td>97.671233</td>\n      <td>True</td>\n    </tr>\n    <tr>\n      <th>16</th>\n      <td>VA</td>\n      <td>105.363636</td>\n      <td>99.948052</td>\n      <td>True</td>\n    </tr>\n    <tr>\n      <th>17</th>\n      <td>TX</td>\n      <td>99.986111</td>\n      <td>101.902778</td>\n      <td>False</td>\n    </tr>\n    <tr>\n      <th>18</th>\n      <td>FL</td>\n      <td>101.000000</td>\n      <td>108.920635</td>\n      <td>False</td>\n    </tr>\n    <tr>\n      <th>19</th>\n      <td>CO</td>\n      <td>95.121212</td>\n      <td>98.166667</td>\n      <td>False</td>\n    </tr>\n    <tr>\n      <th>20</th>\n      <td>AZ</td>\n      <td>100.109375</td>\n      <td>102.406250</td>\n      <td>False</td>\n    </tr>\n    <tr>\n      <th>21</th>\n      <td>SC</td>\n      <td>102.466667</td>\n      <td>99.783333</td>\n      <td>True</td>\n    </tr>\n    <tr>\n      <th>22</th>\n      <td>NE</td>\n      <td>97.409836</td>\n      <td>103.590164</td>\n      <td>False</td>\n    </tr>\n    <tr>\n      <th>23</th>\n      <td>WY</td>\n      <td>102.220779</td>\n      <td>99.233766</td>\n      <td>True</td>\n    </tr>\n    <tr>\n      <th>24</th>\n      <td>HI</td>\n      <td>102.811321</td>\n      <td>98.849057</td>\n      <td>True</td>\n    </tr>\n    <tr>\n      <th>25</th>\n      <td>IL</td>\n      <td>101.689655</td>\n      <td>100.810345</td>\n      <td>True</td>\n    </tr>\n    <tr>\n      <th>26</th>\n      <td>NH</td>\n      <td>98.964286</td>\n      <td>95.803571</td>\n      <td>True</td>\n    </tr>\n    <tr>\n      <th>27</th>\n      <td>GA</td>\n      <td>103.055556</td>\n      <td>103.888889</td>\n      <td>False</td>\n    </tr>\n    <tr>\n      <th>28</th>\n      <td>AK</td>\n      <td>95.269231</td>\n      <td>96.576923</td>\n      <td>False</td>\n    </tr>\n    <tr>\n      <th>29</th>\n      <td>MD</td>\n      <td>99.357143</td>\n      <td>98.571429</td>\n      <td>True</td>\n    </tr>\n    <tr>\n      <th>30</th>\n      <td>AR</td>\n      <td>102.145455</td>\n      <td>97.836364</td>\n      <td>True</td>\n    </tr>\n    <tr>\n      <th>31</th>\n      <td>WI</td>\n      <td>96.679487</td>\n      <td>99.538462</td>\n      <td>False</td>\n    </tr>\n    <tr>\n      <th>32</th>\n      <td>OR</td>\n      <td>95.730769</td>\n      <td>98.500000</td>\n      <td>False</td>\n    </tr>\n    <tr>\n      <th>33</th>\n      <td>MI</td>\n      <td>101.205479</td>\n      <td>101.986301</td>\n      <td>False</td>\n    </tr>\n    <tr>\n      <th>34</th>\n      <td>DE</td>\n      <td>98.639344</td>\n      <td>97.360656</td>\n      <td>True</td>\n    </tr>\n    <tr>\n      <th>35</th>\n      <td>UT</td>\n      <td>98.958333</td>\n      <td>98.027778</td>\n      <td>True</td>\n    </tr>\n    <tr>\n      <th>36</th>\n      <td>CA</td>\n      <td>104.500000</td>\n      <td>103.088235</td>\n      <td>True</td>\n    </tr>\n    <tr>\n      <th>37</th>\n      <td>MN</td>\n      <td>99.119048</td>\n      <td>101.642857</td>\n      <td>False</td>\n    </tr>\n    <tr>\n      <th>38</th>\n      <td>SD</td>\n      <td>94.816667</td>\n      <td>98.633333</td>\n      <td>False</td>\n    </tr>\n    <tr>\n      <th>39</th>\n      <td>NC</td>\n      <td>102.794118</td>\n      <td>103.941176</td>\n      <td>False</td>\n    </tr>\n    <tr>\n      <th>40</th>\n      <td>WA</td>\n      <td>101.196970</td>\n      <td>95.742424</td>\n      <td>True</td>\n    </tr>\n    <tr>\n      <th>41</th>\n      <td>NM</td>\n      <td>102.241935</td>\n      <td>102.983871</td>\n      <td>False</td>\n    </tr>\n    <tr>\n      <th>42</th>\n      <td>NV</td>\n      <td>101.424242</td>\n      <td>96.257576</td>\n      <td>True</td>\n    </tr>\n    <tr>\n      <th>43</th>\n      <td>DC</td>\n      <td>100.166667</td>\n      <td>101.981481</td>\n      <td>False</td>\n    </tr>\n    <tr>\n      <th>44</th>\n      <td>KY</td>\n      <td>100.338983</td>\n      <td>98.237288</td>\n      <td>True</td>\n    </tr>\n    <tr>\n      <th>45</th>\n      <td>ME</td>\n      <td>99.500000</td>\n      <td>104.596774</td>\n      <td>False</td>\n    </tr>\n    <tr>\n      <th>46</th>\n      <td>MS</td>\n      <td>100.707692</td>\n      <td>100.200000</td>\n      <td>True</td>\n    </tr>\n    <tr>\n      <th>47</th>\n      <td>TN</td>\n      <td>101.452830</td>\n      <td>103.754717</td>\n      <td>False</td>\n    </tr>\n    <tr>\n      <th>48</th>\n      <td>PA</td>\n      <td>98.644444</td>\n      <td>101.622222</td>\n      <td>False</td>\n    </tr>\n    <tr>\n      <th>49</th>\n      <td>CT</td>\n      <td>98.432432</td>\n      <td>99.121622</td>\n      <td>False</td>\n    </tr>\n    <tr>\n      <th>50</th>\n      <td>ND</td>\n      <td>100.145161</td>\n      <td>105.467742</td>\n      <td>False</td>\n    </tr>\n  </tbody>\n</table>\n</div>"
          },
          "metadata": {}
        }
      ]
    },
    {
      "cell_type": "markdown",
      "source": "**Упражнение 9.** Найти долю клиентов (отношение их числа к общему количеству клиентов) с `international plan` и `voice mail plan`.",
      "metadata": {}
    },
    {
      "cell_type": "code",
      "source": "s1 = 0\ns2 = 0\n\nfor i in range(len(f)):\n    if (f.iloc[i,3] == \"Yes\"):\n        s1 += 1\n    if (f.iloc[i,4] == \"Yes\"):\n        s2 += 1\n\ndolya1 = s1 / len(f)\ndolya2 = s2 / len(f)\n\nprint(dolya1, dolya2)",
      "metadata": {
        "trusted": true
      },
      "execution_count": 10,
      "outputs": [
        {
          "name": "stdout",
          "text": "0.0969096909690969 0.27662766276627665\n",
          "output_type": "stream"
        }
      ]
    },
    {
      "cell_type": "markdown",
      "source": "**Упражнение 10.** Найти число уникальных значений `Area code`.",
      "metadata": {}
    },
    {
      "cell_type": "code",
      "source": "f[\"Area code\"].nunique()",
      "metadata": {
        "trusted": true
      },
      "execution_count": 11,
      "outputs": [
        {
          "execution_count": 11,
          "output_type": "execute_result",
          "data": {
            "text/plain": "3"
          },
          "metadata": {}
        }
      ]
    },
    {
      "cell_type": "markdown",
      "source": "**Упражнение 11.** Вывести DataFrame из 2 столбцов: число звонков в поддержку; число клиентов, звонивших столько раз. Подсказка: используйте функцию агрегации `count`.",
      "metadata": {}
    },
    {
      "cell_type": "code",
      "source": "df3 = pd.DataFrame({'Number of calls': f[\"Customer service calls\"].unique()})\narr = np.zeros(len(df3))\narr2 = np.empty(len(df3))\n\nfor i in range(len(df3)):\n    arr2[i] = df3.iloc[i]\n\nfor i in range(len(df3)):\n    arr[i] = f[f[\"Customer service calls\"] == arr2[i]].count()[0]\n\ndf3[\"Number of clients\"] = arr\n\ndf3",
      "metadata": {
        "trusted": true
      },
      "execution_count": 12,
      "outputs": [
        {
          "execution_count": 12,
          "output_type": "execute_result",
          "data": {
            "text/plain": "   Number of calls  Number of clients\n0                1             1181.0\n1                0              697.0\n2                2              759.0\n3                3              429.0\n4                4              166.0\n5                5               66.0\n6                7                9.0\n7                9                2.0\n8                6               22.0\n9                8                2.0",
            "text/html": "<div>\n<style scoped>\n    .dataframe tbody tr th:only-of-type {\n        vertical-align: middle;\n    }\n\n    .dataframe tbody tr th {\n        vertical-align: top;\n    }\n\n    .dataframe thead th {\n        text-align: right;\n    }\n</style>\n<table border=\"1\" class=\"dataframe\">\n  <thead>\n    <tr style=\"text-align: right;\">\n      <th></th>\n      <th>Number of calls</th>\n      <th>Number of clients</th>\n    </tr>\n  </thead>\n  <tbody>\n    <tr>\n      <th>0</th>\n      <td>1</td>\n      <td>1181.0</td>\n    </tr>\n    <tr>\n      <th>1</th>\n      <td>0</td>\n      <td>697.0</td>\n    </tr>\n    <tr>\n      <th>2</th>\n      <td>2</td>\n      <td>759.0</td>\n    </tr>\n    <tr>\n      <th>3</th>\n      <td>3</td>\n      <td>429.0</td>\n    </tr>\n    <tr>\n      <th>4</th>\n      <td>4</td>\n      <td>166.0</td>\n    </tr>\n    <tr>\n      <th>5</th>\n      <td>5</td>\n      <td>66.0</td>\n    </tr>\n    <tr>\n      <th>6</th>\n      <td>7</td>\n      <td>9.0</td>\n    </tr>\n    <tr>\n      <th>7</th>\n      <td>9</td>\n      <td>2.0</td>\n    </tr>\n    <tr>\n      <th>8</th>\n      <td>6</td>\n      <td>22.0</td>\n    </tr>\n    <tr>\n      <th>9</th>\n      <td>8</td>\n      <td>2.0</td>\n    </tr>\n  </tbody>\n</table>\n</div>"
          },
          "metadata": {}
        }
      ]
    },
    {
      "cell_type": "markdown",
      "source": "**Упражнение 12.** Вывести DataFrame из 2 столбцов: число звонков в поддержку; доля оттока (`Churn`). Построить график.",
      "metadata": {}
    },
    {
      "cell_type": "code",
      "source": "import matplotlib.pyplot as plt\n\ndf4 = pd.DataFrame({'Number of calls': f[\"Customer service calls\"].unique()})\narr = np.zeros(len(df3))\narr2 = np.empty(len(df3))\n\nfor i in range(len(df3)):\n    arr2[i] = df4.iloc[i]\n\nfor i in range(len(df3)):\n    arr[i] = f[(f[\"Churn\"] == True) & (f[\"Customer service calls\"] == arr2[i])].count()[0] / len(f)\n    \ndf4[\"dolya Chun\"] = arr\ndf4 = df4.sort_values(by = \"Number of calls\")\ndf4\ndf4.plot(x = \"Number of calls\", y = \"dolya Chun\")\nplt.show()",
      "metadata": {
        "trusted": true
      },
      "execution_count": 35,
      "outputs": [
        {
          "output_type": "display_data",
          "data": {
            "text/plain": "<pyolite.display.Image at 0x7575840>",
            "image/png": "[encoded data removed]"
          },
          "metadata": {}
        }
      ]
    },
    {
      "cell_type": "markdown",
      "source": "**Упражнение 13.** Найти среднюю длительность международного (`intl`) звонка.",
      "metadata": {}
    },
    {
      "cell_type": "code",
      "source": "f[\"Total intl minutes\"].max()",
      "metadata": {
        "trusted": true
      },
      "execution_count": 36,
      "outputs": [
        {
          "execution_count": 36,
          "output_type": "execute_result",
          "data": {
            "text/plain": "20.0"
          },
          "metadata": {}
        }
      ]
    },
    {
      "cell_type": "markdown",
      "source": "**Упражнение 14*.** Какие звонки дольше - дневные, вечерние или ночные? Ответ привести в формате DataFrame $3*3$: строки - число минут, число звонков, среднее время звонка. Столбцы - день, вечер, ночь",
      "metadata": {}
    },
    {
      "cell_type": "code",
      "source": "",
      "metadata": {},
      "execution_count": null,
      "outputs": []
    },
    {
      "cell_type": "markdown",
      "source": "**Упражнение 15.** Сравнить `Total day charge` для оставшихся и ушедших клиентов.",
      "metadata": {}
    },
    {
      "cell_type": "code",
      "source": "s1 = f[f[\"Churn\"] == False].iloc[:,8].sum()\ns2 = f[f[\"Churn\"] == True].iloc[:,8].sum()\nprint(\"Ostalos':\", s1, \"Ushlo:\", s2)",
      "metadata": {
        "trusted": true
      },
      "execution_count": 40,
      "outputs": [
        {
          "name": "stdout",
          "text": "Ostalos': 84874.2 Ushlo: 16989.97\n",
          "output_type": "stream"
        }
      ]
    },
    {
      "cell_type": "markdown",
      "source": "**Упражнение 16.** Отсортриуйте штаты по `Total day charge` (по возрастанию).",
      "metadata": {}
    },
    {
      "cell_type": "code",
      "source": "f.sort_values(by = \"Total day charge\")\n",
      "metadata": {
        "trusted": true
      },
      "execution_count": 41,
      "outputs": [
        {
          "execution_count": 41,
          "output_type": "execute_result",
          "data": {
            "text/plain": "     State  Account length  Area code International plan Voice mail plan  \\\n1345    SD              98        415                 No              No   \n1397    VT             101        510                 No              No   \n2736    OK             127        510                 No             Yes   \n2753    OH             134        415                 No              No   \n1986    WI              70        415                 No              No   \n...    ...             ...        ...                ...             ...   \n605     MO             112        415                 No              No   \n156     OH              83        415                 No              No   \n2594    OH             115        510                Yes              No   \n985     NY              64        415                Yes              No   \n365     CO             154        415                 No              No   \n\n      Number vmail messages  Total day minutes  Total day calls  \\\n1345                      0                0.0                0   \n1397                      0                0.0                0   \n2736                     27                2.6              113   \n2753                      0                7.8               86   \n1986                      0                7.9              100   \n...                     ...                ...              ...   \n605                       0              335.5               77   \n156                       0              337.4              120   \n2594                      0              345.3               81   \n985                       0              346.8               55   \n365                       0              350.8               75   \n\n      Total day charge  Total eve minutes  Total eve calls  Total eve charge  \\\n1345              0.00              159.6              130             13.57   \n1397              0.00              192.1              119             16.33   \n2736              0.44              254.0              102             21.59   \n2753              1.33              171.4              100             14.57   \n1986              1.34              136.4               83             11.59   \n...                ...                ...              ...               ...   \n605              57.04              212.5              109             18.06   \n156              57.36              227.4              116             19.33   \n2594             58.70              203.4              106             17.29   \n985              58.96              249.5               79             21.21   \n365              59.64              216.5               94             18.40   \n\n      Total night minutes  Total night calls  Total night charge  \\\n1345                167.1                 88                7.52   \n1397                168.8                 95                7.60   \n2736                242.7                156               10.92   \n2753                186.5                 80                8.39   \n1986                156.6                 89                7.05   \n...                   ...                ...                 ...   \n605                 265.0                132               11.93   \n156                 153.9                114                6.93   \n2594                217.5                107                9.79   \n985                 275.4                102               12.39   \n365                 253.9                100               11.43   \n\n      Total intl minutes  Total intl calls  Total intl charge  \\\n1345                 6.8                 1               1.84   \n1397                 7.2                 4               1.94   \n2736                 9.2                 5               2.48   \n2753                12.9                 2               3.48   \n1986                12.1                 1               3.27   \n...                  ...               ...                ...   \n605                 12.7                 8               3.43   \n156                 15.8                 7               4.27   \n2594                11.8                 8               3.19   \n985                 13.3                 9               3.59   \n365                 10.1                 9               2.73   \n\n      Customer service calls  Churn  \n1345                       4   True  \n1397                       1  False  \n2736                       3  False  \n2753                       2  False  \n1986                       0  False  \n...                      ...    ...  \n605                        2   True  \n156                        0   True  \n2594                       1   True  \n985                        1   True  \n365                        1   True  \n\n[3333 rows x 20 columns]",
            "text/html": "<div>\n<style scoped>\n    .dataframe tbody tr th:only-of-type {\n        vertical-align: middle;\n    }\n\n    .dataframe tbody tr th {\n        vertical-align: top;\n    }\n\n    .dataframe thead th {\n        text-align: right;\n    }\n</style>\n<table border=\"1\" class=\"dataframe\">\n  <thead>\n    <tr style=\"text-align: right;\">\n      <th></th>\n      <th>State</th>\n      <th>Account length</th>\n      <th>Area code</th>\n      <th>International plan</th>\n      <th>Voice mail plan</th>\n      <th>Number vmail messages</th>\n      <th>Total day minutes</th>\n      <th>Total day calls</th>\n      <th>Total day charge</th>\n      <th>Total eve minutes</th>\n      <th>Total eve calls</th>\n      <th>Total eve charge</th>\n      <th>Total night minutes</th>\n      <th>Total night calls</th>\n      <th>Total night charge</th>\n      <th>Total intl minutes</th>\n      <th>Total intl calls</th>\n      <th>Total intl charge</th>\n      <th>Customer service calls</th>\n      <th>Churn</th>\n    </tr>\n  </thead>\n  <tbody>\n    <tr>\n      <th>1345</th>\n      <td>SD</td>\n      <td>98</td>\n      <td>415</td>\n      <td>No</td>\n      <td>No</td>\n      <td>0</td>\n      <td>0.0</td>\n      <td>0</td>\n      <td>0.00</td>\n      <td>159.6</td>\n      <td>130</td>\n      <td>13.57</td>\n      <td>167.1</td>\n      <td>88</td>\n      <td>7.52</td>\n      <td>6.8</td>\n      <td>1</td>\n      <td>1.84</td>\n      <td>4</td>\n      <td>True</td>\n    </tr>\n    <tr>\n      <th>1397</th>\n      <td>VT</td>\n      <td>101</td>\n      <td>510</td>\n      <td>No</td>\n      <td>No</td>\n      <td>0</td>\n      <td>0.0</td>\n      <td>0</td>\n      <td>0.00</td>\n      <td>192.1</td>\n      <td>119</td>\n      <td>16.33</td>\n      <td>168.8</td>\n      <td>95</td>\n      <td>7.60</td>\n      <td>7.2</td>\n      <td>4</td>\n      <td>1.94</td>\n      <td>1</td>\n      <td>False</td>\n    </tr>\n    <tr>\n      <th>2736</th>\n      <td>OK</td>\n      <td>127</td>\n      <td>510</td>\n      <td>No</td>\n      <td>Yes</td>\n      <td>27</td>\n      <td>2.6</td>\n      <td>113</td>\n      <td>0.44</td>\n      <td>254.0</td>\n      <td>102</td>\n      <td>21.59</td>\n      <td>242.7</td>\n      <td>156</td>\n      <td>10.92</td>\n      <td>9.2</td>\n      <td>5</td>\n      <td>2.48</td>\n      <td>3</td>\n      <td>False</td>\n    </tr>\n    <tr>\n      <th>2753</th>\n      <td>OH</td>\n      <td>134</td>\n      <td>415</td>\n      <td>No</td>\n      <td>No</td>\n      <td>0</td>\n      <td>7.8</td>\n      <td>86</td>\n      <td>1.33</td>\n      <td>171.4</td>\n      <td>100</td>\n      <td>14.57</td>\n      <td>186.5</td>\n      <td>80</td>\n      <td>8.39</td>\n      <td>12.9</td>\n      <td>2</td>\n      <td>3.48</td>\n      <td>2</td>\n      <td>False</td>\n    </tr>\n    <tr>\n      <th>1986</th>\n      <td>WI</td>\n      <td>70</td>\n      <td>415</td>\n      <td>No</td>\n      <td>No</td>\n      <td>0</td>\n      <td>7.9</td>\n      <td>100</td>\n      <td>1.34</td>\n      <td>136.4</td>\n      <td>83</td>\n      <td>11.59</td>\n      <td>156.6</td>\n      <td>89</td>\n      <td>7.05</td>\n      <td>12.1</td>\n      <td>1</td>\n      <td>3.27</td>\n      <td>0</td>\n      <td>False</td>\n    </tr>\n    <tr>\n      <th>...</th>\n      <td>...</td>\n      <td>...</td>\n      <td>...</td>\n      <td>...</td>\n      <td>...</td>\n      <td>...</td>\n      <td>...</td>\n      <td>...</td>\n      <td>...</td>\n      <td>...</td>\n      <td>...</td>\n      <td>...</td>\n      <td>...</td>\n      <td>...</td>\n      <td>...</td>\n      <td>...</td>\n      <td>...</td>\n      <td>...</td>\n      <td>...</td>\n      <td>...</td>\n    </tr>\n    <tr>\n      <th>605</th>\n      <td>MO</td>\n      <td>112</td>\n      <td>415</td>\n      <td>No</td>\n      <td>No</td>\n      <td>0</td>\n      <td>335.5</td>\n      <td>77</td>\n      <td>57.04</td>\n      <td>212.5</td>\n      <td>109</td>\n      <td>18.06</td>\n      <td>265.0</td>\n      <td>132</td>\n      <td>11.93</td>\n      <td>12.7</td>\n      <td>8</td>\n      <td>3.43</td>\n      <td>2</td>\n      <td>True</td>\n    </tr>\n    <tr>\n      <th>156</th>\n      <td>OH</td>\n      <td>83</td>\n      <td>415</td>\n      <td>No</td>\n      <td>No</td>\n      <td>0</td>\n      <td>337.4</td>\n      <td>120</td>\n      <td>57.36</td>\n      <td>227.4</td>\n      <td>116</td>\n      <td>19.33</td>\n      <td>153.9</td>\n      <td>114</td>\n      <td>6.93</td>\n      <td>15.8</td>\n      <td>7</td>\n      <td>4.27</td>\n      <td>0</td>\n      <td>True</td>\n    </tr>\n    <tr>\n      <th>2594</th>\n      <td>OH</td>\n      <td>115</td>\n      <td>510</td>\n      <td>Yes</td>\n      <td>No</td>\n      <td>0</td>\n      <td>345.3</td>\n      <td>81</td>\n      <td>58.70</td>\n      <td>203.4</td>\n      <td>106</td>\n      <td>17.29</td>\n      <td>217.5</td>\n      <td>107</td>\n      <td>9.79</td>\n      <td>11.8</td>\n      <td>8</td>\n      <td>3.19</td>\n      <td>1</td>\n      <td>True</td>\n    </tr>\n    <tr>\n      <th>985</th>\n      <td>NY</td>\n      <td>64</td>\n      <td>415</td>\n      <td>Yes</td>\n      <td>No</td>\n      <td>0</td>\n      <td>346.8</td>\n      <td>55</td>\n      <td>58.96</td>\n      <td>249.5</td>\n      <td>79</td>\n      <td>21.21</td>\n      <td>275.4</td>\n      <td>102</td>\n      <td>12.39</td>\n      <td>13.3</td>\n      <td>9</td>\n      <td>3.59</td>\n      <td>1</td>\n      <td>True</td>\n    </tr>\n    <tr>\n      <th>365</th>\n      <td>CO</td>\n      <td>154</td>\n      <td>415</td>\n      <td>No</td>\n      <td>No</td>\n      <td>0</td>\n      <td>350.8</td>\n      <td>75</td>\n      <td>59.64</td>\n      <td>216.5</td>\n      <td>94</td>\n      <td>18.40</td>\n      <td>253.9</td>\n      <td>100</td>\n      <td>11.43</td>\n      <td>10.1</td>\n      <td>9</td>\n      <td>2.73</td>\n      <td>1</td>\n      <td>True</td>\n    </tr>\n  </tbody>\n</table>\n<p>3333 rows × 20 columns</p>\n</div>"
          },
          "metadata": {}
        }
      ]
    },
    {
      "cell_type": "markdown",
      "source": "**Упражнение 17.** Сделайте агрегацию по средним показателям для каждой `Area code`.",
      "metadata": {}
    },
    {
      "cell_type": "code",
      "source": "df5 = pd.DataFrame({'Area code': f[\"Area code\"].unique()})\narr = np.empty(len(df5), dtype = pd.core.series.Series)\narr2 = np.empty(len(df5))\n\nfor i in range(len(df5)):\n    arr2[i] = df5.iloc[i]\n\nfor i in range(len(df5)):\n    arr[i] = f[f[\"Area code\"] == arr2[i]].mean()\n\ndf6 = pd.DataFrame(arr[0])\n\nfor i in range(1, len(df5)):\n    df6[f\"{i}\"] = arr[i]\n    \ndf6.T",
      "metadata": {
        "trusted": true
      },
      "execution_count": 76,
      "outputs": [
        {
          "name": "stderr",
          "text": "<ipython-input-76-cd760f838820>:9: FutureWarning: Dropping of nuisance columns in DataFrame reductions (with 'numeric_only=None') is deprecated; in a future version this will raise TypeError.  Select only valid columns before calling the reduction.\n  arr[i] = f[f[\"Area code\"] == arr2[i]].mean()\n",
          "output_type": "stream"
        },
        {
          "execution_count": 76,
          "output_type": "execute_result",
          "data": {
            "text/plain": "   Account length  Area code  Number vmail messages  Total day minutes  \\\n0      101.068882      415.0               8.357704         181.592628   \n1      101.877088      408.0               7.668258         177.175418   \n2      100.246429      510.0               8.019048         178.787619   \n\n   Total day calls  Total day charge  Total eve minutes  Total eve calls  \\\n0       100.576435         30.871335         200.652085       100.503927   \n1       100.496420         30.120274         201.284248        99.788783   \n2       100.097619         30.394429         201.323929        99.671429   \n\n   Total eve charge  Total night minutes  Total night calls  \\\n0         17.055571           202.037583         100.398187   \n1         17.109308           199.214678          99.039379   \n2         17.112940           200.229048         100.601190   \n\n   Total night charge  Total intl minutes  Total intl calls  \\\n0            9.091795           10.343444          4.561934   \n1            8.964785           10.126372          4.426014   \n2            9.010310           10.138810          4.370238   \n\n   Total intl charge  Customer service calls     Churn  \n0           2.793257                1.554079  0.142598  \n1           2.734737                1.519093  0.145585  \n2           2.737857                1.623810  0.148810  ",
            "text/html": "<div>\n<style scoped>\n    .dataframe tbody tr th:only-of-type {\n        vertical-align: middle;\n    }\n\n    .dataframe tbody tr th {\n        vertical-align: top;\n    }\n\n    .dataframe thead th {\n        text-align: right;\n    }\n</style>\n<table border=\"1\" class=\"dataframe\">\n  <thead>\n    <tr style=\"text-align: right;\">\n      <th></th>\n      <th>Account length</th>\n      <th>Area code</th>\n      <th>Number vmail messages</th>\n      <th>Total day minutes</th>\n      <th>Total day calls</th>\n      <th>Total day charge</th>\n      <th>Total eve minutes</th>\n      <th>Total eve calls</th>\n      <th>Total eve charge</th>\n      <th>Total night minutes</th>\n      <th>Total night calls</th>\n      <th>Total night charge</th>\n      <th>Total intl minutes</th>\n      <th>Total intl calls</th>\n      <th>Total intl charge</th>\n      <th>Customer service calls</th>\n      <th>Churn</th>\n    </tr>\n  </thead>\n  <tbody>\n    <tr>\n      <th>0</th>\n      <td>101.068882</td>\n      <td>415.0</td>\n      <td>8.357704</td>\n      <td>181.592628</td>\n      <td>100.576435</td>\n      <td>30.871335</td>\n      <td>200.652085</td>\n      <td>100.503927</td>\n      <td>17.055571</td>\n      <td>202.037583</td>\n      <td>100.398187</td>\n      <td>9.091795</td>\n      <td>10.343444</td>\n      <td>4.561934</td>\n      <td>2.793257</td>\n      <td>1.554079</td>\n      <td>0.142598</td>\n    </tr>\n    <tr>\n      <th>1</th>\n      <td>101.877088</td>\n      <td>408.0</td>\n      <td>7.668258</td>\n      <td>177.175418</td>\n      <td>100.496420</td>\n      <td>30.120274</td>\n      <td>201.284248</td>\n      <td>99.788783</td>\n      <td>17.109308</td>\n      <td>199.214678</td>\n      <td>99.039379</td>\n      <td>8.964785</td>\n      <td>10.126372</td>\n      <td>4.426014</td>\n      <td>2.734737</td>\n      <td>1.519093</td>\n      <td>0.145585</td>\n    </tr>\n    <tr>\n      <th>2</th>\n      <td>100.246429</td>\n      <td>510.0</td>\n      <td>8.019048</td>\n      <td>178.787619</td>\n      <td>100.097619</td>\n      <td>30.394429</td>\n      <td>201.323929</td>\n      <td>99.671429</td>\n      <td>17.112940</td>\n      <td>200.229048</td>\n      <td>100.601190</td>\n      <td>9.010310</td>\n      <td>10.138810</td>\n      <td>4.370238</td>\n      <td>2.737857</td>\n      <td>1.623810</td>\n      <td>0.148810</td>\n    </tr>\n  </tbody>\n</table>\n</div>"
          },
          "metadata": {}
        }
      ]
    },
    {
      "cell_type": "markdown",
      "source": "**Упражнение 18.** Выведите датафрейм размера $3*2$: столбцы State, Churn для 100, 102 и 104 строк исходного датафрейма.",
      "metadata": {}
    },
    {
      "cell_type": "code",
      "source": "df7 = pd.DataFrame({\"State\": [f.iloc[100, 0], f.iloc[102, 0], f.iloc[104, 0]], \"Churn\": [f.iloc[100, 19], f.iloc[102, 19], f.iloc[104, 19]]}, index = [100, 102, 104])\ndf7",
      "metadata": {
        "trusted": true
      },
      "execution_count": 80,
      "outputs": [
        {
          "execution_count": 80,
          "output_type": "execute_result",
          "data": {
            "text/plain": "    State  Churn\n100    IA  False\n102    VT  False\n104    IN  False",
            "text/html": "<div>\n<style scoped>\n    .dataframe tbody tr th:only-of-type {\n        vertical-align: middle;\n    }\n\n    .dataframe tbody tr th {\n        vertical-align: top;\n    }\n\n    .dataframe thead th {\n        text-align: right;\n    }\n</style>\n<table border=\"1\" class=\"dataframe\">\n  <thead>\n    <tr style=\"text-align: right;\">\n      <th></th>\n      <th>State</th>\n      <th>Churn</th>\n    </tr>\n  </thead>\n  <tbody>\n    <tr>\n      <th>100</th>\n      <td>IA</td>\n      <td>False</td>\n    </tr>\n    <tr>\n      <th>102</th>\n      <td>VT</td>\n      <td>False</td>\n    </tr>\n    <tr>\n      <th>104</th>\n      <td>IN</td>\n      <td>False</td>\n    </tr>\n  </tbody>\n</table>\n</div>"
          },
          "metadata": {}
        }
      ]
    },
    {
      "cell_type": "markdown",
      "source": "**Упражнение 19.** Создайте датафрейм из 2 столбцов, заполненных произвольными числами. Добавьте третий столбец, равный их сумме квадратов.",
      "metadata": {}
    },
    {
      "cell_type": "code",
      "source": "df8 = pd.DataFrame({\"A\": [15, 42], \"B\": [17, 14]})\ndf8[\"C\"] = df8[\"A\"]**2 + df8[\"B\"]**2\ndf8",
      "metadata": {
        "trusted": true
      },
      "execution_count": 98,
      "outputs": [
        {
          "execution_count": 98,
          "output_type": "execute_result",
          "data": {
            "text/plain": "    A   B     C\n0  15  17   514\n1  42  14  1960",
            "text/html": "<div>\n<style scoped>\n    .dataframe tbody tr th:only-of-type {\n        vertical-align: middle;\n    }\n\n    .dataframe tbody tr th {\n        vertical-align: top;\n    }\n\n    .dataframe thead th {\n        text-align: right;\n    }\n</style>\n<table border=\"1\" class=\"dataframe\">\n  <thead>\n    <tr style=\"text-align: right;\">\n      <th></th>\n      <th>A</th>\n      <th>B</th>\n      <th>C</th>\n    </tr>\n  </thead>\n  <tbody>\n    <tr>\n      <th>0</th>\n      <td>15</td>\n      <td>17</td>\n      <td>514</td>\n    </tr>\n    <tr>\n      <th>1</th>\n      <td>42</td>\n      <td>14</td>\n      <td>1960</td>\n    </tr>\n  </tbody>\n</table>\n</div>"
          },
          "metadata": {}
        }
      ]
    },
    {
      "cell_type": "markdown",
      "source": "**Упражнение 20.** Добавьте к созданному датафрейму четвертый столбец, равный среднему значению первых трех, *используя* функцию `mean`.",
      "metadata": {}
    },
    {
      "cell_type": "code",
      "source": "df8[\"D\"] = df8.T.mean()\ndf8",
      "metadata": {
        "trusted": true
      },
      "execution_count": 99,
      "outputs": [
        {
          "execution_count": 99,
          "output_type": "execute_result",
          "data": {
            "text/plain": "    A   B     C      D\n0  15  17   514  182.0\n1  42  14  1960  672.0",
            "text/html": "<div>\n<style scoped>\n    .dataframe tbody tr th:only-of-type {\n        vertical-align: middle;\n    }\n\n    .dataframe tbody tr th {\n        vertical-align: top;\n    }\n\n    .dataframe thead th {\n        text-align: right;\n    }\n</style>\n<table border=\"1\" class=\"dataframe\">\n  <thead>\n    <tr style=\"text-align: right;\">\n      <th></th>\n      <th>A</th>\n      <th>B</th>\n      <th>C</th>\n      <th>D</th>\n    </tr>\n  </thead>\n  <tbody>\n    <tr>\n      <th>0</th>\n      <td>15</td>\n      <td>17</td>\n      <td>514</td>\n      <td>182.0</td>\n    </tr>\n    <tr>\n      <th>1</th>\n      <td>42</td>\n      <td>14</td>\n      <td>1960</td>\n      <td>672.0</td>\n    </tr>\n  </tbody>\n</table>\n</div>"
          },
          "metadata": {}
        }
      ]
    }
  ]
}